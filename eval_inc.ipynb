{
 "cells": [
  {
   "cell_type": "markdown",
   "metadata": {},
   "source": [
    "## Evaluation of Models on Incident Prediction"
   ]
  },
  {
   "cell_type": "code",
   "execution_count": 2,
   "metadata": {},
   "outputs": [
    {
     "name": "stderr",
     "output_type": "stream",
     "text": [
      "/home/ubuntu/anaconda3/envs/traffic/lib/python3.9/site-packages/tqdm/auto.py:22: TqdmWarning: IProgress not found. Please update jupyter and ipywidgets. See https://ipywidgets.readthedocs.io/en/stable/user_install.html\n",
      "  from .autonotebook import tqdm as notebook_tqdm\n"
     ]
    }
   ],
   "source": [
    "import numpy as np\n",
    "import torch\n",
    "\n",
    "from torchmetrics import Accuracy\n",
    "from torchmetrics.functional import precision_recall\n",
    "from tqdm import tqdm\n",
    "\n",
    "from train import create_parser\n",
    "from models import *"
   ]
  },
  {
   "cell_type": "markdown",
   "metadata": {},
   "source": [
    "### 1. Load Model and Data"
   ]
  },
  {
   "cell_type": "code",
   "execution_count": 3,
   "metadata": {},
   "outputs": [],
   "source": [
    "parser = create_parser()\n",
    "args = parser.parse_args(args=[])\n",
    "\n",
    "args.use_density = True\n",
    "args.use_truck_spd = True\n",
    "args.use_pv_spd = True\n",
    "args.use_speed = True\n",
    "args.use_expectation = True\n",
    "args.device = torch.device(\"cuda\" if torch.cuda.is_available() else 'cpu')"
   ]
  },
  {
   "cell_type": "code",
   "execution_count": 4,
   "metadata": {},
   "outputs": [],
   "source": [
    "traffic_model = TrafficModel(args)\n",
    "traffic_model_path = \"./checkpoints/finetune/best_exp_tmc_T_T_T_7_6_5_T.pt\"\n",
    "base_model = TrafficSeq2Seq(args)\n",
    "base_model_path = \"./checkpoints/base/best_exp_tmc_T_T_T_7_6_5_T.pt\"\n",
    "\n",
    "with open(base_model_path, \"rb\") as f_base_model, open(traffic_model_path, \"rb\") as f_traffic_model:\n",
    "        # load state dict\n",
    "        state_dict_base = torch.load(f_base_model, map_location=args.device)\n",
    "        state_dict_traffic = torch.load(f_traffic_model, map_location=args.device)\n",
    "\n",
    "        # populate state dict into models and log\n",
    "        base_model.load_state_dict(state_dict_base)\n",
    "        traffic_model.load_state_dict(state_dict_traffic)"
   ]
  },
  {
   "cell_type": "code",
   "execution_count": 5,
   "metadata": {},
   "outputs": [],
   "source": [
    "X_path = \"./data/new_X.npy\"\n",
    "Y_path = \"./data/new_Y_tmc.npy\"\n",
    "\n",
    "input = torch.from_numpy(np.load(X_path)).float()  # (29520, 1796)\n",
    "output = torch.from_numpy(np.load(Y_path)).float()   # (29520, 70, 4)\n"
   ]
  },
  {
   "cell_type": "code",
   "execution_count": 6,
   "metadata": {},
   "outputs": [],
   "source": [
    "days = 164\n",
    "daily_slots = 180\n",
    "\n",
    "X = []  # serve as model input\n",
    "Y = []  # serve as model input\n",
    "for d in range(days):\n",
    "    for i in range(daily_slots-args.in_seq_len+1):\n",
    "        X.append(input[d*days+i : d*days+i+args.in_seq_len, :])\n",
    "        Y.append(output[d*days+i : d*days+i+args.in_seq_len, ...])\n",
    "X = torch.stack(X, dim=0)  # (28536, 7, 1796)\n",
    "Y = torch.stack(Y, dim=0)  # (28536, 7, 70, 4)\n",
    "\n",
    "target = []\n",
    "for d in range(days):\n",
    "    for i in range(1, daily_slots-args.out_seq_len+1):\n",
    "        target.append(output[d*days+i : d*days+i+args.out_seq_len, ...])\n",
    "target = torch.stack(target, dim=0)  # (28536, 6, 70, 4)\n",
    "inc_target = target[...,3].int()  # (28536, 6, 70)\n",
    "spd_target = target[..., :3]  # (28536, 6, 70, 3)\n"
   ]
  },
  {
   "cell_type": "code",
   "execution_count": 7,
   "metadata": {},
   "outputs": [],
   "source": [
    "with torch.no_grad():\n",
    "    traffic_model.eval()\n",
    "    base_model.eval()\n",
    "    temp_X = X[:24]\n",
    "    temp_Y = Y[:24]\n",
    "    traffic_spd_pred, traffic_inc_pred, _ = traffic_model(temp_X, temp_Y)\n",
    "    base_spd_pred, _, _ = base_model(temp_X, temp_Y)"
   ]
  },
  {
   "cell_type": "code",
   "execution_count": 8,
   "metadata": {},
   "outputs": [
    {
     "name": "stderr",
     "output_type": "stream",
     "text": [
      "100%|██████████| 1189/1189 [00:46<00:00, 25.55it/s]\n"
     ]
    }
   ],
   "source": [
    "batch_size = 24\n",
    "traffic_spd_pred, traffic_inc_pred, base_spd_pred = [], [], []\n",
    "with torch.no_grad():\n",
    "    traffic_model.eval()\n",
    "    base_model.eval()\n",
    "    for i in tqdm(range(1189)):\n",
    "        temp_X = X[(i*24) : (i+1)*24]\n",
    "        temp_Y = Y[(i*24) : (i+1)*24]\n",
    "        temp_traffic_spd_pred, temp_traffic_inc_pred, _ = traffic_model(temp_X, temp_Y)\n",
    "        temp_base_spd_pred, _, _ = base_model(temp_X, temp_Y)\n",
    "\n",
    "        traffic_spd_pred.append(temp_traffic_spd_pred)\n",
    "        traffic_inc_pred.append(temp_traffic_inc_pred)\n",
    "        base_spd_pred.append(temp_base_spd_pred)\n",
    "\n",
    "traffic_spd_pred = torch.cat(traffic_spd_pred, dim=0)  # (28536, 6, 210)\n",
    "traffic_inc_pred = torch.cat(traffic_inc_pred, dim=0)  # (28536, 6, 70)\n",
    "base_spd_pred = torch.cat(base_spd_pred, dim=0)  # (28536, 6, 210)"
   ]
  },
  {
   "cell_type": "code",
   "execution_count": 1,
   "metadata": {},
   "outputs": [
    {
     "ename": "NameError",
     "evalue": "name 'np' is not defined",
     "output_type": "error",
     "traceback": [
      "\u001b[0;31m---------------------------------------------------------------------------\u001b[0m",
      "\u001b[0;31mNameError\u001b[0m                                 Traceback (most recent call last)",
      "\u001b[1;32m/home/ubuntu/Traffic-Prediction/eval_inc.ipynb Cell 10\u001b[0m in \u001b[0;36m<cell line: 1>\u001b[0;34m()\u001b[0m\n\u001b[0;32m----> <a href='vscode-notebook-cell://ssh-remote%2B7b22686f73744e616d65223a2268616f7775415753227d/home/ubuntu/Traffic-Prediction/eval_inc.ipynb#ch0000009vscode-remote?line=0'>1</a>\u001b[0m np\u001b[39m.\u001b[39msave(\u001b[39m\"\u001b[39m\u001b[39mtraffic_spd_pred_tmc.npy\u001b[39m\u001b[39m\"\u001b[39m, traffic_spd_pred\u001b[39m.\u001b[39mcpu()\u001b[39m.\u001b[39mdetach()\u001b[39m.\u001b[39mnumpy())\n\u001b[1;32m      <a href='vscode-notebook-cell://ssh-remote%2B7b22686f73744e616d65223a2268616f7775415753227d/home/ubuntu/Traffic-Prediction/eval_inc.ipynb#ch0000009vscode-remote?line=1'>2</a>\u001b[0m np\u001b[39m.\u001b[39msave(\u001b[39m\"\u001b[39m\u001b[39mtraffic_inc_pred_tmc.npy\u001b[39m\u001b[39m\"\u001b[39m, sigm(traffic_inc_pred)\u001b[39m.\u001b[39mcpu()\u001b[39m.\u001b[39mdetach()\u001b[39m.\u001b[39mnumpy())\n\u001b[1;32m      <a href='vscode-notebook-cell://ssh-remote%2B7b22686f73744e616d65223a2268616f7775415753227d/home/ubuntu/Traffic-Prediction/eval_inc.ipynb#ch0000009vscode-remote?line=2'>3</a>\u001b[0m np\u001b[39m.\u001b[39msave(\u001b[39m\"\u001b[39m\u001b[39mbase_spd_pred_tmc.npy\u001b[39m\u001b[39m\"\u001b[39m, base_spd_pred\u001b[39m.\u001b[39mcpu()\u001b[39m.\u001b[39mdetach()\u001b[39m.\u001b[39mnumpy())\n",
      "\u001b[0;31mNameError\u001b[0m: name 'np' is not defined"
     ]
    }
   ],
   "source": [
    "np.save(\"traffic_spd_pred_tmc.npy\", traffic_spd_pred.cpu().detach().numpy())\n",
    "np.save(\"traffic_inc_pred_tmc.npy\", sigm(traffic_inc_pred).cpu().detach().numpy())\n",
    "np.save(\"base_spd_pred_tmc.npy\", base_spd_pred.cpu().detach().numpy())"
   ]
  },
  {
   "cell_type": "code",
   "execution_count": 41,
   "metadata": {},
   "outputs": [
    {
     "name": "stdout",
     "output_type": "stream",
     "text": [
      "tensor(0.0265)\n",
      "(tensor(0.0265), tensor(1.))\n",
      "tensor(0.0265)\n",
      "(tensor(0.0265), tensor(1.))\n",
      "tensor(0.0265)\n",
      "(tensor(0.0265), tensor(1.))\n",
      "tensor(0.0265)\n",
      "(tensor(0.0265), tensor(1.))\n",
      "tensor(0.0265)\n",
      "(tensor(0.0265), tensor(1.))\n",
      "tensor(0.0265)\n",
      "(tensor(0.0265), tensor(1.0000))\n",
      "tensor(0.0265)\n",
      "(tensor(0.0265), tensor(1.0000))\n",
      "tensor(0.0266)\n",
      "(tensor(0.0265), tensor(0.9999))\n",
      "tensor(0.0269)\n",
      "(tensor(0.0265), tensor(0.9997))\n",
      "tensor(0.0275)\n",
      "(tensor(0.0265), tensor(0.9991))\n",
      "tensor(0.0294)\n",
      "(tensor(0.0265), tensor(0.9976))\n",
      "tensor(0.0351)\n",
      "(tensor(0.0265), tensor(0.9935))\n",
      "tensor(0.0523)\n",
      "(tensor(0.0267), tensor(0.9808))\n",
      "tensor(0.0983)\n",
      "(tensor(0.0270), tensor(0.9456))\n",
      "tensor(0.1992)\n",
      "(tensor(0.0276), tensor(0.8554))\n",
      "tensor(0.4176)\n",
      "(tensor(0.0288), tensor(0.6434))\n",
      "tensor(0.7402)\n",
      "(tensor(0.0320), tensor(0.3014))\n",
      "tensor(0.9278)\n",
      "(tensor(0.0394), tensor(0.0739))\n",
      "tensor(0.9706)\n",
      "(tensor(0.0472), tensor(0.0058))\n",
      "tensor(0.9735)\n",
      "(tensor(0.3220), tensor(5.9920e-05))\n"
     ]
    }
   ],
   "source": [
    "sigm = torch.nn.Sigmoid()\n",
    "thresholds = [0.05*i for i in range(20)]\n",
    "\n",
    "for t in thresholds:\n",
    "    accu_metric = Accuracy(t)\n",
    "    print(accu_metric(sigm(traffic_inc_pred), inc_target))\n",
    "    print(precision_recall(sigm(traffic_inc_pred), inc_target, threshold=t))"
   ]
  },
  {
   "cell_type": "code",
   "execution_count": 1,
   "metadata": {},
   "outputs": [
    {
     "ename": "NameError",
     "evalue": "name 'train_inc_pred' is not defined",
     "output_type": "error",
     "traceback": [
      "\u001b[0;31m---------------------------------------------------------------------------\u001b[0m",
      "\u001b[0;31mNameError\u001b[0m                                 Traceback (most recent call last)",
      "\u001b[1;32m/home/ubuntu/Traffic-Prediction/eval_inc.ipynb Cell 11\u001b[0m in \u001b[0;36m<cell line: 1>\u001b[0;34m()\u001b[0m\n\u001b[0;32m----> <a href='vscode-notebook-cell://ssh-remote%2B7b22686f73744e616d65223a2268616f7775415753227d/home/ubuntu/Traffic-Prediction/eval_inc.ipynb#ch0000010vscode-remote?line=0'>1</a>\u001b[0m train_inc_pred\n",
      "\u001b[0;31mNameError\u001b[0m: name 'train_inc_pred' is not defined"
     ]
    }
   ],
   "source": [
    "train_inc_pred"
   ]
  }
 ],
 "metadata": {
  "kernelspec": {
   "display_name": "Python 3.9.13 ('traffic')",
   "language": "python",
   "name": "python3"
  },
  "language_info": {
   "codemirror_mode": {
    "name": "ipython",
    "version": 3
   },
   "file_extension": ".py",
   "mimetype": "text/x-python",
   "name": "python",
   "nbconvert_exporter": "python",
   "pygments_lexer": "ipython3",
   "version": "3.9.13"
  },
  "orig_nbformat": 4,
  "vscode": {
   "interpreter": {
    "hash": "85286b69777ee1b08a3453e7c0fda65b18aafde91968ed40fecc16503101cb97"
   }
  }
 },
 "nbformat": 4,
 "nbformat_minor": 2
}
