{
 "cells": [
  {
   "cell_type": "markdown",
   "metadata": {},
   "source": [
    "## Evaluation of Models on Incident Prediction"
   ]
  },
  {
   "cell_type": "code",
   "execution_count": 54,
   "metadata": {},
   "outputs": [],
   "source": [
    "import numpy as np\n",
    "import torch\n",
    "\n",
    "from torchmetrics import Accuracy\n",
    "from torchmetrics.functional import precision_recall\n",
    "from tqdm import tqdm\n",
    "from datetime import datetime as dt\n",
    "from matplotlib import pyplot as plt\n",
    "\n",
    "from train import create_parser\n",
    "from models import *"
   ]
  },
  {
   "cell_type": "markdown",
   "metadata": {},
   "source": [
    "### 1. Load Model and Data"
   ]
  },
  {
   "cell_type": "code",
   "execution_count": 33,
   "metadata": {},
   "outputs": [],
   "source": [
    "parser = create_parser()\n",
    "args = parser.parse_args(args=[])\n",
    "\n",
    "args.use_density = True\n",
    "args.use_truck_spd = True\n",
    "args.use_pv_spd = True\n",
    "args.use_speed = True\n",
    "args.use_expectation = True\n",
    "args.device = torch.device(\"cuda\" if torch.cuda.is_available() else 'cpu')"
   ]
  },
  {
   "cell_type": "code",
   "execution_count": 34,
   "metadata": {},
   "outputs": [],
   "source": [
    "traffic_model = TrafficModel(args)\n",
    "traffic_model_path = \"./checkpoints/finetune/best_exp_tmc_T_T_T_7_6_5_T.pt\"\n",
    "base_model = TrafficSeq2Seq(args)\n",
    "base_model_path = \"./checkpoints/base/best_exp_tmc_T_T_T_7_6_5_T.pt\"\n",
    "X_path = \"./data/new_X.npy\"\n",
    "Y_path = \"./data/new_Y_tmc.npy\"\n",
    "sigm = torch.nn.Sigmoid()"
   ]
  },
  {
   "cell_type": "code",
   "execution_count": 35,
   "metadata": {},
   "outputs": [],
   "source": [
    "with open(base_model_path, \"rb\") as f_base_model, open(traffic_model_path, \"rb\") as f_traffic_model:\n",
    "    # load state dict\n",
    "    state_dict_base = torch.load(f_base_model, map_location=args.device)\n",
    "    state_dict_traffic = torch.load(f_traffic_model, map_location=args.device)\n",
    "\n",
    "    # populate state dict into models and log\n",
    "    base_model.load_state_dict(state_dict_base)\n",
    "    traffic_model.load_state_dict(state_dict_traffic)"
   ]
  },
  {
   "cell_type": "code",
   "execution_count": 36,
   "metadata": {},
   "outputs": [],
   "source": [
    "days = 164\n",
    "daily_slots = 180\n",
    "\n",
    "input = torch.from_numpy(np.load(X_path)).float()  # (29520, 1796)\n",
    "output = torch.from_numpy(np.load(Y_path)).float()   # (29520, 70, 4)\n",
    "\n",
    "X = []  # serve as model input\n",
    "Y = []  # serve as model input\n",
    "target = []  # ground truth\n",
    "\n",
    "for d in range(days):\n",
    "    for i in range(daily_slots-args.in_seq_len+1):\n",
    "        X.append(input[d*days+i : d*days+i+args.in_seq_len, :])\n",
    "        Y.append(output[d*days+i : d*days+i+args.in_seq_len, ...])\n",
    "X = torch.stack(X, dim=0)  # (28536, 7, 1796)\n",
    "Y = torch.stack(Y, dim=0)  # (28536, 7, 70, 4)\n",
    "\n",
    "for d in range(days):\n",
    "    for i in range(1, daily_slots-args.out_seq_len+1):\n",
    "        target.append(output[d*days+i : d*days+i+args.out_seq_len, ...])\n",
    "target = torch.stack(target, dim=0)  # (28536, 6, 70, 4)\n",
    "inc_target = target[...,3].int()  # (28536, 6, 70)\n",
    "spd_target = target[..., :3]  # (28536, 6, 70, 3)\n"
   ]
  },
  {
   "cell_type": "markdown",
   "metadata": {},
   "source": [
    "### 2. Generate Model Inference"
   ]
  },
  {
   "cell_type": "code",
   "execution_count": 37,
   "metadata": {},
   "outputs": [
    {
     "name": "stderr",
     "output_type": "stream",
     "text": [
      "100%|██████████| 1189/1189 [00:36<00:00, 32.23it/s]\n"
     ]
    }
   ],
   "source": [
    "batch_size = 24\n",
    "traffic_spd_pred, traffic_inc_pred, base_spd_pred = [], [], []\n",
    "with torch.no_grad():\n",
    "    traffic_model.eval()\n",
    "    base_model.eval()\n",
    "    for i in tqdm(range(1189)):\n",
    "        temp_X = X[(i*24) : (i+1)*24]\n",
    "        temp_Y = Y[(i*24) : (i+1)*24]\n",
    "        temp_traffic_spd_pred, temp_traffic_inc_pred, _ = traffic_model(temp_X, temp_Y)\n",
    "        temp_base_spd_pred, _, _ = base_model(temp_X, temp_Y)\n",
    "\n",
    "        traffic_spd_pred.append(temp_traffic_spd_pred)\n",
    "        traffic_inc_pred.append(temp_traffic_inc_pred)\n",
    "        base_spd_pred.append(temp_base_spd_pred)\n",
    "\n",
    "traffic_spd_pred = torch.cat(traffic_spd_pred, dim=0)  # (28536, 6, 210)\n",
    "traffic_inc_pred = sigm(torch.cat(traffic_inc_pred, dim=0))  # (28536, 6, 70)\n",
    "base_spd_pred = torch.cat(base_spd_pred, dim=0)  # (28536, 6, 210)"
   ]
  },
  {
   "cell_type": "code",
   "execution_count": 38,
   "metadata": {},
   "outputs": [],
   "source": [
    "np.save(\"traffic_spd_pred_tmc.npy\", traffic_spd_pred.cpu().detach().numpy())\n",
    "np.save(\"traffic_inc_pred_tmc.npy\", traffic_inc_pred.cpu().detach().numpy())\n",
    "np.save(\"base_spd_pred_tmc.npy\", base_spd_pred.cpu().detach().numpy())"
   ]
  },
  {
   "cell_type": "markdown",
   "metadata": {},
   "source": [
    "### 3. Effect of Incident Prediction Threshold on Accuracy VS Recall"
   ]
  },
  {
   "cell_type": "code",
   "execution_count": 39,
   "metadata": {},
   "outputs": [],
   "source": [
    "thresholds = [0.05*i for i in range(20)]\n",
    "accu = []\n",
    "recall = []\n",
    "for t in thresholds:\n",
    "    accu_metric = Accuracy(t)\n",
    "    accu.append(accu_metric(sigm(traffic_inc_pred), inc_target))\n",
    "    recall.append(precision_recall(sigm(traffic_inc_pred), inc_target, threshold=t)[1])"
   ]
  },
  {
   "cell_type": "code",
   "execution_count": 40,
   "metadata": {},
   "outputs": [],
   "source": [
    "thres_accu_recall = [np.array(thresholds), torch.tensor(accu).numpy(), torch.tensor(recall).numpy()]\n",
    "thres_accu_recall = np.stack(thres_accu_recall, axis=0)\n",
    "np.save(\"thres_accu_recall\", thres_accu_recall)"
   ]
  },
  {
   "cell_type": "markdown",
   "metadata": {},
   "source": [
    "### 4. Case Study of Timeliness\n",
    "- Here we use the actual event of Waze report: TMC 104-4441 (19th out segment, index 18) 17:15:00 on Mar 5, 2019 (24th date, index 23, starting from Feb 10, 2019)\n",
    "\n",
    "- We check our model prediction on time slots 16:50:00~17:15:00 on Mar 5, 2019"
   ]
  },
  {
   "cell_type": "code",
   "execution_count": 80,
   "metadata": {},
   "outputs": [],
   "source": [
    "time_idx = 23*174 + 129\n",
    "seg_idx = 18\n",
    "selected_inc_pred = traffic_inc_pred[time_idx, :, seg_idx]\n",
    "selected_inc_target = inc_target[time_idx, :, seg_idx]\n",
    "\n",
    "selected_traffic_spd_pred = traffic_spd_pred.reshape(-1, args.out_seq_len, args.out_dim, 3)[time_idx, :, seg_idx, :]\n",
    "selected_spd_target = spd_target[time_idx, :, seg_idx, :]\n",
    "selected_base_spd_pred = base_spd_pred.reshape(-1, args.out_seq_len, args.out_dim, 3)[time_idx, :, seg_idx, :]"
   ]
  },
  {
   "cell_type": "code",
   "execution_count": 81,
   "metadata": {},
   "outputs": [
    {
     "data": {
      "text/plain": [
       "(tensor([0.7054, 0.7160, 0.7686, 0.7942, 0.8103, 0.7997]),\n",
       " tensor([0, 0, 0, 0, 0, 0], dtype=torch.int32))"
      ]
     },
     "execution_count": 81,
     "metadata": {},
     "output_type": "execute_result"
    }
   ],
   "source": [
    "selected_inc_pred, selected_inc_target"
   ]
  },
  {
   "cell_type": "code",
   "execution_count": 85,
   "metadata": {},
   "outputs": [
    {
     "data": {
      "text/plain": [
       "tensor([[67.1597, 66.9008, 64.9611, 65.8758, 65.0900, 64.4586],\n",
       "        [64.0378, 63.8719, 63.3924, 64.1188, 63.9558, 63.6668],\n",
       "        [68.5004, 68.0913, 67.2742, 68.2603, 67.9251, 67.3199]])"
      ]
     },
     "execution_count": 85,
     "metadata": {},
     "output_type": "execute_result"
    }
   ],
   "source": [
    "selected_traffic_spd_pred.T"
   ]
  },
  {
   "cell_type": "code",
   "execution_count": 83,
   "metadata": {},
   "outputs": [
    {
     "data": {
      "text/plain": [
       "tensor([[63.0000, 59.0000, 64.0000, 62.0000, 63.0000, 63.0000],\n",
       "        [59.9394, 60.0000, 60.0000, 64.0000, 56.0000, 59.9394],\n",
       "        [63.0000, 59.0000, 65.0000, 61.0000, 65.0000, 63.0000]])"
      ]
     },
     "execution_count": 83,
     "metadata": {},
     "output_type": "execute_result"
    }
   ],
   "source": [
    "selected_spd_target.T"
   ]
  },
  {
   "cell_type": "code",
   "execution_count": 84,
   "metadata": {},
   "outputs": [
    {
     "data": {
      "text/plain": [
       "tensor([[64.6162, 66.2748, 68.2529, 69.2244, 69.3502, 69.1799],\n",
       "        [63.8547, 64.8876, 66.5837, 67.2956, 67.1768, 66.9250],\n",
       "        [65.5144, 67.2508, 69.2324, 70.1771, 70.3065, 70.1411]])"
      ]
     },
     "execution_count": 84,
     "metadata": {},
     "output_type": "execute_result"
    }
   ],
   "source": [
    "selected_base_spd_pred.T"
   ]
  },
  {
   "cell_type": "code",
   "execution_count": 123,
   "metadata": {},
   "outputs": [],
   "source": [
    "# inference on 16:45:00, as well as the following time period (17:20:00 ~ 17:45:00), \n",
    "lag = -1 # 6\n",
    "selected_traffic_spd_pred_2 = traffic_spd_pred.reshape(-1, args.out_seq_len, args.out_dim, 3)[time_idx+lag, :, seg_idx, :]\n",
    "selected_spd_target_2 = spd_target[time_idx+lag, :, seg_idx, :]\n",
    "selected_base_spd_pred_2 = base_spd_pred.reshape(-1, args.out_seq_len, args.out_dim, 3)[time_idx+lag, :, seg_idx, :]"
   ]
  },
  {
   "cell_type": "code",
   "execution_count": 124,
   "metadata": {},
   "outputs": [
    {
     "data": {
      "text/plain": [
       "tensor([0.7280, 0.7357, 0.7709, 0.7378, 0.7393, 0.7421])"
      ]
     },
     "execution_count": 124,
     "metadata": {},
     "output_type": "execute_result"
    }
   ],
   "source": [
    "traffic_inc_pred[time_idx-1, :, seg_idx]"
   ]
  },
  {
   "cell_type": "code",
   "execution_count": 125,
   "metadata": {},
   "outputs": [
    {
     "data": {
      "text/plain": [
       "tensor([[66.8232, 66.8523, 65.1955, 63.1000, 64.8696, 65.2021],\n",
       "        [64.6081, 64.8071, 64.0083, 62.9499, 63.9544, 64.0970],\n",
       "        [68.7255, 68.4531, 67.1062, 66.4765, 67.6330, 67.7268]])"
      ]
     },
     "execution_count": 125,
     "metadata": {},
     "output_type": "execute_result"
    }
   ],
   "source": [
    "selected_traffic_spd_pred_2.T"
   ]
  },
  {
   "cell_type": "code",
   "execution_count": 126,
   "metadata": {},
   "outputs": [
    {
     "data": {
      "text/plain": [
       "tensor([[68.0000, 63.0000, 59.0000, 64.0000, 62.0000, 63.0000],\n",
       "        [64.6964, 59.9394, 60.0000, 60.0000, 64.0000, 56.0000],\n",
       "        [68.0000, 63.0000, 59.0000, 65.0000, 61.0000, 65.0000]])"
      ]
     },
     "execution_count": 126,
     "metadata": {},
     "output_type": "execute_result"
    }
   ],
   "source": [
    "selected_spd_target_2.T"
   ]
  },
  {
   "cell_type": "code",
   "execution_count": 127,
   "metadata": {},
   "outputs": [
    {
     "data": {
      "text/plain": [
       "tensor([[63.9186, 65.0571, 67.0426, 68.2490, 68.7815, 68.9281],\n",
       "        [63.2506, 63.7744, 65.6257, 66.6814, 66.9713, 66.9547],\n",
       "        [64.8901, 66.0237, 67.9922, 69.1591, 69.6962, 69.8517]])"
      ]
     },
     "execution_count": 127,
     "metadata": {},
     "output_type": "execute_result"
    }
   ],
   "source": [
    "selected_base_spd_pred_2.T"
   ]
  }
 ],
 "metadata": {
  "kernelspec": {
   "display_name": "Python 3.9.12 ('base')",
   "language": "python",
   "name": "python3"
  },
  "language_info": {
   "codemirror_mode": {
    "name": "ipython",
    "version": 3
   },
   "file_extension": ".py",
   "mimetype": "text/x-python",
   "name": "python",
   "nbconvert_exporter": "python",
   "pygments_lexer": "ipython3",
   "version": "3.9.12"
  },
  "orig_nbformat": 4,
  "vscode": {
   "interpreter": {
    "hash": "4f29d747165e817a6925ad6517c8bf67c95c339c1010e69112f74fa6db8158f6"
   }
  }
 },
 "nbformat": 4,
 "nbformat_minor": 2
}
