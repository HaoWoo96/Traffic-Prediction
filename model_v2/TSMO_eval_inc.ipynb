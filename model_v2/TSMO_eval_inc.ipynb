{
 "cells": [
  {
   "cell_type": "markdown",
   "metadata": {},
   "source": [
    "## Evaluation of Models on Incident Prediction"
   ]
  },
  {
   "cell_type": "code",
   "execution_count": 4,
   "metadata": {},
   "outputs": [],
   "source": [
    "import numpy as np\n",
    "import torch\n",
    "\n",
    "from torchmetrics import Accuracy\n",
    "# from torchmetrics.functional import precision_recall\n",
    "from tqdm import tqdm\n",
    "from datetime import datetime as dt\n",
    "from matplotlib import pyplot as plt\n",
    "\n",
    "from train import create_parser\n",
    "from models import *"
   ]
  },
  {
   "cell_type": "markdown",
   "metadata": {},
   "source": [
    "### 1. Load Model and Data"
   ]
  },
  {
   "cell_type": "code",
   "execution_count": 5,
   "metadata": {},
   "outputs": [],
   "source": [
    "parser = create_parser()\n",
    "args = parser.parse_args(args=[])\n",
    "\n",
    "# For reproducibility\n",
    "seed_torch(args.seed)"
   ]
  },
  {
   "cell_type": "code",
   "execution_count": 6,
   "metadata": {},
   "outputs": [],
   "source": [
    "args.use_density = True\n",
    "args.use_truck_spd = True\n",
    "args.use_pv_spd = True\n",
    "args.use_speed = True\n",
    "args.use_expectation = True\n",
    "args.device = torch.device(\"cuda\" if torch.cuda.is_available() else 'cpu')"
   ]
  },
  {
   "cell_type": "code",
   "execution_count": 7,
   "metadata": {},
   "outputs": [],
   "source": [
    "args.county = \"TSMO\"\n",
    "args.dim_hidden = 1024\n",
    "args.LR_pos_weight = 0.2442\n",
    "args.dim_in = 4099\n",
    "args.dim_out = 583\n",
    "args.batch_size = 256"
   ]
  },
  {
   "cell_type": "code",
   "execution_count": 8,
   "metadata": {},
   "outputs": [],
   "source": [
    "traffic_model = TransFact(args).to(args.device)\n",
    "traffic_model_path = \"./checkpoints/TSMO/finetune/best_Trans_T_T_T_T_7_6_5_hidden_1024_batch_256_lr_0.00025_T.pt\"\n",
    "# base_model = Seq2SeqNoFact(args).to(args.device)\n",
    "# base_model_path = \"./checkpoints/base/best_exp_T_T_T_7_6_5_F.pt\"\n",
    "X_path = \"../data/TSMO/TSMO_np_in_5min.npy\"\n",
    "Y_path = \"../data/TSMO/TSMO_np_out_5min.npy\"\n",
    "inc_path = \"../data/waze_out_5_min_v2.npy\"\n",
    "sigm = torch.nn.Sigmoid()"
   ]
  },
  {
   "cell_type": "code",
   "execution_count": 10,
   "metadata": {},
   "outputs": [],
   "source": [
    "# with open(base_model_path, \"rb\") as f_base_model, open(traffic_model_path, \"rb\") as f_traffic_model:\n",
    "with open(traffic_model_path, \"rb\") as f_traffic_model:\n",
    "    # load state dict\n",
    "    # state_dict_base = torch.load(f_base_model, map_location=args.device)\n",
    "    state_dict_traffic = torch.load(f_traffic_model, map_location=args.device)[\"model\"]\n",
    "\n",
    "    # populate state dict into models and log\n",
    "    # base_model.load_state_dict(state_dict_base)\n",
    "    traffic_model.load_state_dict(state_dict_traffic)"
   ]
  },
  {
   "cell_type": "code",
   "execution_count": 21,
   "metadata": {},
   "outputs": [
    {
     "data": {
      "text/plain": [
       "torch.Size([46800, 4099])"
      ]
     },
     "execution_count": 21,
     "metadata": {},
     "output_type": "execute_result"
    }
   ],
   "source": [
    "input.shape"
   ]
  },
  {
   "cell_type": "code",
   "execution_count": 24,
   "metadata": {},
   "outputs": [
    {
     "name": "stderr",
     "output_type": "stream",
     "text": [
      "100%|██████████| 260/260 [00:00<00:00, 353.91it/s]\n"
     ]
    }
   ],
   "source": [
    "days = 260\n",
    "daily_slots = 180\n",
    "\n",
    "input = torch.from_numpy(np.load(X_path)).float()  # (46800, 4099)\n",
    "output = torch.from_numpy(np.load(Y_path)).float()  # (46800, 583, 5)\n",
    "# waze_out = torch.from_numpy(np.load(inc_path)).float()  # (21060, 75)\n",
    "\n",
    "X = []  # serve as model input\n",
    "Y = []  # serve as model input\n",
    "target = []  # ground truth\n",
    "inc_waze_gt = []\n",
    "\n",
    "for d in tqdm(range(days)):\n",
    "    for i in range(daily_slots-args.seq_len_in+1):\n",
    "        # X.append(input[d*days+i : d*days+i+args.seq_len_in, :])\n",
    "        # Y.append(output[d*days+i : d*days+i+args.seq_len_in, ...])\n",
    "        X.append(input[d*daily_slots+i : d*daily_slots+i+args.seq_len_in, :])\n",
    "        Y.append(output[d*daily_slots+i : d*daily_slots+i+args.seq_len_out+1, ...])\n",
    "        target.append(output[d*daily_slots+i+1 : d*daily_slots+i+args.seq_len_out+1, ...])\n",
    "X = torch.stack(X, dim=0).to(args.device)  # (45240, 7, 4099)\n",
    "Y = torch.stack(Y, dim=0).to(args.device)  # (45240, 7, 583, 5)\n",
    "target = torch.stack(target, dim=0).to(args.device)  # (45240, 6, 583, 5)\n",
    "# inc_waze_gt = torch.stack(inc_waze_gt, dim=0).int().to(args.device)  # (20358, 6, 75)\n",
    "# inc_target = target[...,1].int()  # (20358, 6, 75)\n",
    "# spd_target = target[..., :1]  # (20358, 6, 75, 1)"
   ]
  },
  {
   "cell_type": "markdown",
   "metadata": {},
   "source": [
    "### 2. Generate Model Inference"
   ]
  },
  {
   "cell_type": "code",
   "execution_count": 26,
   "metadata": {},
   "outputs": [
    {
     "name": "stderr",
     "output_type": "stream",
     "text": [
      "100%|██████████| 1885/1885 [03:24<00:00,  9.20it/s]\n"
     ]
    }
   ],
   "source": [
    "batch_size = 24\n",
    "traffic_spd_pred, traffic_inc_pred, base_spd_pred = [], [], []\n",
    "with torch.no_grad():\n",
    "    traffic_model.eval()\n",
    "    # base_model.eval()\n",
    "    for i in tqdm(range(1885)):\n",
    "        temp_X = X[(i*24) : (i+1)*24]\n",
    "        temp_Y = Y[(i*24) : (i+1)*24]\n",
    "        temp_traffic_spd_pred, temp_traffic_inc_pred, _ = traffic_model(temp_X, temp_Y, mode=\"eval\")\n",
    "        # temp_base_spd_pred, _, _ = base_model(temp_X, temp_Y)\n",
    "\n",
    "        traffic_spd_pred.append(temp_traffic_spd_pred)\n",
    "        traffic_inc_pred.append(temp_traffic_inc_pred)\n",
    "        # base_spd_pred.append(temp_base_spd_pred)\n",
    "\n",
    "traffic_spd_pred = torch.cat(traffic_spd_pred, dim=0)  # (45240, 6, 583)\n",
    "traffic_inc_pred = sigm(torch.cat(traffic_inc_pred, dim=0))  # (45240, 6, 583)\n",
    "# base_spd_pred = torch.cat(base_spd_pred, dim=0)  # (28536, 6, 210)"
   ]
  },
  {
   "cell_type": "code",
   "execution_count": 28,
   "metadata": {},
   "outputs": [],
   "source": [
    "np.save(\"TSMO_traffic_spd_pred.npy\", traffic_spd_pred.cpu().detach().numpy())\n",
    "np.save(\"TSMO_traffic_inc_pred.npy\", traffic_inc_pred.cpu().detach().numpy())\n",
    "# np.save(\"TSMO_base_spd_pred.npy\", base_spd_pred.cpu().detach().numpy())"
   ]
  },
  {
   "cell_type": "markdown",
   "metadata": {},
   "source": [
    "### 3. Effect of Incident Prediction Threshold on Accuracy VS Recall"
   ]
  },
  {
   "cell_type": "code",
   "execution_count": 39,
   "metadata": {},
   "outputs": [],
   "source": [
    "thresholds = [0.05*i for i in range(20)]\n",
    "accu = []\n",
    "recall = []\n",
    "for t in thresholds:\n",
    "    accu_metric = Accuracy(t)\n",
    "    accu.append(accu_metric(sigm(traffic_inc_pred), inc_target))\n",
    "    recall.append(precision_recall(sigm(traffic_inc_pred), inc_target, threshold=t)[1])"
   ]
  },
  {
   "cell_type": "code",
   "execution_count": 40,
   "metadata": {},
   "outputs": [],
   "source": [
    "thres_accu_recall = [np.array(thresholds), torch.tensor(accu).numpy(), torch.tensor(recall).numpy()]\n",
    "thres_accu_recall = np.stack(thres_accu_recall, axis=0)\n",
    "np.save(\"thres_accu_recall\", thres_accu_recall)"
   ]
  },
  {
   "cell_type": "markdown",
   "metadata": {},
   "source": [
    "### 4. Case Study of Timeliness\n",
    "- Here we use the actual event of Waze report: TMC 104-4441 (19th out segment, index 18) 17:15:00 on Mar 5, 2019 (24th date, index 23, starting from Feb 10, 2019)\n",
    "\n",
    "- We check our model prediction on time slots 16:50:00~17:15:00 on Mar 5, 2019"
   ]
  },
  {
   "cell_type": "code",
   "execution_count": 98,
   "metadata": {},
   "outputs": [],
   "source": [
    "time_idx = 663 # 3*174 + 141 #23*174 + 129\n",
    "seg_idx = 18\n",
    "selected_inc_pred = traffic_inc_pred[time_idx, :, seg_idx]\n",
    "# selected_inc_target = inc_target[time_idx, :, seg_idx]\n",
    "selected_inc_target = inc_waze_gt[time_idx, :, seg_idx]\n",
    "\n",
    "selected_traffic_spd_pred = traffic_spd_pred.reshape(-1, args.seq_len_out, args.out_dim)[time_idx, :, seg_idx]\n",
    "selected_spd_target = spd_target[time_idx, :, seg_idx]\n",
    "selected_base_spd_pred = base_spd_pred.reshape(-1, args.seq_len_out, args.out_dim)[time_idx, :, seg_idx]"
   ]
  },
  {
   "cell_type": "code",
   "execution_count": 97,
   "metadata": {},
   "outputs": [
    {
     "data": {
      "text/plain": [
       "tensor([1, 1, 1, 1, 1, 1], device='cuda:0', dtype=torch.int32)"
      ]
     },
     "execution_count": 97,
     "metadata": {},
     "output_type": "execute_result"
    }
   ],
   "source": [
    "inc_waze_gt[663, :, seg_idx]"
   ]
  },
  {
   "cell_type": "code",
   "execution_count": 99,
   "metadata": {},
   "outputs": [
    {
     "data": {
      "text/plain": [
       "(tensor([0.8859, 0.8529, 0.8343, 0.8417, 0.8405, 0.8346], device='cuda:0'),\n",
       " tensor([1, 1, 1, 1, 1, 1], device='cuda:0', dtype=torch.int32))"
      ]
     },
     "execution_count": 99,
     "metadata": {},
     "output_type": "execute_result"
    }
   ],
   "source": [
    "selected_inc_pred, selected_inc_target"
   ]
  },
  {
   "cell_type": "code",
   "execution_count": 100,
   "metadata": {},
   "outputs": [
    {
     "data": {
      "text/plain": [
       "tensor([58.9597, 65.3369, 66.4474, 67.2265, 66.0705, 71.2776], device='cuda:0')"
      ]
     },
     "execution_count": 100,
     "metadata": {},
     "output_type": "execute_result"
    }
   ],
   "source": [
    "selected_traffic_spd_pred.T"
   ]
  },
  {
   "cell_type": "code",
   "execution_count": 101,
   "metadata": {},
   "outputs": [
    {
     "data": {
      "text/plain": [
       "tensor([[68., 68., 67., 62., 62., 72.]], device='cuda:0')"
      ]
     },
     "execution_count": 101,
     "metadata": {},
     "output_type": "execute_result"
    }
   ],
   "source": [
    "selected_spd_target.T"
   ]
  },
  {
   "cell_type": "code",
   "execution_count": 102,
   "metadata": {},
   "outputs": [
    {
     "data": {
      "text/plain": [
       "tensor([65.0479, 60.7633, 62.5623, 62.9894, 61.3666, 60.7738], device='cuda:0')"
      ]
     },
     "execution_count": 102,
     "metadata": {},
     "output_type": "execute_result"
    }
   ],
   "source": [
    "selected_base_spd_pred.T"
   ]
  },
  {
   "cell_type": "code",
   "execution_count": 123,
   "metadata": {},
   "outputs": [],
   "source": [
    "# inference on 16:45:00, as well as the following time period (17:20:00 ~ 17:45:00), \n",
    "lag = -1 # 6\n",
    "selected_traffic_spd_pred_2 = traffic_spd_pred.reshape(-1, args.seq_len_out, args.out_dim, 3)[time_idx+lag, :, seg_idx, :]\n",
    "selected_spd_target_2 = spd_target[time_idx+lag, :, seg_idx, :]\n",
    "selected_base_spd_pred_2 = base_spd_pred.reshape(-1, args.seq_len_out, args.out_dim, 3)[time_idx+lag, :, seg_idx, :]"
   ]
  },
  {
   "cell_type": "code",
   "execution_count": 124,
   "metadata": {},
   "outputs": [
    {
     "data": {
      "text/plain": [
       "tensor([0.7280, 0.7357, 0.7709, 0.7378, 0.7393, 0.7421])"
      ]
     },
     "execution_count": 124,
     "metadata": {},
     "output_type": "execute_result"
    }
   ],
   "source": [
    "traffic_inc_pred[time_idx-1, :, seg_idx]"
   ]
  },
  {
   "cell_type": "code",
   "execution_count": 125,
   "metadata": {},
   "outputs": [
    {
     "data": {
      "text/plain": [
       "tensor([[66.8232, 66.8523, 65.1955, 63.1000, 64.8696, 65.2021],\n",
       "        [64.6081, 64.8071, 64.0083, 62.9499, 63.9544, 64.0970],\n",
       "        [68.7255, 68.4531, 67.1062, 66.4765, 67.6330, 67.7268]])"
      ]
     },
     "execution_count": 125,
     "metadata": {},
     "output_type": "execute_result"
    }
   ],
   "source": [
    "selected_traffic_spd_pred_2.T"
   ]
  },
  {
   "cell_type": "code",
   "execution_count": 126,
   "metadata": {},
   "outputs": [
    {
     "data": {
      "text/plain": [
       "tensor([[68.0000, 63.0000, 59.0000, 64.0000, 62.0000, 63.0000],\n",
       "        [64.6964, 59.9394, 60.0000, 60.0000, 64.0000, 56.0000],\n",
       "        [68.0000, 63.0000, 59.0000, 65.0000, 61.0000, 65.0000]])"
      ]
     },
     "execution_count": 126,
     "metadata": {},
     "output_type": "execute_result"
    }
   ],
   "source": [
    "selected_spd_target_2.T"
   ]
  },
  {
   "cell_type": "code",
   "execution_count": 127,
   "metadata": {},
   "outputs": [
    {
     "data": {
      "text/plain": [
       "tensor([[63.9186, 65.0571, 67.0426, 68.2490, 68.7815, 68.9281],\n",
       "        [63.2506, 63.7744, 65.6257, 66.6814, 66.9713, 66.9547],\n",
       "        [64.8901, 66.0237, 67.9922, 69.1591, 69.6962, 69.8517]])"
      ]
     },
     "execution_count": 127,
     "metadata": {},
     "output_type": "execute_result"
    }
   ],
   "source": [
    "selected_base_spd_pred_2.T"
   ]
  }
 ],
 "metadata": {
  "kernelspec": {
   "display_name": "Python 3.10.6 ('traffic')",
   "language": "python",
   "name": "python3"
  },
  "language_info": {
   "codemirror_mode": {
    "name": "ipython",
    "version": 3
   },
   "file_extension": ".py",
   "mimetype": "text/x-python",
   "name": "python",
   "nbconvert_exporter": "python",
   "pygments_lexer": "ipython3",
   "version": "3.10.8"
  },
  "orig_nbformat": 4,
  "vscode": {
   "interpreter": {
    "hash": "4c7976fd35f11d6b5acd37b5df05c2b1d9460872f4ccb0abe3e95e9a1eb343e6"
   }
  }
 },
 "nbformat": 4,
 "nbformat_minor": 2
}
