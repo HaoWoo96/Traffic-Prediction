{
 "cells": [
  {
   "cell_type": "code",
   "execution_count": 2,
   "metadata": {},
   "outputs": [],
   "source": [
    "import numpy as np\n",
    "\n",
    "from sklearn.linear_model import MultiTaskLasso, Lasso, ElasticNet\n",
    "from sklearn.model_selection import train_test_split\n",
    "from sklearn.metrics import mean_squared_error, mean_absolute_percentage_error\n",
    "from tqdm import tqdm"
   ]
  },
  {
   "cell_type": "code",
   "execution_count": 2,
   "metadata": {},
   "outputs": [],
   "source": [
    "in_seq_len = 7\n",
    "out_seq_len = 6\n",
    "out_freq = 5\n",
    "days = 164\n",
    "daily_slots_5_min = 180\n",
    "daily_slots_1_min = 900\n",
    "seed = 42\n",
    "\n",
    "input = np.load(\"../data/new_X.npy\")  # (29520, 1796)\n",
    "output_tmc = np.load(\"../data/new_Y_tmc.npy\")[..., :3]  # (29520, 70, 3)\n",
    "output_xd = np.load(\"../data/new_Y_xd.npy\")[..., 0]  # (147600, 70)"
   ]
  },
  {
   "cell_type": "code",
   "execution_count": null,
   "metadata": {},
   "outputs": [],
   "source": [
    "# prepare X\n",
    "X = []\n",
    "for d in range(days):\n",
    "    for i in range(daily_slots_5_min-in_seq_len+1):\n",
    "        X.append(input[d*days+i : d*days+i+in_seq_len])\n",
    "X = np.stack(X, axis=0) # (28536, 7, 1796)"
   ]
  },
  {
   "cell_type": "code",
   "execution_count": null,
   "metadata": {},
   "outputs": [],
   "source": [
    "# prepare Y_xd\n",
    "Y_xd = []\n",
    "for d in range(days):\n",
    "    for i in range(1, daily_slots_5_min-out_seq_len+1):\n",
    "        Y_xd.append(output_xd[[d*days+j*out_freq for j in range(i, i+out_seq_len)],...])\n",
    "Y_xd = np.stack(Y_xd, axis=0) # (28536, 6, 70)"
   ]
  }
 ],
 "metadata": {
  "kernelspec": {
   "display_name": "Python 3.10.8 ('traffic')",
   "language": "python",
   "name": "python3"
  },
  "language_info": {
   "codemirror_mode": {
    "name": "ipython",
    "version": 3
   },
   "file_extension": ".py",
   "mimetype": "text/x-python",
   "name": "python",
   "nbconvert_exporter": "python",
   "pygments_lexer": "ipython3",
   "version": "3.10.8 | packaged by conda-forge | (main, Nov 24 2022, 14:07:00) [MSC v.1916 64 bit (AMD64)]"
  },
  "orig_nbformat": 4,
  "vscode": {
   "interpreter": {
    "hash": "25d1404f5f810922282a4fd0b307829315f09bb3ea3a8ef66ad09b04e644cc7b"
   }
  }
 },
 "nbformat": 4,
 "nbformat_minor": 2
}
