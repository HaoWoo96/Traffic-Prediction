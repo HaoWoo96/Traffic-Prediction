{
 "cells": [
  {
   "cell_type": "markdown",
   "metadata": {},
   "source": [
    "### Baseline - Historical Average"
   ]
  },
  {
   "cell_type": "code",
   "execution_count": 1,
   "metadata": {},
   "outputs": [],
   "source": [
    "import numpy as np"
   ]
  },
  {
   "cell_type": "code",
   "execution_count": 8,
   "metadata": {},
   "outputs": [],
   "source": [
    "num_days = 117 # business days from Feb 10 to Jul 24, 2019\n",
    "num_daily_slots = 180\n",
    "num_seg = 207\n",
    "\n",
    "spd_tmc = np.load(\"../../data/np_out_5min.npy\")[..., 0]  # (21060, 207)\n",
    "inc_tmc = np.load(\"../../data/np_out_5min.npy\")[..., 3]  # (21060, 207)"
   ]
  },
  {
   "cell_type": "code",
   "execution_count": 9,
   "metadata": {},
   "outputs": [],
   "source": [
    "# compute historical average \n",
    "ha_target_tmc = spd_tmc[num_daily_slots:]\n",
    "spd_tmc = spd_tmc.reshape(num_days, num_daily_slots, num_seg)\n",
    "ha_pred_tmc = []\n",
    "for i in range(1, num_days):\n",
    "    ha_pred_tmc.append(np.mean(spd_tmc[:i], axis=0))\n",
    "ha_pred_tmc = np.concatenate(ha_pred_tmc, axis=0)  # (20880, 207)\n"
   ]
  },
  {
   "cell_type": "code",
   "execution_count": 11,
   "metadata": {},
   "outputs": [],
   "source": [
    "ha_mse_tmc = (np.mean((ha_target_tmc-ha_pred_tmc)**2))**0.5  # 7.5179711032907806\n",
    "ha_mape_tmc = np.mean(np.abs(ha_target_tmc-ha_pred_tmc)/ha_target_tmc)  # 0.1826664077919074"
   ]
  },
  {
   "cell_type": "code",
   "execution_count": 12,
   "metadata": {},
   "outputs": [
    {
     "data": {
      "text/plain": [
       "(7.5179711032907806, 0.1826664077919074)"
      ]
     },
     "execution_count": 12,
     "metadata": {},
     "output_type": "execute_result"
    }
   ],
   "source": [
    "ha_mse_tmc, ha_mape_tmc"
   ]
  }
 ],
 "metadata": {
  "kernelspec": {
   "display_name": "Python 3.10.6 ('traffic')",
   "language": "python",
   "name": "python3"
  },
  "language_info": {
   "codemirror_mode": {
    "name": "ipython",
    "version": 3
   },
   "file_extension": ".py",
   "mimetype": "text/x-python",
   "name": "python",
   "nbconvert_exporter": "python",
   "pygments_lexer": "ipython3",
   "version": "3.10.6"
  },
  "orig_nbformat": 4,
  "vscode": {
   "interpreter": {
    "hash": "4c7976fd35f11d6b5acd37b5df05c2b1d9460872f4ccb0abe3e95e9a1eb343e6"
   }
  }
 },
 "nbformat": 4,
 "nbformat_minor": 2
}
