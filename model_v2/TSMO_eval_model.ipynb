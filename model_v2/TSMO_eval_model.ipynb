{
 "cells": [
  {
   "cell_type": "code",
   "execution_count": 1,
   "metadata": {},
   "outputs": [
    {
     "name": "stderr",
     "output_type": "stream",
     "text": [
      "c:\\Users\\haowu\\Anaconda3\\envs\\traffic\\lib\\site-packages\\tqdm\\auto.py:22: TqdmWarning: IProgress not found. Please update jupyter and ipywidgets. See https://ipywidgets.readthedocs.io/en/stable/user_install.html\n",
      "  from .autonotebook import tqdm as notebook_tqdm\n"
     ]
    }
   ],
   "source": [
    "import torch\n",
    "\n",
    "import numpy as np\n",
    "import torch\n",
    "import os\n",
    "import argparse\n",
    "\n",
    "from torch.utils.data import DataLoader, Dataset, Subset\n",
    "\n",
    "from utils import seed_torch, seed_worker\n",
    "from train import create_parser\n",
    "from models import *\n",
    "from modules import *"
   ]
  },
  {
   "cell_type": "code",
   "execution_count": 5,
   "metadata": {},
   "outputs": [],
   "source": [
    "parser = create_parser()\n",
    "# Be careful to use parser.parse_args([]) instead of parser.parse_args(). Otherwise it will prompt error. \n",
    "# The issue lies in JupyterNotebook\n",
    "# See answer in https://stackoverflow.com/questions/50360012/python-argparse-error-error-argument-count-invalid-int-value for more details\n",
    "args_1 = parser.parse_args([])\n",
    "args_2 = parser.parse_args([])\n",
    "args_3 = parser.parse_args([])\n",
    "args_4 = parser.parse_args([])\n",
    "args_enc = parser.parse_args([])\n",
    "args_dec = parser.parse_args([])\n",
    "\n",
    "for args in [args_1, args_2, args_3, args_4, args_enc, args_dec]:\n",
    "        args.dim_hidden = 1024\n",
    "        args.LR_pos_weight = 0.2442\n",
    "        args.dim_in = 4099\n",
    "        args.dim_out = 583\n",
    "        args.batch_size = 256\n",
    "        args.device = torch.device(\"cuda\" if torch.cuda.is_available() else 'cpu')"
   ]
  },
  {
   "cell_type": "code",
   "execution_count": null,
   "metadata": {},
   "outputs": [],
   "source": []
  },
  {
   "attachments": {},
   "cell_type": "markdown",
   "metadata": {},
   "source": [
    "### 1. Module Parameters"
   ]
  },
  {
   "cell_type": "code",
   "execution_count": 6,
   "metadata": {},
   "outputs": [],
   "source": [
    "args_enc.dim_hidden = 448\n",
    "args_dec.dim_hidden = 448"
   ]
  },
  {
   "cell_type": "code",
   "execution_count": 7,
   "metadata": {},
   "outputs": [],
   "source": [
    "enc_rnn = EncoderRNN(args_enc)\n",
    "dec_rnn_LR = AttnDecoderRNN(args_dec)\n",
    "dec_rnn_noLR = AttnDecoderRNN(args_dec)\n",
    "\n",
    "num_total_enc_rnn = sum([p.numel() for p in enc_rnn.parameters()])\n",
    "num_total_dec_rnn_LR = sum([p.numel() for p in dec_rnn_LR.parameters()])\n",
    "num_total_dec_rnn_noLR = sum([p.numel() for p in dec_rnn_noLR.parameters()])\n",
    "\n",
    "num_trainable_enc_rnn = sum([p.numel() for p in enc_rnn.parameters() if p.requires_grad])\n",
    "num_trainable_dec_rnn_LR = sum([p.numel() for p in dec_rnn_LR.parameters() if p.requires_grad])\n",
    "num_trainable_dec_rnn_noLR = sum([p.numel() for p in dec_rnn_noLR.parameters() if p.requires_grad])"
   ]
  },
  {
   "cell_type": "code",
   "execution_count": 8,
   "metadata": {},
   "outputs": [
    {
     "data": {
      "text/plain": [
       "(4251520, 4007535, 4007535)"
      ]
     },
     "execution_count": 8,
     "metadata": {},
     "output_type": "execute_result"
    }
   ],
   "source": [
    "num_total_enc_rnn, num_total_dec_rnn_LR, num_total_dec_rnn_noLR"
   ]
  },
  {
   "cell_type": "code",
   "execution_count": 10,
   "metadata": {},
   "outputs": [
    {
     "data": {
      "text/plain": [
       "(4251520, 4007535, 4007535)"
      ]
     },
     "execution_count": 10,
     "metadata": {},
     "output_type": "execute_result"
    }
   ],
   "source": [
    "num_trainable_enc_rnn, num_trainable_dec_rnn_LR, num_trainable_dec_rnn_noLR"
   ]
  },
  {
   "cell_type": "code",
   "execution_count": 11,
   "metadata": {},
   "outputs": [],
   "source": [
    "enc_trans = EncoderTrans(args_enc)\n",
    "dec_trans_LR = DecoderTrans(args_dec)\n",
    "dec_trans_noLR = DecoderTrans(args_dec)\n",
    "\n",
    "num_total_enc_trans = sum([p.numel() for p in enc_trans.parameters()])\n",
    "num_total_dec_trans_LR = sum([p.numel() for p in dec_trans_LR.parameters()])\n",
    "num_total_dec_trans_noLR = sum([p.numel() for p in dec_trans_noLR.parameters()])\n",
    "\n",
    "num_trainable_enc_trans = sum([p.numel() for p in enc_trans.parameters() if p.requires_grad])\n",
    "num_trainable_dec_trans_LR = sum([p.numel() for p in dec_trans_LR.parameters() if p.requires_grad])\n",
    "num_trainable_dec_trans_noLR = sum([p.numel() for p in dec_trans_noLR.parameters() if p.requires_grad])"
   ]
  },
  {
   "cell_type": "code",
   "execution_count": 12,
   "metadata": {},
   "outputs": [
    {
     "data": {
      "text/plain": [
       "(9769408, 11414143, 11414143)"
      ]
     },
     "execution_count": 12,
     "metadata": {},
     "output_type": "execute_result"
    }
   ],
   "source": [
    "num_total_enc_trans, num_total_dec_trans_LR, num_total_dec_trans_noLR"
   ]
  },
  {
   "attachments": {},
   "cell_type": "markdown",
   "metadata": {},
   "source": [
    "### 2. Model Parameters"
   ]
  },
  {
   "cell_type": "code",
   "execution_count": 13,
   "metadata": {},
   "outputs": [
    {
     "data": {
      "text/plain": [
       "(1024, 1024, 1024, 1024)"
      ]
     },
     "execution_count": 13,
     "metadata": {},
     "output_type": "execute_result"
    }
   ],
   "source": [
    "args_1.dim_hidden, args_2.dim_hidden, args_3.dim_hidden, args_4.dim_hidden"
   ]
  },
  {
   "cell_type": "code",
   "execution_count": 14,
   "metadata": {},
   "outputs": [],
   "source": [
    "seq2seq_no_fact = Seq2SeqNoFact(args_1)\n",
    "seq2seq_fact = Seq2SeqFact(args_2)\n",
    "seq2seq_naive_2enc = Seq2SeqFactNaive_2enc(args_3)\n",
    "seq2seq_naive = Seq2SeqFactNaive(args_4)"
   ]
  },
  {
   "cell_type": "code",
   "execution_count": 15,
   "metadata": {},
   "outputs": [],
   "source": [
    "# Initialize models\n",
    "seq2seq_no_fact = Seq2SeqNoFact(args_1)\n",
    "seq2seq_fact = Seq2SeqFact(args_2)\n",
    "seq2seq_naive_2enc = Seq2SeqFactNaive_2enc(args_3)\n",
    "seq2seq_naive = Seq2SeqFactNaive(args_4)\n",
    "\n",
    "# Find number of parameters of each model \n",
    "num_total_seq2seq_no_fact = sum([p.numel() for p in seq2seq_no_fact.parameters()])\n",
    "num_total_seq2seq_fact = sum([p.numel() for p in seq2seq_fact.parameters()])\n",
    "num_total_seq2seq_naive_2enc = sum([p.numel() for p in seq2seq_naive_2enc.parameters()])\n",
    "num_total_seq2seq_naive = sum([p.numel() for p in seq2seq_naive.parameters()])\n",
    "\n",
    "# Find number of parameters of each model\n",
    "num_trainable_seq2seq_no_fact = sum([p.numel() for p in seq2seq_no_fact.parameters() if p.requires_grad])\n",
    "num_trainable_seq2seq_fact = sum([p.numel() for p in seq2seq_fact.parameters() if p.requires_grad])\n",
    "num_trainable_seq2seq_naive_2enc = sum([p.numel() for p in seq2seq_naive_2enc.parameters() if p.requires_grad])\n",
    "num_trainable_seq2seq_naive = sum([p.numel() for p in seq2seq_naive.parameters() if p.requires_grad])"
   ]
  },
  {
   "cell_type": "code",
   "execution_count": 16,
   "metadata": {},
   "outputs": [
    {
     "data": {
      "text/plain": [
       "(30972463, 59326094, 76121741, 92917389)"
      ]
     },
     "execution_count": 16,
     "metadata": {},
     "output_type": "execute_result"
    }
   ],
   "source": [
    "num_total_seq2seq_no_fact, num_total_seq2seq_fact, num_total_seq2seq_naive_2enc, num_total_seq2seq_naive"
   ]
  },
  {
   "cell_type": "code",
   "execution_count": 17,
   "metadata": {},
   "outputs": [
    {
     "data": {
      "text/plain": [
       "(30972463, 59326094, 76121741, 92917389)"
      ]
     },
     "execution_count": 17,
     "metadata": {},
     "output_type": "execute_result"
    }
   ],
   "source": [
    "num_trainable_seq2seq_no_fact, num_trainable_seq2seq_fact, num_trainable_seq2seq_naive_2enc, num_trainable_seq2seq_naive"
   ]
  },
  {
   "cell_type": "code",
   "execution_count": 18,
   "metadata": {},
   "outputs": [],
   "source": [
    "# Initialize models\n",
    "trans_no_fact = TransNoFact(args_1)\n",
    "trans_fact = TransFact(args_2)\n",
    "trans_naive = TransFactNaive(args_3)\n",
    "\n",
    "# Find number of parameters of each model \n",
    "num_total_trans_no_fact = sum([p.numel() for p in trans_no_fact.parameters()])\n",
    "num_total_trans_fact = sum([p.numel() for p in trans_fact.parameters()])\n",
    "num_total_trans_naive = sum([p.numel() for p in trans_naive.parameters()])\n",
    "\n",
    "# Find number of parameters of each model\n",
    "num_trainable_trans_no_fact = sum([p.numel() for p in trans_no_fact.parameters() if p.requires_grad])\n",
    "num_trainable_trans_fact = sum([p.numel() for p in trans_fact.parameters() if p.requires_grad])\n",
    "num_trainable_trans_naive = sum([p.numel() for p in trans_naive.parameters() if p.requires_grad])"
   ]
  },
  {
   "cell_type": "code",
   "execution_count": 19,
   "metadata": {},
   "outputs": [
    {
     "data": {
      "text/plain": [
       "(69788735, 150566078, 209366205)"
      ]
     },
     "execution_count": 19,
     "metadata": {},
     "output_type": "execute_result"
    }
   ],
   "source": [
    "num_total_trans_no_fact, num_total_trans_fact, num_total_trans_naive"
   ]
  },
  {
   "attachments": {},
   "cell_type": "markdown",
   "metadata": {},
   "source": [
    "### 3. Tune hidden dimension of non-factorized model to match the level of parameters"
   ]
  },
  {
   "cell_type": "code",
   "execution_count": 50,
   "metadata": {},
   "outputs": [],
   "source": [
    "args_1.dim_hidden = 1536"
   ]
  },
  {
   "cell_type": "code",
   "execution_count": 52,
   "metadata": {},
   "outputs": [],
   "source": [
    "# Initialize models\n",
    "new_seq2seq_no_fact = Seq2SeqNoFact(args_1)\n",
    "\n",
    "# Find number of parameters of each model \n",
    "new_num_total_seq2seq_no_fact = sum([p.numel() for p in new_seq2seq_no_fact.parameters()])\n",
    "\n",
    "# Find number of parameters of each model\n",
    "new_num_trainable_seq2seq_no_fact = sum([p.numel() for p in new_seq2seq_no_fact.parameters() if p.requires_grad])"
   ]
  },
  {
   "cell_type": "code",
   "execution_count": 53,
   "metadata": {},
   "outputs": [
    {
     "data": {
      "text/plain": [
       "(63417391, 30972463, 59326094, 76121741, 92917389)"
      ]
     },
     "execution_count": 53,
     "metadata": {},
     "output_type": "execute_result"
    }
   ],
   "source": [
    "new_num_total_seq2seq_no_fact, num_total_seq2seq_no_fact, num_total_seq2seq_fact, num_total_seq2seq_naive_2enc, num_total_seq2seq_naive"
   ]
  },
  {
   "cell_type": "code",
   "execution_count": 44,
   "metadata": {},
   "outputs": [],
   "source": [
    "args_1.dim_hidden = 1664"
   ]
  },
  {
   "cell_type": "code",
   "execution_count": 45,
   "metadata": {},
   "outputs": [],
   "source": [
    "# Initialize models\n",
    "new_trans_no_fact = TransNoFact(args_1)\n",
    "\n",
    "# Find number of parameters of each model \n",
    "new_num_total_trans_no_fact = sum([p.numel() for p in new_trans_no_fact.parameters()])\n",
    "\n",
    "# Find number of parameters of each model\n",
    "new_num_trainable_trans_no_fact = sum([p.numel() for p in new_trans_no_fact.parameters() if p.requires_grad])"
   ]
  },
  {
   "cell_type": "code",
   "execution_count": 46,
   "metadata": {},
   "outputs": [
    {
     "data": {
      "text/plain": [
       "(152589375, 69788735, 150566078, 209366205)"
      ]
     },
     "execution_count": 46,
     "metadata": {},
     "output_type": "execute_result"
    }
   ],
   "source": [
    "new_num_total_trans_no_fact, num_total_trans_no_fact, num_total_trans_fact, num_total_trans_naive"
   ]
  },
  {
   "cell_type": "code",
   "execution_count": null,
   "metadata": {},
   "outputs": [],
   "source": []
  }
 ],
 "metadata": {
  "kernelspec": {
   "display_name": "Python 3.10.6 ('traffic')",
   "language": "python",
   "name": "python3"
  },
  "language_info": {
   "codemirror_mode": {
    "name": "ipython",
    "version": 3
   },
   "file_extension": ".py",
   "mimetype": "text/x-python",
   "name": "python",
   "nbconvert_exporter": "python",
   "pygments_lexer": "ipython3",
   "version": "3.10.8"
  },
  "orig_nbformat": 4,
  "vscode": {
   "interpreter": {
    "hash": "4c7976fd35f11d6b5acd37b5df05c2b1d9460872f4ccb0abe3e95e9a1eb343e6"
   }
  }
 },
 "nbformat": 4,
 "nbformat_minor": 2
}
