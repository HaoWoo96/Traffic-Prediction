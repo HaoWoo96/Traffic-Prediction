{
 "cells": [
  {
   "cell_type": "code",
   "execution_count": 8,
   "metadata": {},
   "outputs": [],
   "source": [
    "import torch\n",
    "\n",
    "import numpy as np\n",
    "import torch\n",
    "import os\n",
    "import argparse\n",
    "\n",
    "from torch.utils.data import DataLoader, Dataset, Subset\n",
    "\n",
    "from utils import seed_torch, seed_worker\n",
    "from train import create_parser\n",
    "from models import *\n",
    "from modules import *"
   ]
  },
  {
   "cell_type": "code",
   "execution_count": 9,
   "metadata": {},
   "outputs": [],
   "source": [
    "parser = create_parser()\n",
    "# Be careful to use parser.parse_args([]) instead of parser.parse_args(). Otherwise it will prompt error. \n",
    "# The issue lies in JupyterNotebook\n",
    "# See answer in https://stackoverflow.com/questions/50360012/python-argparse-error-error-argument-count-invalid-int-value for more details\n",
    "args_1 = parser.parse_args([])\n",
    "args_1.device = torch.device(\"cpu\")\n",
    "args_2 = parser.parse_args([])\n",
    "args_2.device = torch.device(\"cpu\")\n",
    "args_3 = parser.parse_args([])\n",
    "args_3.device = torch.device(\"cpu\")\n",
    "args_4 = parser.parse_args([])\n",
    "args_4.device = torch.device(\"cpu\")\n",
    "args_enc = parser.parse_args([])\n",
    "args_enc.device = torch.device(\"cpu\")\n",
    "args_dec = parser.parse_args([])\n",
    "args_dec.device = torch.device(\"cpu\")"
   ]
  },
  {
   "attachments": {},
   "cell_type": "markdown",
   "metadata": {},
   "source": [
    "### 1. Module Parameters"
   ]
  },
  {
   "cell_type": "code",
   "execution_count": 42,
   "metadata": {},
   "outputs": [],
   "source": [
    "args_enc.dim_hidden = 448\n",
    "args_dec.dim_hidden = 448"
   ]
  },
  {
   "cell_type": "code",
   "execution_count": 5,
   "metadata": {},
   "outputs": [],
   "source": [
    "enc_rnn = EncoderRNN(args_enc)\n",
    "dec_rnn_LR = AttnDecoderRNN(args_dec)\n",
    "dec_rnn_noLR = AttnDecoderRNN(args_dec)\n",
    "\n",
    "num_total_enc_rnn = sum([p.numel() for p in enc_rnn.parameters()])\n",
    "num_total_dec_rnn_LR = sum([p.numel() for p in dec_rnn_LR.parameters()])\n",
    "num_total_dec_rnn_noLR = sum([p.numel() for p in dec_rnn_noLR.parameters()])\n",
    "\n",
    "num_trainable_enc_rnn = sum([p.numel() for p in enc_rnn.parameters() if p.requires_grad])\n",
    "num_trainable_dec_rnn_LR = sum([p.numel() for p in dec_rnn_LR.parameters() if p.requires_grad])\n",
    "num_trainable_dec_rnn_noLR = sum([p.numel() for p in dec_rnn_noLR.parameters() if p.requires_grad])"
   ]
  },
  {
   "cell_type": "code",
   "execution_count": 6,
   "metadata": {},
   "outputs": [
    {
     "data": {
      "text/plain": [
       "(3906048, 3249375, 3249375)"
      ]
     },
     "execution_count": 6,
     "metadata": {},
     "output_type": "execute_result"
    }
   ],
   "source": [
    "num_total_enc_rnn, num_total_dec_rnn_LR, num_total_dec_rnn_noLR"
   ]
  },
  {
   "cell_type": "code",
   "execution_count": 7,
   "metadata": {},
   "outputs": [
    {
     "data": {
      "text/plain": [
       "(3906048, 3249375, 3249375)"
      ]
     },
     "execution_count": 7,
     "metadata": {},
     "output_type": "execute_result"
    }
   ],
   "source": [
    "num_trainable_enc_rnn, num_trainable_dec_rnn_LR, num_trainable_dec_rnn_noLR"
   ]
  },
  {
   "cell_type": "code",
   "execution_count": 43,
   "metadata": {},
   "outputs": [],
   "source": [
    "enc_trans = EncoderTrans(args_enc)\n",
    "dec_trans_LR = DecoderTrans(args_dec)\n",
    "dec_trans_noLR = DecoderTrans(args_dec)\n",
    "\n",
    "num_total_enc_trans = sum([p.numel() for p in enc_trans.parameters()])\n",
    "num_total_dec_trans_LR = sum([p.numel() for p in dec_trans_LR.parameters()])\n",
    "num_total_dec_trans_noLR = sum([p.numel() for p in dec_trans_noLR.parameters()])\n",
    "\n",
    "num_trainable_enc_trans = sum([p.numel() for p in enc_trans.parameters() if p.requires_grad])\n",
    "num_trainable_dec_trans_LR = sum([p.numel() for p in dec_trans_LR.parameters() if p.requires_grad])\n",
    "num_trainable_dec_trans_noLR = sum([p.numel() for p in dec_trans_noLR.parameters() if p.requires_grad])"
   ]
  },
  {
   "cell_type": "code",
   "execution_count": 44,
   "metadata": {},
   "outputs": [
    {
     "data": {
      "text/plain": [
       "(8591616, 10779455, 10779455)"
      ]
     },
     "execution_count": 44,
     "metadata": {},
     "output_type": "execute_result"
    }
   ],
   "source": [
    "num_total_enc_trans, num_total_dec_trans_LR, num_total_dec_trans_noLR"
   ]
  },
  {
   "attachments": {},
   "cell_type": "markdown",
   "metadata": {},
   "source": [
    "### 2. Model Parameters"
   ]
  },
  {
   "cell_type": "code",
   "execution_count": 3,
   "metadata": {},
   "outputs": [
    {
     "data": {
      "text/plain": [
       "(256, 256, 256, 256)"
      ]
     },
     "execution_count": 3,
     "metadata": {},
     "output_type": "execute_result"
    }
   ],
   "source": [
    "args_1.dim_hidden, args_2.dim_hidden, args_3.dim_hidden, args_4.dim_hidden"
   ]
  },
  {
   "cell_type": "code",
   "execution_count": 16,
   "metadata": {},
   "outputs": [],
   "source": [
    "args_1.dim_hidden = 384"
   ]
  },
  {
   "cell_type": "code",
   "execution_count": 10,
   "metadata": {},
   "outputs": [],
   "source": [
    "seq2seq_no_fact = Seq2SeqNoFact(args_1)\n",
    "seq2seq_fact = Seq2SeqFact(args_2)\n",
    "seq2seq_naive_2enc = Seq2SeqFactNaive_2enc(args_3)\n",
    "seq2seq_naive = Seq2SeqFactNaive(args_4)"
   ]
  },
  {
   "cell_type": "code",
   "execution_count": 11,
   "metadata": {},
   "outputs": [],
   "source": [
    "# Initialize models\n",
    "seq2seq_no_fact = Seq2SeqNoFact(args_1)\n",
    "seq2seq_fact = Seq2SeqFact(args_2)\n",
    "seq2seq_naive_2enc = Seq2SeqFactNaive_2enc(args_3)\n",
    "seq2seq_naive = Seq2SeqFactNaive(args_4)\n",
    "\n",
    "# Find number of parameters of each model \n",
    "num_total_seq2seq_no_fact = sum([p.numel() for p in seq2seq_no_fact.parameters()])\n",
    "num_total_seq2seq_fact = sum([p.numel() for p in seq2seq_fact.parameters()])\n",
    "num_total_seq2seq_naive_2enc = sum([p.numel() for p in seq2seq_naive_2enc.parameters()])\n",
    "num_total_seq2seq_naive = sum([p.numel() for p in seq2seq_naive.parameters()])\n",
    "\n",
    "# Find number of parameters of each model\n",
    "num_trainable_seq2seq_no_fact = sum([p.numel() for p in seq2seq_no_fact.parameters() if p.requires_grad])\n",
    "num_trainable_seq2seq_fact = sum([p.numel() for p in seq2seq_fact.parameters() if p.requires_grad])\n",
    "num_trainable_seq2seq_naive_2enc = sum([p.numel() for p in seq2seq_naive_2enc.parameters() if p.requires_grad])\n",
    "num_trainable_seq2seq_naive = sum([p.numel() for p in seq2seq_naive.parameters() if p.requires_grad])"
   ]
  },
  {
   "cell_type": "code",
   "execution_count": 12,
   "metadata": {},
   "outputs": [
    {
     "data": {
      "text/plain": [
       "(2179807, 4206237, 5372829, 6539421)"
      ]
     },
     "execution_count": 12,
     "metadata": {},
     "output_type": "execute_result"
    }
   ],
   "source": [
    "num_total_seq2seq_no_fact, num_total_seq2seq_fact, num_total_seq2seq_naive_2enc, num_total_seq2seq_naive"
   ]
  },
  {
   "cell_type": "code",
   "execution_count": 14,
   "metadata": {},
   "outputs": [
    {
     "data": {
      "text/plain": [
       "(2179807, 4206237, 5372829, 6539421)"
      ]
     },
     "execution_count": 14,
     "metadata": {},
     "output_type": "execute_result"
    }
   ],
   "source": [
    "num_trainable_seq2seq_no_fact, num_trainable_seq2seq_fact, num_trainable_seq2seq_naive_2enc, num_trainable_seq2seq_naive"
   ]
  },
  {
   "cell_type": "code",
   "execution_count": 13,
   "metadata": {},
   "outputs": [],
   "source": [
    "# Initialize models\n",
    "trans_no_fact = TransNoFact(args_1)\n",
    "trans_fact = TransFact(args_2)\n",
    "trans_naive = TransFactNaive(args_3)\n",
    "\n",
    "# Find number of parameters of each model \n",
    "num_total_trans_no_fact = sum([p.numel() for p in trans_no_fact.parameters()])\n",
    "num_total_trans_fact = sum([p.numel() for p in trans_fact.parameters()])\n",
    "num_total_trans_naive = sum([p.numel() for p in trans_naive.parameters()])\n",
    "\n",
    "# Find number of parameters of each model\n",
    "num_trainable_trans_no_fact = sum([p.numel() for p in trans_no_fact.parameters() if p.requires_grad])\n",
    "num_trainable_trans_fact = sum([p.numel() for p in trans_fact.parameters() if p.requires_grad])\n",
    "num_trainable_trans_naive = sum([p.numel() for p in trans_naive.parameters() if p.requires_grad])"
   ]
  },
  {
   "cell_type": "code",
   "execution_count": 15,
   "metadata": {},
   "outputs": [
    {
     "data": {
      "text/plain": [
       "(9274367, 19178493, 27823101)"
      ]
     },
     "execution_count": 15,
     "metadata": {},
     "output_type": "execute_result"
    }
   ],
   "source": [
    "num_total_trans_no_fact, num_total_trans_fact, num_total_trans_naive"
   ]
  },
  {
   "cell_type": "code",
   "execution_count": null,
   "metadata": {},
   "outputs": [],
   "source": []
  }
 ],
 "metadata": {
  "kernelspec": {
   "display_name": "Python 3.10.6 ('traffic')",
   "language": "python",
   "name": "python3"
  },
  "language_info": {
   "codemirror_mode": {
    "name": "ipython",
    "version": 3
   },
   "file_extension": ".py",
   "mimetype": "text/x-python",
   "name": "python",
   "nbconvert_exporter": "python",
   "pygments_lexer": "ipython3",
   "version": "3.10.6"
  },
  "orig_nbformat": 4,
  "vscode": {
   "interpreter": {
    "hash": "4c7976fd35f11d6b5acd37b5df05c2b1d9460872f4ccb0abe3e95e9a1eb343e6"
   }
  }
 },
 "nbformat": 4,
 "nbformat_minor": 2
}
