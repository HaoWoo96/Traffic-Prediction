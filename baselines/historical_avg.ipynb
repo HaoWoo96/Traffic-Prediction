{
 "cells": [
  {
   "cell_type": "markdown",
   "metadata": {},
   "source": [
    "### Baseline - Historical Average"
   ]
  },
  {
   "cell_type": "code",
   "execution_count": 1,
   "metadata": {},
   "outputs": [],
   "source": [
    "import numpy as np"
   ]
  },
  {
   "cell_type": "code",
   "execution_count": 4,
   "metadata": {},
   "outputs": [],
   "source": [
    "'''\n",
    "new_Y.npy has size (147600, 78, 2)\n",
    "147600: 164 days * 15 hrs * 60 timeslot/hr\n",
    "78: 78 target segments\n",
    "2: first dimension refers to speed data, second dimension refers to incident label (0 or 1)\n",
    "'''\n",
    "\n",
    "# load new_Y.npy and compute historical average\n",
    "y = np.load(\"../data/new_Y.npy\", allow_pickle=True) "
   ]
  },
  {
   "cell_type": "code",
   "execution_count": 7,
   "metadata": {},
   "outputs": [
    {
     "name": "stdout",
     "output_type": "stream",
     "text": [
      "(147600, 78)\n"
     ]
    }
   ],
   "source": [
    "y_spd = y[..., 0]"
   ]
  },
  {
   "cell_type": "code",
   "execution_count": 11,
   "metadata": {},
   "outputs": [],
   "source": [
    "in_seq_len = 7\n",
    "base_idx = np.array([i+j for i in range(900-in_seq_len) for j in {0, in_seq_len}])\n"
   ]
  },
  {
   "cell_type": "code",
   "execution_count": 12,
   "metadata": {},
   "outputs": [
    {
     "data": {
      "text/plain": [
       "array([  0,   7,   1, ..., 898, 892, 899])"
      ]
     },
     "execution_count": 12,
     "metadata": {},
     "output_type": "execute_result"
    }
   ],
   "source": [
    "all_idx = np.concatenate([900*i + base_idx for i in range(164)])\n",
    "ha_y_spd = np.add.reduceat(y_spd, all_idx)\n",
    "\n"
   ]
  }
 ],
 "metadata": {
  "kernelspec": {
   "display_name": "Python 3.9.13 ('traffic')",
   "language": "python",
   "name": "python3"
  },
  "language_info": {
   "codemirror_mode": {
    "name": "ipython",
    "version": 3
   },
   "file_extension": ".py",
   "mimetype": "text/x-python",
   "name": "python",
   "nbconvert_exporter": "python",
   "pygments_lexer": "ipython3",
   "version": "3.9.13"
  },
  "orig_nbformat": 4,
  "vscode": {
   "interpreter": {
    "hash": "85286b69777ee1b08a3453e7c0fda65b18aafde91968ed40fecc16503101cb97"
   }
  }
 },
 "nbformat": 4,
 "nbformat_minor": 2
}
