{
 "cells": [
  {
   "cell_type": "code",
   "execution_count": 1,
   "metadata": {},
   "outputs": [],
   "source": [
    "import numpy as np\n",
    "\n",
    "from sklearn.linear_model import LassoCV, Lasso"
   ]
  },
  {
   "cell_type": "code",
   "execution_count": 2,
   "metadata": {},
   "outputs": [],
   "source": [
    "in_seq_len = 7\n",
    "out_seq_len = 6\n",
    "out_freq = 5\n",
    "\n",
    "X = np.load(\"../data/new_X.npy\")  # (29520, 1796)\n",
    "Y_tmc = np.load(\"../data/new_Y_tmc.npy\")[..., :3]  # (29520, 70, 3)\n",
    "Y_xd = np.load(\"../data/new_Y_xd.npy\")[..., 1]  # (147600, 70)"
   ]
  }
 ],
 "metadata": {
  "kernelspec": {
   "display_name": "Python 3.10.4 ('traffic')",
   "language": "python",
   "name": "python3"
  },
  "language_info": {
   "codemirror_mode": {
    "name": "ipython",
    "version": 3
   },
   "file_extension": ".py",
   "mimetype": "text/x-python",
   "name": "python",
   "nbconvert_exporter": "python",
   "pygments_lexer": "ipython3",
   "version": "3.10.4"
  },
  "orig_nbformat": 4,
  "vscode": {
   "interpreter": {
    "hash": "488a0874a25c42a755cfa77c908f3fb6db2599fceafd72a5c2b23ace03280116"
   }
  }
 },
 "nbformat": 4,
 "nbformat_minor": 2
}
