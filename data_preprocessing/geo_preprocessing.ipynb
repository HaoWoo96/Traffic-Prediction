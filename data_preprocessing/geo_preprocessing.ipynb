{
 "cells": [
  {
   "cell_type": "code",
   "execution_count": 48,
   "metadata": {},
   "outputs": [],
   "source": [
    "import pandas as pd\n",
    "import pickle\n",
    "import networkx as nx\n",
    "import numpy as np\n",
    "\n",
    "from tqdm import tqdm"
   ]
  },
  {
   "cell_type": "code",
   "execution_count": 33,
   "metadata": {},
   "outputs": [],
   "source": [
    "tmc_attr = pd.read_csv(\"../data/shapefiles/tmc_attr.csv\")\n",
    "df_tmc_miles = tmc_attr[[\"id_tmc\", \"miles_tmc\"]]\n",
    "miles_tmc = (df_tmc_miles.set_index(\"id_tmc\")).to_dict(\"index\")\n",
    "with open(\"../data/tmc_miles.pkl\", \"wb\") as f:\n",
    "    pickle.dump(miles_tmc, f)"
   ]
  },
  {
   "cell_type": "code",
   "execution_count": 38,
   "metadata": {},
   "outputs": [],
   "source": [
    "def read_shp(path):\n",
    "    net = nx.read_shp(path, simplify=True)\n",
    "    return net\n",
    "\n",
    "def build_tmc_dict(net):\n",
    "    tmc2edge = { }\n",
    "    for key in net.edges:\n",
    "        tmc_id = net.edges[key]['id']\n",
    "        if tmc_id not in tmc2edge:\n",
    "            tmc2edge[tmc_id] = [ ]\n",
    "        tmc2edge[tmc_id].append(key)\n",
    "    return tmc2edge\n",
    "\n",
    "def get_upstream_tmc(tmc2edge, tmc_id, net, n=1):\n",
    "    out = [ ]    \n",
    "    for (end_node, bgn_node) in tmc2edge[tmc_id]:\n",
    "        for e in nx.bfs_edges(net, bgn_node ,depth_limit=n):\n",
    "            out.append(net.edges[e]['id'])\n",
    "    return np.unique(out)\n",
    "\n",
    "def get_downstream_tmc(tmc2edge, tmc_id, miles_tmc, net, n=1):\n",
    "    out = set()    \n",
    "    for (end_node, bgn_node) in tmc2edge[tmc_id]:\n",
    "        dist = 5\n",
    "        for e in nx.bfs_edges(net, end_node ,depth_limit=n, reverse=True):\n",
    "            # reverve back due to reverse of graph in bfs\n",
    "            r_e = (e[1],e[0])\n",
    "            nxt_tmc = net.edges[r_e]['id']\n",
    "            \n",
    "            # avoid repeating segments or tmc_id itself\n",
    "            if nxt_tmc == tmc_id or nxt_tmc in out:\n",
    "                continue\n",
    "            else:\n",
    "                out.add(nxt_tmc)\n",
    "\n",
    "                # compute the range of nxt_tmc segment\n",
    "                if nxt_tmc in miles_tmc:\n",
    "                    d = miles_tmc[nxt_tmc][\"miles_tmc\"]\n",
    "                else:\n",
    "                    d = 0\n",
    "                    for end, begin in tmc2edge[nxt_tmc]:\n",
    "                        temp = ((begin[0]-end[0])**2 + (begin[1]-end[1])**2)**(0.5)\n",
    "                        d += temp\n",
    "                    d /= len(tmc2edge[tmc_id])\n",
    "                dist -= d\n",
    "\n",
    "            if dist <= 0:\n",
    "                break    \n",
    "    return list(out)\n",
    "\n",
    "def get_neighbor_tmc(tmc_id, net, n=5):\n",
    "    tmc2edge = build_tmc_dict(net)\n",
    "    up = get_upstream_tmc(tmc2edge, tmc_id, net, n)\n",
    "    dn = get_downstream_tmc(tmc2edge, tmc_id, net, n)\n",
    "    return np.concatenate((up, dn))"
   ]
  },
  {
   "cell_type": "code",
   "execution_count": 35,
   "metadata": {},
   "outputs": [
    {
     "name": "stderr",
     "output_type": "stream",
     "text": [
      "/var/folders/y2/1kk0np3x01qchz21plxx_m0w0000gn/T/ipykernel_61074/540285700.py:2: DeprecationWarning: read_shp is deprecated and will be removed in 3.0.See https://networkx.org/documentation/latest/auto_examples/index.html#geospatial.\n",
      "  net = nx.read_shp(path, simplify=True)\n"
     ]
    }
   ],
   "source": [
    "net = read_shp('../data/shapefiles/tmc_shape_cranberry/cranberry.shp')\n",
    "tmc2edge = build_tmc_dict(net)"
   ]
  },
  {
   "cell_type": "code",
   "execution_count": 50,
   "metadata": {},
   "outputs": [
    {
     "name": "stderr",
     "output_type": "stream",
     "text": [
      "100%|██████████| 315/315 [00:00<00:00, 171562.88it/s]\n"
     ]
    }
   ],
   "source": [
    "next_tmc = {}\n",
    "for tmc in tqdm(tmc2edge):\n",
    "    next_tmc[tmc] = get_downstream_tmc(tmc2edge, tmc, miles_tmc, net, n=1)"
   ]
  },
  {
   "cell_type": "code",
   "execution_count": 52,
   "metadata": {},
   "outputs": [],
   "source": [
    "with open(\"../data/next_tmc_5_miles.pkl\", \"wb\") as f:\n",
    "    pickle.dump(next_tmc, f)"
   ]
  }
 ],
 "metadata": {
  "kernelspec": {
   "display_name": "Python 3.10.4 ('traffic')",
   "language": "python",
   "name": "python3"
  },
  "language_info": {
   "codemirror_mode": {
    "name": "ipython",
    "version": 3
   },
   "file_extension": ".py",
   "mimetype": "text/x-python",
   "name": "python",
   "nbconvert_exporter": "python",
   "pygments_lexer": "ipython3",
   "version": "3.10.6"
  },
  "orig_nbformat": 4,
  "vscode": {
   "interpreter": {
    "hash": "4c7976fd35f11d6b5acd37b5df05c2b1d9460872f4ccb0abe3e95e9a1eb343e6"
   }
  }
 },
 "nbformat": 4,
 "nbformat_minor": 2
}
