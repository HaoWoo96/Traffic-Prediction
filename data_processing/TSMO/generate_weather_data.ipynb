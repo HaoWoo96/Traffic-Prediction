{
 "cells": [
  {
   "cell_type": "markdown",
   "metadata": {},
   "source": [
    "# Generate Dataframe of Weather Information \n",
    "- Scrape historical weather infromation from https://www.wunderground.com\n",
    "- Location: KBWI"
   ]
  },
  {
   "cell_type": "markdown",
   "metadata": {},
   "source": [
    "### 1. Web Scraping"
   ]
  },
  {
   "cell_type": "code",
   "execution_count": 2,
   "metadata": {},
   "outputs": [],
   "source": [
    "import pickle\n",
    "import pandas as pd\n",
    "import datetime\n",
    "from datetime import datetime as dt\n",
    "from tqdm import tqdm\n",
    "from bs4 import BeautifulSoup\n",
    "from selenium import webdriver\n",
    "from selenium.webdriver.common.by import By\n",
    "from selenium.webdriver.support.ui import WebDriverWait\n",
    "from selenium.webdriver.support import expected_conditions as EC"
   ]
  },
  {
   "cell_type": "code",
   "execution_count": 3,
   "metadata": {},
   "outputs": [],
   "source": [
    "# Time\n",
    "start_date = dt(2022, 2, 14)\n",
    "end_date = dt(2023, 2, 12)\n",
    "start_time = 330 # 05:30:00 \n",
    "end_time = 1260 # 21:00:00\n",
    "busi_date = pd.bdate_range(start=start_date, end=end_date).date  # 260 business dates"
   ]
  },
  {
   "cell_type": "code",
   "execution_count": 56,
   "metadata": {},
   "outputs": [],
   "source": [
    "# There are chances where the tables may not be fully loaded. \n",
    "# Therefore, it's necessary to return to dates where the data was not successfully scraped at first attempt.\n",
    "# Therefore, the helper funciton is not directly used but modified as shown in the next code block to ensure weather info of all dates are captured.\n",
    "def get_weather_df(date):\n",
    "    date_str = date.strftime('%Y-%m-%d')\n",
    "    url = f'https://www.wunderground.com/history/daily/KBWI/date/{date_str}'\n",
    "    driver = webdriver.Safari()\n",
    "    driver.get(url)\n",
    "    tables = WebDriverWait(driver,20).until(EC.presence_of_all_elements_located((By.CSS_SELECTOR, \"table\")))\n",
    "    result = pd.read_html(tables[1].get_attribute('outerHTML'))[0]\n",
    "    driver.quit()\n",
    "    result = result[~result.Time.isna()]\n",
    "    result[\"Date\"] = date\n",
    "    # driver.quit()\n",
    "    return result"
   ]
  },
  {
   "cell_type": "code",
   "execution_count": 63,
   "metadata": {},
   "outputs": [
    {
     "name": "stderr",
     "output_type": "stream",
     "text": [
      "100%|██████████| 260/260 [13:59<00:00,  3.23s/it]\n"
     ]
    },
    {
     "name": "stdout",
     "output_type": "stream",
     "text": [
      "Remaining (missed): 31 dates!\n"
     ]
    },
    {
     "name": "stderr",
     "output_type": "stream",
     "text": [
      "100%|██████████| 31/31 [01:28<00:00,  2.85s/it]\n"
     ]
    },
    {
     "name": "stdout",
     "output_type": "stream",
     "text": [
      "Remaining (missed): 1 dates!\n"
     ]
    },
    {
     "name": "stderr",
     "output_type": "stream",
     "text": [
      "100%|██████████| 1/1 [00:02<00:00,  2.25s/it]"
     ]
    },
    {
     "name": "stdout",
     "output_type": "stream",
     "text": [
      "Remaining (missed): 0 dates!\n"
     ]
    },
    {
     "name": "stderr",
     "output_type": "stream",
     "text": [
      "\n"
     ]
    }
   ],
   "source": [
    "dates = list(busi_date)\n",
    "list_df_weather = []\n",
    "while len(dates) > 0:\n",
    "    # keep scraping until there's no date missed\n",
    "    missed_dates = []\n",
    "    for date in tqdm(dates):\n",
    "        # list_df_weather.append(get_weather_df(date))\n",
    "\n",
    "        date_str = date.strftime('%Y-%m-%d')\n",
    "        url = f'https://www.wunderground.com/history/daily/KBWI/date/{date_str}'\n",
    "        driver = webdriver.Safari()\n",
    "        driver.get(url)\n",
    "        try: \n",
    "            tables = WebDriverWait(driver,20).until(EC.presence_of_all_elements_located((By.CSS_SELECTOR, \"table\")))\n",
    "            if len(tables) < 2:\n",
    "                # tables may not be fully loaded\n",
    "                missed_dates.append(date)\n",
    "                driver.quit()\n",
    "            else:\n",
    "                result = pd.read_html(tables[1].get_attribute('outerHTML'))[0]\n",
    "                driver.quit()\n",
    "                result = result[~result.Time.isna()]\n",
    "                result[\"Date\"] = date\n",
    "\n",
    "                list_df_weather.append(result)\n",
    "        except:\n",
    "            # may encounter overtime exception\n",
    "            missed_dates.append(date)\n",
    "            driver.quit()\n",
    "    print(f\"Remaining (missed): {len(missed_dates)} dates!\")\n",
    "    dates = missed_dates.copy()\n",
    "    \n"
   ]
  },
  {
   "cell_type": "code",
   "execution_count": 64,
   "metadata": {},
   "outputs": [],
   "source": [
    "df_weather = pd.concat(list_df_weather, axis=0)  # (7241, 11), covers all of 260 business dates"
   ]
  },
  {
   "cell_type": "code",
   "execution_count": 67,
   "metadata": {},
   "outputs": [],
   "source": [
    "pickle.dump(df_weather, open(\"./TSMO_df_weather.pkl\", \"wb\"))"
   ]
  },
  {
   "cell_type": "markdown",
   "metadata": {},
   "source": [
    "### 2. Process Weather Dataframe\n",
    "- Clean date and time to focus on business hours with 5-min granularity \n",
    "- Impute missing data\n",
    "- Incorporate time embedding"
   ]
  },
  {
   "cell_type": "code",
   "execution_count": 4,
   "metadata": {},
   "outputs": [],
   "source": [
    "df_weather = pickle.load(open(\"./TSMO_df_weather.pkl\", \"rb\"))"
   ]
  },
  {
   "cell_type": "code",
   "execution_count": 5,
   "metadata": {},
   "outputs": [
    {
     "data": {
      "text/html": [
       "<div>\n",
       "<style scoped>\n",
       "    .dataframe tbody tr th:only-of-type {\n",
       "        vertical-align: middle;\n",
       "    }\n",
       "\n",
       "    .dataframe tbody tr th {\n",
       "        vertical-align: top;\n",
       "    }\n",
       "\n",
       "    .dataframe thead th {\n",
       "        text-align: right;\n",
       "    }\n",
       "</style>\n",
       "<table border=\"1\" class=\"dataframe\">\n",
       "  <thead>\n",
       "    <tr style=\"text-align: right;\">\n",
       "      <th></th>\n",
       "      <th>Time</th>\n",
       "      <th>Temperature</th>\n",
       "      <th>Dew Point</th>\n",
       "      <th>Humidity</th>\n",
       "      <th>Wind</th>\n",
       "      <th>Wind Speed</th>\n",
       "      <th>Wind Gust</th>\n",
       "      <th>Pressure</th>\n",
       "      <th>Precip.</th>\n",
       "      <th>Condition</th>\n",
       "      <th>Date</th>\n",
       "    </tr>\n",
       "  </thead>\n",
       "  <tbody>\n",
       "    <tr>\n",
       "      <th>0</th>\n",
       "      <td>1:54 AM</td>\n",
       "      <td>27 °F</td>\n",
       "      <td>17 °F</td>\n",
       "      <td>66 °%</td>\n",
       "      <td>W</td>\n",
       "      <td>3 °mph</td>\n",
       "      <td>0 °mph</td>\n",
       "      <td>29.91 °in</td>\n",
       "      <td>0.0 °in</td>\n",
       "      <td>Mostly Cloudy</td>\n",
       "      <td>2022-02-14</td>\n",
       "    </tr>\n",
       "    <tr>\n",
       "      <th>1</th>\n",
       "      <td>2:54 AM</td>\n",
       "      <td>27 °F</td>\n",
       "      <td>17 °F</td>\n",
       "      <td>66 °%</td>\n",
       "      <td>WSW</td>\n",
       "      <td>6 °mph</td>\n",
       "      <td>0 °mph</td>\n",
       "      <td>29.92 °in</td>\n",
       "      <td>0.0 °in</td>\n",
       "      <td>Cloudy</td>\n",
       "      <td>2022-02-14</td>\n",
       "    </tr>\n",
       "    <tr>\n",
       "      <th>2</th>\n",
       "      <td>3:54 AM</td>\n",
       "      <td>27 °F</td>\n",
       "      <td>16 °F</td>\n",
       "      <td>63 °%</td>\n",
       "      <td>NE</td>\n",
       "      <td>3 °mph</td>\n",
       "      <td>0 °mph</td>\n",
       "      <td>29.92 °in</td>\n",
       "      <td>0.0 °in</td>\n",
       "      <td>Light Snow</td>\n",
       "      <td>2022-02-14</td>\n",
       "    </tr>\n",
       "    <tr>\n",
       "      <th>3</th>\n",
       "      <td>4:25 AM</td>\n",
       "      <td>26 °F</td>\n",
       "      <td>15 °F</td>\n",
       "      <td>63 °%</td>\n",
       "      <td>NE</td>\n",
       "      <td>5 °mph</td>\n",
       "      <td>0 °mph</td>\n",
       "      <td>29.92 °in</td>\n",
       "      <td>0.0 °in</td>\n",
       "      <td>Partly Cloudy</td>\n",
       "      <td>2022-02-14</td>\n",
       "    </tr>\n",
       "    <tr>\n",
       "      <th>4</th>\n",
       "      <td>4:54 AM</td>\n",
       "      <td>25 °F</td>\n",
       "      <td>15 °F</td>\n",
       "      <td>66 °%</td>\n",
       "      <td>NE</td>\n",
       "      <td>6 °mph</td>\n",
       "      <td>0 °mph</td>\n",
       "      <td>29.92 °in</td>\n",
       "      <td>0.0 °in</td>\n",
       "      <td>Fair</td>\n",
       "      <td>2022-02-14</td>\n",
       "    </tr>\n",
       "    <tr>\n",
       "      <th>...</th>\n",
       "      <td>...</td>\n",
       "      <td>...</td>\n",
       "      <td>...</td>\n",
       "      <td>...</td>\n",
       "      <td>...</td>\n",
       "      <td>...</td>\n",
       "      <td>...</td>\n",
       "      <td>...</td>\n",
       "      <td>...</td>\n",
       "      <td>...</td>\n",
       "      <td>...</td>\n",
       "    </tr>\n",
       "    <tr>\n",
       "      <th>19</th>\n",
       "      <td>8:54 PM</td>\n",
       "      <td>51 °F</td>\n",
       "      <td>39 °F</td>\n",
       "      <td>63 °%</td>\n",
       "      <td>SSW</td>\n",
       "      <td>3 °mph</td>\n",
       "      <td>0 °mph</td>\n",
       "      <td>29.94 °in</td>\n",
       "      <td>0.0 °in</td>\n",
       "      <td>Fair</td>\n",
       "      <td>2023-01-30</td>\n",
       "    </tr>\n",
       "    <tr>\n",
       "      <th>20</th>\n",
       "      <td>9:54 PM</td>\n",
       "      <td>45 °F</td>\n",
       "      <td>39 °F</td>\n",
       "      <td>80 °%</td>\n",
       "      <td>CALM</td>\n",
       "      <td>0 °mph</td>\n",
       "      <td>0 °mph</td>\n",
       "      <td>29.93 °in</td>\n",
       "      <td>0.0 °in</td>\n",
       "      <td>Fair</td>\n",
       "      <td>2023-01-30</td>\n",
       "    </tr>\n",
       "    <tr>\n",
       "      <th>21</th>\n",
       "      <td>10:54 PM</td>\n",
       "      <td>47 °F</td>\n",
       "      <td>39 °F</td>\n",
       "      <td>74 °%</td>\n",
       "      <td>CALM</td>\n",
       "      <td>0 °mph</td>\n",
       "      <td>0 °mph</td>\n",
       "      <td>29.93 °in</td>\n",
       "      <td>0.0 °in</td>\n",
       "      <td>Partly Cloudy</td>\n",
       "      <td>2023-01-30</td>\n",
       "    </tr>\n",
       "    <tr>\n",
       "      <th>22</th>\n",
       "      <td>11:54 PM</td>\n",
       "      <td>46 °F</td>\n",
       "      <td>39 °F</td>\n",
       "      <td>76 °%</td>\n",
       "      <td>CALM</td>\n",
       "      <td>0 °mph</td>\n",
       "      <td>0 °mph</td>\n",
       "      <td>29.93 °in</td>\n",
       "      <td>0.0 °in</td>\n",
       "      <td>Partly Cloudy</td>\n",
       "      <td>2023-01-30</td>\n",
       "    </tr>\n",
       "    <tr>\n",
       "      <th>23</th>\n",
       "      <td>12:54 AM</td>\n",
       "      <td>40 °F</td>\n",
       "      <td>36 °F</td>\n",
       "      <td>86 °%</td>\n",
       "      <td>WNW</td>\n",
       "      <td>3 °mph</td>\n",
       "      <td>0 °mph</td>\n",
       "      <td>29.92 °in</td>\n",
       "      <td>0.0 °in</td>\n",
       "      <td>Partly Cloudy</td>\n",
       "      <td>2023-01-30</td>\n",
       "    </tr>\n",
       "  </tbody>\n",
       "</table>\n",
       "<p>7241 rows × 11 columns</p>\n",
       "</div>"
      ],
      "text/plain": [
       "        Time Temperature Dew Point Humidity  Wind Wind Speed Wind Gust  \\\n",
       "0    1:54 AM       27 °F     17 °F    66 °%     W     3 °mph    0 °mph   \n",
       "1    2:54 AM       27 °F     17 °F    66 °%   WSW     6 °mph    0 °mph   \n",
       "2    3:54 AM       27 °F     16 °F    63 °%    NE     3 °mph    0 °mph   \n",
       "3    4:25 AM       26 °F     15 °F    63 °%    NE     5 °mph    0 °mph   \n",
       "4    4:54 AM       25 °F     15 °F    66 °%    NE     6 °mph    0 °mph   \n",
       "..       ...         ...       ...      ...   ...        ...       ...   \n",
       "19   8:54 PM       51 °F     39 °F    63 °%   SSW     3 °mph    0 °mph   \n",
       "20   9:54 PM       45 °F     39 °F    80 °%  CALM     0 °mph    0 °mph   \n",
       "21  10:54 PM       47 °F     39 °F    74 °%  CALM     0 °mph    0 °mph   \n",
       "22  11:54 PM       46 °F     39 °F    76 °%  CALM     0 °mph    0 °mph   \n",
       "23  12:54 AM       40 °F     36 °F    86 °%   WNW     3 °mph    0 °mph   \n",
       "\n",
       "     Pressure  Precip.      Condition        Date  \n",
       "0   29.91 °in  0.0 °in  Mostly Cloudy  2022-02-14  \n",
       "1   29.92 °in  0.0 °in         Cloudy  2022-02-14  \n",
       "2   29.92 °in  0.0 °in     Light Snow  2022-02-14  \n",
       "3   29.92 °in  0.0 °in  Partly Cloudy  2022-02-14  \n",
       "4   29.92 °in  0.0 °in           Fair  2022-02-14  \n",
       "..        ...      ...            ...         ...  \n",
       "19  29.94 °in  0.0 °in           Fair  2023-01-30  \n",
       "20  29.93 °in  0.0 °in           Fair  2023-01-30  \n",
       "21  29.93 °in  0.0 °in  Partly Cloudy  2023-01-30  \n",
       "22  29.93 °in  0.0 °in  Partly Cloudy  2023-01-30  \n",
       "23  29.92 °in  0.0 °in  Partly Cloudy  2023-01-30  \n",
       "\n",
       "[7241 rows x 11 columns]"
      ]
     },
     "execution_count": 5,
     "metadata": {},
     "output_type": "execute_result"
    }
   ],
   "source": [
    "df_weather"
   ]
  },
  {
   "cell_type": "code",
   "execution_count": null,
   "metadata": {},
   "outputs": [],
   "source": []
  }
 ],
 "metadata": {
  "kernelspec": {
   "display_name": "Python 3.10.6 ('traffic')",
   "language": "python",
   "name": "python3"
  },
  "language_info": {
   "codemirror_mode": {
    "name": "ipython",
    "version": 3
   },
   "file_extension": ".py",
   "mimetype": "text/x-python",
   "name": "python",
   "nbconvert_exporter": "python",
   "pygments_lexer": "ipython3",
   "version": "3.10.6"
  },
  "orig_nbformat": 4,
  "vscode": {
   "interpreter": {
    "hash": "4c7976fd35f11d6b5acd37b5df05c2b1d9460872f4ccb0abe3e95e9a1eb343e6"
   }
  }
 },
 "nbformat": 4,
 "nbformat_minor": 2
}
