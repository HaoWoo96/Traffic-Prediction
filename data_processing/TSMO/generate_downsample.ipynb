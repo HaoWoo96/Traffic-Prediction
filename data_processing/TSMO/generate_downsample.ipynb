{
 "cells": [
  {
   "cell_type": "code",
   "execution_count": 2,
   "metadata": {},
   "outputs": [
    {
     "name": "stdout",
     "output_type": "stream",
     "text": [
      "/Users/haowu/Desktop/Transportation Research/Traffic-Prediction/data_processing/TSMO\n"
     ]
    }
   ],
   "source": [
    "!pwd"
   ]
  },
  {
   "cell_type": "code",
   "execution_count": 3,
   "metadata": {},
   "outputs": [
    {
     "name": "stdout",
     "output_type": "stream",
     "text": [
      "/Users/haowu/Desktop/Transportation Research/Traffic-Prediction/data_processing\n"
     ]
    }
   ],
   "source": [
    "%cd .."
   ]
  },
  {
   "cell_type": "code",
   "execution_count": 4,
   "metadata": {},
   "outputs": [],
   "source": [
    "import csv\n",
    "import pandas as pd\n",
    "import numpy as np\n",
    "#import geopandas as gpd\n",
    "#import networkx as nx\n",
    "import math\n",
    "import pickle\n",
    "\n",
    "import datetime\n",
    "from datetime import datetime as dt\n",
    "from collections import Counter\n",
    "from scipy.spatial.distance import cdist\n",
    "from scipy import stats\n",
    "from sklearn.preprocessing import MinMaxScaler\n",
    "from tqdm import tqdm\n",
    "from matplotlib import pyplot as plt\n",
    "\n",
    "from utils import *"
   ]
  },
  {
   "cell_type": "markdown",
   "metadata": {},
   "source": [
    "### 1. Hyperparameters"
   ]
  },
  {
   "cell_type": "code",
   "execution_count": 5,
   "metadata": {},
   "outputs": [],
   "source": [
    "# Time\n",
    "start_date = dt(2022, 2, 14)\n",
    "end_date = dt(2023, 2, 12)\n",
    "start_time = 330 # 05:30:00 \n",
    "end_time = 1260 # 21:00:00\n",
    "busi_date = pd.bdate_range(start=start_date, end=end_date).date  # 260 business dates"
   ]
  },
  {
   "cell_type": "code",
   "execution_count": 6,
   "metadata": {},
   "outputs": [
    {
     "ename": "DriverError",
     "evalue": "../data/shape/tmc_shape_TSMO/tmc_shape_TSMO_for_sjoin.geojson: No such file or directory",
     "output_type": "error",
     "traceback": [
      "\u001b[1;31m---------------------------------------------------------------------------\u001b[0m",
      "\u001b[1;31mCPLE_OpenFailedError\u001b[0m                      Traceback (most recent call last)",
      "File \u001b[1;32mfiona\\ogrext.pyx:136\u001b[0m, in \u001b[0;36mfiona.ogrext.gdal_open_vector\u001b[1;34m()\u001b[0m\n",
      "File \u001b[1;32mfiona\\_err.pyx:291\u001b[0m, in \u001b[0;36mfiona._err.exc_wrap_pointer\u001b[1;34m()\u001b[0m\n",
      "\u001b[1;31mCPLE_OpenFailedError\u001b[0m: ../data/shape/tmc_shape_TSMO/tmc_shape_TSMO_for_sjoin.geojson: No such file or directory",
      "\nDuring handling of the above exception, another exception occurred:\n",
      "\u001b[1;31mDriverError\u001b[0m                               Traceback (most recent call last)",
      "Cell \u001b[1;32mIn[5], line 5\u001b[0m\n\u001b[0;32m      1\u001b[0m \u001b[39m'''\u001b[39;00m\n\u001b[0;32m      2\u001b[0m \u001b[39mexecute the following code block only if set_hwd_tmc_segments_shp and set_hwd_xd_segments_str_shp are not in place\u001b[39;00m\n\u001b[0;32m      3\u001b[0m \u001b[39m'''\u001b[39;00m\n\u001b[0;32m      4\u001b[0m \u001b[39m# Segments\u001b[39;00m\n\u001b[1;32m----> 5\u001b[0m gdf_tmc_TSMO \u001b[39m=\u001b[39m gpd\u001b[39m.\u001b[39;49mread_file(\u001b[39m\"\u001b[39;49m\u001b[39m../data/shape/tmc_shape_TSMO/tmc_shape_TSMO_for_sjoin.geojson\u001b[39;49m\u001b[39m\"\u001b[39;49m)  \u001b[39m# 1591 TMC segments in TSMO (selected from Carroll, Howard and Baltimore) used for spatial join\u001b[39;00m\n\u001b[0;32m      6\u001b[0m gdf_xd_TSMO \u001b[39m=\u001b[39m gpd\u001b[39m.\u001b[39mread_file(\u001b[39m\"\u001b[39m\u001b[39m../data/shape/xd_shape_TSMO/xd_shape_TSMO_for_sjoin.geojson\u001b[39m\u001b[39m\"\u001b[39m)  \u001b[39m# 2501 XD segments in TSMO (selected from Carroll, Howard and Baltimore) used for spatial join\u001b[39;00m\n\u001b[0;32m      8\u001b[0m set_tmc_segments_shp_TSMO \u001b[39m=\u001b[39m \u001b[39mset\u001b[39m(gdf_tmc_TSMO\u001b[39m.\u001b[39mtmc)\n",
      "File \u001b[1;32mc:\\Users\\haowu\\Anaconda3\\envs\\traffic\\lib\\site-packages\\geopandas\\io\\file.py:259\u001b[0m, in \u001b[0;36m_read_file\u001b[1;34m(filename, bbox, mask, rows, engine, **kwargs)\u001b[0m\n\u001b[0;32m    256\u001b[0m     path_or_bytes \u001b[39m=\u001b[39m filename\n\u001b[0;32m    258\u001b[0m \u001b[39mif\u001b[39;00m engine \u001b[39m==\u001b[39m \u001b[39m\"\u001b[39m\u001b[39mfiona\u001b[39m\u001b[39m\"\u001b[39m:\n\u001b[1;32m--> 259\u001b[0m     \u001b[39mreturn\u001b[39;00m _read_file_fiona(\n\u001b[0;32m    260\u001b[0m         path_or_bytes, from_bytes, bbox\u001b[39m=\u001b[39mbbox, mask\u001b[39m=\u001b[39mmask, rows\u001b[39m=\u001b[39mrows, \u001b[39m*\u001b[39m\u001b[39m*\u001b[39mkwargs\n\u001b[0;32m    261\u001b[0m     )\n\u001b[0;32m    262\u001b[0m \u001b[39melif\u001b[39;00m engine \u001b[39m==\u001b[39m \u001b[39m\"\u001b[39m\u001b[39mpyogrio\u001b[39m\u001b[39m\"\u001b[39m:\n\u001b[0;32m    263\u001b[0m     \u001b[39mreturn\u001b[39;00m _read_file_pyogrio(\n\u001b[0;32m    264\u001b[0m         path_or_bytes, bbox\u001b[39m=\u001b[39mbbox, mask\u001b[39m=\u001b[39mmask, rows\u001b[39m=\u001b[39mrows, \u001b[39m*\u001b[39m\u001b[39m*\u001b[39mkwargs\n\u001b[0;32m    265\u001b[0m     )\n",
      "File \u001b[1;32mc:\\Users\\haowu\\Anaconda3\\envs\\traffic\\lib\\site-packages\\geopandas\\io\\file.py:303\u001b[0m, in \u001b[0;36m_read_file_fiona\u001b[1;34m(path_or_bytes, from_bytes, bbox, mask, rows, where, **kwargs)\u001b[0m\n\u001b[0;32m    300\u001b[0m     reader \u001b[39m=\u001b[39m fiona\u001b[39m.\u001b[39mopen\n\u001b[0;32m    302\u001b[0m \u001b[39mwith\u001b[39;00m fiona_env():\n\u001b[1;32m--> 303\u001b[0m     \u001b[39mwith\u001b[39;00m reader(path_or_bytes, \u001b[39m*\u001b[39m\u001b[39m*\u001b[39mkwargs) \u001b[39mas\u001b[39;00m features:\n\u001b[0;32m    304\u001b[0m         crs \u001b[39m=\u001b[39m features\u001b[39m.\u001b[39mcrs_wkt\n\u001b[0;32m    305\u001b[0m         \u001b[39m# attempt to get EPSG code\u001b[39;00m\n",
      "File \u001b[1;32mc:\\Users\\haowu\\Anaconda3\\envs\\traffic\\lib\\site-packages\\fiona\\env.py:457\u001b[0m, in \u001b[0;36mensure_env_with_credentials.<locals>.wrapper\u001b[1;34m(*args, **kwds)\u001b[0m\n\u001b[0;32m    454\u001b[0m     session \u001b[39m=\u001b[39m DummySession()\n\u001b[0;32m    456\u001b[0m \u001b[39mwith\u001b[39;00m env_ctor(session\u001b[39m=\u001b[39msession):\n\u001b[1;32m--> 457\u001b[0m     \u001b[39mreturn\u001b[39;00m f(\u001b[39m*\u001b[39margs, \u001b[39m*\u001b[39m\u001b[39m*\u001b[39mkwds)\n",
      "File \u001b[1;32mc:\\Users\\haowu\\Anaconda3\\envs\\traffic\\lib\\site-packages\\fiona\\__init__.py:360\u001b[0m, in \u001b[0;36mopen\u001b[1;34m(fp, mode, driver, schema, crs, encoding, layer, vfs, enabled_drivers, crs_wkt, allow_unsupported_drivers, **kwargs)\u001b[0m\n\u001b[0;32m    357\u001b[0m     path \u001b[39m=\u001b[39m parse_path(fp)\n\u001b[0;32m    359\u001b[0m \u001b[39mif\u001b[39;00m mode \u001b[39min\u001b[39;00m (\u001b[39m\"\u001b[39m\u001b[39ma\u001b[39m\u001b[39m\"\u001b[39m, \u001b[39m\"\u001b[39m\u001b[39mr\u001b[39m\u001b[39m\"\u001b[39m):\n\u001b[1;32m--> 360\u001b[0m     colxn \u001b[39m=\u001b[39m Collection(\n\u001b[0;32m    361\u001b[0m         path,\n\u001b[0;32m    362\u001b[0m         mode,\n\u001b[0;32m    363\u001b[0m         driver\u001b[39m=\u001b[39mdriver,\n\u001b[0;32m    364\u001b[0m         encoding\u001b[39m=\u001b[39mencoding,\n\u001b[0;32m    365\u001b[0m         layer\u001b[39m=\u001b[39mlayer,\n\u001b[0;32m    366\u001b[0m         enabled_drivers\u001b[39m=\u001b[39menabled_drivers,\n\u001b[0;32m    367\u001b[0m         allow_unsupported_drivers\u001b[39m=\u001b[39mallow_unsupported_drivers,\n\u001b[0;32m    368\u001b[0m         \u001b[39m*\u001b[39m\u001b[39m*\u001b[39mkwargs\n\u001b[0;32m    369\u001b[0m     )\n\u001b[0;32m    370\u001b[0m \u001b[39melif\u001b[39;00m mode \u001b[39m==\u001b[39m \u001b[39m\"\u001b[39m\u001b[39mw\u001b[39m\u001b[39m\"\u001b[39m:\n\u001b[0;32m    371\u001b[0m     colxn \u001b[39m=\u001b[39m Collection(\n\u001b[0;32m    372\u001b[0m         path,\n\u001b[0;32m    373\u001b[0m         mode,\n\u001b[1;32m   (...)\u001b[0m\n\u001b[0;32m    382\u001b[0m         \u001b[39m*\u001b[39m\u001b[39m*\u001b[39mkwargs\n\u001b[0;32m    383\u001b[0m     )\n",
      "File \u001b[1;32mc:\\Users\\haowu\\Anaconda3\\envs\\traffic\\lib\\site-packages\\fiona\\collection.py:234\u001b[0m, in \u001b[0;36mCollection.__init__\u001b[1;34m(self, path, mode, driver, schema, crs, encoding, layer, vsi, archive, enabled_drivers, crs_wkt, ignore_fields, ignore_geometry, include_fields, wkt_version, allow_unsupported_drivers, **kwargs)\u001b[0m\n\u001b[0;32m    232\u001b[0m \u001b[39mif\u001b[39;00m \u001b[39mself\u001b[39m\u001b[39m.\u001b[39mmode \u001b[39m==\u001b[39m \u001b[39m\"\u001b[39m\u001b[39mr\u001b[39m\u001b[39m\"\u001b[39m:\n\u001b[0;32m    233\u001b[0m     \u001b[39mself\u001b[39m\u001b[39m.\u001b[39msession \u001b[39m=\u001b[39m Session()\n\u001b[1;32m--> 234\u001b[0m     \u001b[39mself\u001b[39m\u001b[39m.\u001b[39msession\u001b[39m.\u001b[39mstart(\u001b[39mself\u001b[39m, \u001b[39m*\u001b[39m\u001b[39m*\u001b[39mkwargs)\n\u001b[0;32m    235\u001b[0m \u001b[39melif\u001b[39;00m \u001b[39mself\u001b[39m\u001b[39m.\u001b[39mmode \u001b[39min\u001b[39;00m (\u001b[39m\"\u001b[39m\u001b[39ma\u001b[39m\u001b[39m\"\u001b[39m, \u001b[39m\"\u001b[39m\u001b[39mw\u001b[39m\u001b[39m\"\u001b[39m):\n\u001b[0;32m    236\u001b[0m     \u001b[39mself\u001b[39m\u001b[39m.\u001b[39msession \u001b[39m=\u001b[39m WritingSession()\n",
      "File \u001b[1;32mfiona\\ogrext.pyx:587\u001b[0m, in \u001b[0;36mfiona.ogrext.Session.start\u001b[1;34m()\u001b[0m\n",
      "File \u001b[1;32mfiona\\ogrext.pyx:143\u001b[0m, in \u001b[0;36mfiona.ogrext.gdal_open_vector\u001b[1;34m()\u001b[0m\n",
      "\u001b[1;31mDriverError\u001b[0m: ../data/shape/tmc_shape_TSMO/tmc_shape_TSMO_for_sjoin.geojson: No such file or directory"
     ]
    }
   ],
   "source": [
    "'''\n",
    "execute the following code block only if set_hwd_tmc_segments_shp and set_hwd_xd_segments_str_shp are not in place\n",
    "'''\n",
    "# Segments\n",
    "gdf_tmc_TSMO = gpd.read_file(\"../data/shape/tmc_shape_TSMO/tmc_shape_TSMO_for_sjoin.geojson\")  # 1591 TMC segments in TSMO (selected from Carroll, Howard and Baltimore) used for spatial join\n",
    "gdf_xd_TSMO = gpd.read_file(\"../data/shape/xd_shape_TSMO/xd_shape_TSMO_for_sjoin.geojson\")  # 2501 XD segments in TSMO (selected from Carroll, Howard and Baltimore) used for spatial join\n",
    "\n",
    "set_tmc_segments_shp_TSMO = set(gdf_tmc_TSMO.tmc)\n",
    "set_xd_segments_str_shp_TSMO = set(gdf_xd_TSMO.xd.astype(str))\n",
    "\n",
    "pickle.dump(set_tmc_segments_shp_TSMO, open(\"./TSMO/set_tmc_segments_shp_TSMO.pkl\", \"wb\"))\n",
    "pickle.dump(set_xd_segments_str_shp_TSMO, open(\"./TSMO/set_xd_segments_str_shp_TSMO.pkl\", \"wb\"))"
   ]
  },
  {
   "cell_type": "code",
   "execution_count": 7,
   "metadata": {},
   "outputs": [],
   "source": [
    "df_xd_to_tmc_TSMO = pickle.load(open(\"./TSMO/df_xd_to_tmc_TSMO.pkl\", \"rb\"))\n",
    "set_xd_segments_str_sjoin_TSMO = set(df_xd_to_tmc_TSMO.id_xd_str)  # 2427"
   ]
  },
  {
   "cell_type": "markdown",
   "metadata": {},
   "source": [
    "### 2. Downsample Raw Speed Data Files\n",
    "\n",
    "Execute this code block ONLY IF downsampled csv data are not available on file\n",
    "\n",
    "tmc process and xd process CANNOT be executed simultaneously, otherwise the notebook will encounter kernel crash\n"
   ]
  },
  {
   "cell_type": "code",
   "execution_count": 7,
   "metadata": {},
   "outputs": [
    {
     "name": "stderr",
     "output_type": "stream",
     "text": [
      "382it [1:15:25, 11.85s/it]\n"
     ]
    },
    {
     "name": "stdout",
     "output_type": "stream",
     "text": [
      "Finished reading chunks!\n"
     ]
    }
   ],
   "source": [
    "downsampled_tmc_1min_all_bh_part2 = downsample_large_dataset(\"tmc\", \"/Volumes/Hao's WD/TSMO/Speed/B&H_tmc_1min/B&H_tmc_1min_all_part2.csv\", \"/Volumes/Hao's WD/TSMO/Speed/B&H_tmc_1min/downsampled_B&H_tmc_1min_all_part2.csv\", set_tmc_segments_shp_TSMO, busi_date, start_time, end_time)"
   ]
  },
  {
   "cell_type": "code",
   "execution_count": 7,
   "metadata": {},
   "outputs": [
    {
     "name": "stderr",
     "output_type": "stream",
     "text": [
      "202it [27:58,  8.31s/it]\n"
     ]
    },
    {
     "name": "stdout",
     "output_type": "stream",
     "text": [
      "Finished reading chunks!\n"
     ]
    }
   ],
   "source": [
    "# Take ~28 min to execute\n",
    "# downsampled_tmc_1min_all_bh: shape (203263672, 6)\n",
    "downsampled_tmc_1min_all_bh_part1 = downsample_large_dataset(\"tmc\", \"/Volumes/Hao's WD/TSMO/Speed/B&H_tmc_1min/B&H_tmc_1min_all_part1.csv\", \"/Volumes/Hao's WD/TSMO/Speed/B&H_tmc_1min/downsampled_B&H_tmc_1min_all_part1.csv\", set_tmc_segments_shp_TSMO, busi_date, start_time, end_time)\n",
    "\n",
    "# Take ~2 min to execute\n",
    "# downsampled_tmc_1min_truck_2022_bh: shape (9509162, 7)\n",
    "downsampled_tmc_1min_truck_2022_bh = downsample_large_dataset(\"tmc\", \"/Volumes/Hao's WD/TSMO/Speed/B&H_tmc_1min/B&H_tmc_1min_truck_2022.csv\", \"/Volumes/Hao's WD/TSMO/Speed/B&H_tmc_1min/downsampled_B&H_tmc_1min_truck_2022.csv\", set_tmc_segments_shp_TSMO, busi_date, start_time, end_time)\n",
    "\n",
    "# Take ~31 sec to execute\n",
    "# downsampled_tmc_1min_truck_2023_bh: shape (1268097, 7)\n",
    "downsampled_tmc_1min_truck_2023_bh = downsample_large_dataset(\"tmc\", \"/Volumes/Hao's WD/TSMO/Speed/B&H_tmc_1min/B&H_tmc_1min_truck_2023.csv\", \"/Volumes/Hao's WD/TSMO/Speed/B&H_tmc_1min/downsampled_B&H_tmc_1min_truck_2023.csv\", set_tmc_segments_shp_TSMO, busi_date, start_time, end_time)\n",
    "\n",
    "# Take ~4 min to execute\n",
    "# downsampled_tmc_1min_pv_2022_bh: shape (14498618, 7)\n",
    "downsampled_tmc_1min_pv_2022_bh = downsample_large_dataset(\"tmc\", \"/Volumes/Hao's WD/TSMO/Speed/B&H_tmc_1min/B&H_tmc_1min_pv_2022.csv\", \"/Volumes/Hao's WD/TSMO/Speed/B&H_tmc_1min/downsampled_B&H_tmc_1min_pv_2022.csv\", set_tmc_segments_shp_TSMO, busi_date, start_time, end_time)\n",
    "\n",
    "# Take ~1.5 min to execute\n",
    "# downsampled_tmc_1min_pv_2023_bh: shape (1860391, 7)\n",
    "downsampled_tmc_1min_pv_2023_bh = downsample_large_dataset(\"tmc\", \"/Volumes/Hao's WD/TSMO/Speed/B&H_tmc_1min/B&H_tmc_1min_pv_2023.csv\", \"/Volumes/Hao's WD/TSMO/Speed/B&H_tmc_1min/downsampled_B&H_tmc_1min_pv_2023.csv\", set_tmc_segments_shp_TSMO, busi_date, start_time, end_time)\n",
    "\n",
    "# Take ~5 min to execute\n",
    "# downsampled_tmc_1min_all_Carroll: shape (5313712, 8)\n",
    "downsampled_tmc_1min_all_Carroll = downsample_large_dataset(\"tmc\", \"/Volumes/Hao's WD/TSMO/Speed/Carroll_tmc_1min/Carroll_tmc_1min_all.csv\", \"/Volumes/Hao's WD/TSMO/Speed/Carroll_tmc_1min/downsampled_Carroll_tmc_1min_all.csv\", set_tmc_segments_shp_TSMO, busi_date, start_time, end_time)\n",
    "\n",
    "# Take ~4 sec to execute\n",
    "# downsampled_tmc_1min_truck_2022_Carroll: shape (244643, 7)\n",
    "downsampled_tmc_1min_truck_2022_Carroll = downsample_large_dataset(\"tmc\", \"/Volumes/Hao's WD/TSMO/Speed/Carroll_tmc_1min/Carroll_tmc_1min_truck_2022.csv\", \"/Volumes/Hao's WD/TSMO/Speed/Carroll_tmc_1min/downsampled_Carroll_tmc_1min_truck_2022.csv\", set_tmc_segments_shp_TSMO, busi_date, start_time, end_time)\n",
    "\n",
    "# Take ~1 sec to execute\n",
    "# downsampled_tmc_1min_truck_2023_Carroll: shape (33574, 7)\n",
    "downsampled_tmc_1min_truck_2023_Carroll = downsample_large_dataset(\"tmc\", \"/Volumes/Hao's WD/TSMO/Speed/Carroll_tmc_1min/Carroll_tmc_1min_truck_2023.csv\", \"/Volumes/Hao's WD/TSMO/Speed/Carroll_tmc_1min/downsampled_Carroll_tmc_1min_truck_2023.csv\", set_tmc_segments_shp_TSMO, busi_date, start_time, end_time)\n",
    "\n",
    "# Take ~8 sec to execute\n",
    "# downsampled_tmc_1min_pv_2022_Carroll: shape (340386, 7)\n",
    "downsampled_tmc_1min_pv_2022_Carroll = downsample_large_dataset(\"tmc\", \"/Volumes/Hao's WD/TSMO/Speed/Carroll_tmc_1min/Carroll_tmc_1min_pv_2022.csv\", \"/Volumes/Hao's WD/TSMO/Speed/Carroll_tmc_1min/downsampled_Carroll_tmc_1min_pv_2022.csv\", set_tmc_segments_shp_TSMO, busi_date, start_time, end_time)\n",
    "\n",
    "# Take ~1 sec to execute\n",
    "# downsampled_tmc_1min_pv_2023_Carroll: shape (45562, 7)\n",
    "downsampled_tmc_1min_pv_2023_Carroll = downsample_large_dataset(\"tmc\", \"/Volumes/Hao's WD/TSMO/Speed/Carroll_tmc_1min/Carroll_tmc_1min_pv_2023.csv\", \"/Volumes/Hao's WD/TSMO/Speed/Carroll_tmc_1min/downsampled_Carroll_tmc_1min_pv_2023.csv\", set_tmc_segments_shp_TSMO, busi_date, start_time, end_time)"
   ]
  },
  {
   "cell_type": "markdown",
   "metadata": {},
   "source": [
    "### 3. Pivot Downsampled Data and Generate Speed/Density Dataframe\n",
    "The following code blocks are executed on MSI desktop, which has 64GB RAM. "
   ]
  },
  {
   "cell_type": "markdown",
   "metadata": {},
   "source": [
    "#### 3.1 All Speed & Density"
   ]
  },
  {
   "cell_type": "code",
   "execution_count": 11,
   "metadata": {},
   "outputs": [],
   "source": [
    "# downsampled_tmc_1min_all_bh_part1 = pd.read_csv(\"../data/downsampled_tmc_1min_all_bh/downsampled_B&H_tmc_1min_all_part1.csv\")\n",
    "# downsampled_tmc_1min_all_bh_part2 = pd.read_csv(\"../data/downsampled_tmc_1min_all_bh/downsampled_B&H_tmc_1min_all_part2.csv\")\n",
    "downsampled_Carroll_tmc_1min_all = pd.read_csv(\"/Volumes/Hao's WD/TSMO/Speed/Carroll_tmc_1min/downsampled_Carroll_tmc_1min_all.csv\")\n",
    "\n",
    "# df_downsampled_spd_tmc_1min_all_bh_part1 = pivot_df(\"tmc\", \"speed\", 1, df=downsampled_tmc_1min_all_bh_part1, busi_date=busi_date, num_slot=930, freq=1, start_time=start_time, end_time=end_time, output_file_path=\"../data/df_downsampled_spd_tmc_1min_all_bh_part1.pkl\") \n",
    "# df_downsampled_spd_tmc_1min_all_bh_part2 = pivot_df(\"tmc\", \"speed\", 1, df=downsampled_tmc_1min_all_bh_part2, busi_date=busi_date, num_slot=930, freq=1, start_time=start_time, end_time=end_time, output_file_path=\"../data/df_downsampled_spd_tmc_1min_all_bh_part2.pkl\") "
   ]
  },
  {
   "cell_type": "code",
   "execution_count": 8,
   "metadata": {},
   "outputs": [
    {
     "data": {
      "text/html": [
       "<div>\n",
       "<style scoped>\n",
       "    .dataframe tbody tr th:only-of-type {\n",
       "        vertical-align: middle;\n",
       "    }\n",
       "\n",
       "    .dataframe tbody tr th {\n",
       "        vertical-align: top;\n",
       "    }\n",
       "\n",
       "    .dataframe thead th {\n",
       "        text-align: right;\n",
       "    }\n",
       "</style>\n",
       "<table border=\"1\" class=\"dataframe\">\n",
       "  <thead>\n",
       "    <tr style=\"text-align: right;\">\n",
       "      <th></th>\n",
       "      <th>tmc_code</th>\n",
       "      <th>measurement_tstamp</th>\n",
       "      <th>speed</th>\n",
       "      <th>average_speed</th>\n",
       "      <th>reference_speed</th>\n",
       "      <th>travel_time_minutes</th>\n",
       "      <th>confidence_score</th>\n",
       "      <th>cvalue</th>\n",
       "    </tr>\n",
       "  </thead>\n",
       "  <tbody>\n",
       "    <tr>\n",
       "      <th>0</th>\n",
       "      <td>110-06183</td>\n",
       "      <td>2022-02-14 05:30:00</td>\n",
       "      <td>35.0</td>\n",
       "      <td>37.0</td>\n",
       "      <td>36.0</td>\n",
       "      <td>0.54</td>\n",
       "      <td>30.0</td>\n",
       "      <td>100.0</td>\n",
       "    </tr>\n",
       "    <tr>\n",
       "      <th>1</th>\n",
       "      <td>110-06183</td>\n",
       "      <td>2022-02-14 05:31:00</td>\n",
       "      <td>35.0</td>\n",
       "      <td>37.0</td>\n",
       "      <td>36.0</td>\n",
       "      <td>0.54</td>\n",
       "      <td>30.0</td>\n",
       "      <td>100.0</td>\n",
       "    </tr>\n",
       "    <tr>\n",
       "      <th>2</th>\n",
       "      <td>110-06183</td>\n",
       "      <td>2022-02-14 05:32:00</td>\n",
       "      <td>35.0</td>\n",
       "      <td>37.0</td>\n",
       "      <td>36.0</td>\n",
       "      <td>0.54</td>\n",
       "      <td>30.0</td>\n",
       "      <td>100.0</td>\n",
       "    </tr>\n",
       "    <tr>\n",
       "      <th>3</th>\n",
       "      <td>110-06183</td>\n",
       "      <td>2022-02-14 05:33:00</td>\n",
       "      <td>35.0</td>\n",
       "      <td>37.0</td>\n",
       "      <td>36.0</td>\n",
       "      <td>0.54</td>\n",
       "      <td>30.0</td>\n",
       "      <td>100.0</td>\n",
       "    </tr>\n",
       "    <tr>\n",
       "      <th>4</th>\n",
       "      <td>110-06183</td>\n",
       "      <td>2022-02-14 05:34:00</td>\n",
       "      <td>35.0</td>\n",
       "      <td>37.0</td>\n",
       "      <td>36.0</td>\n",
       "      <td>0.54</td>\n",
       "      <td>30.0</td>\n",
       "      <td>100.0</td>\n",
       "    </tr>\n",
       "    <tr>\n",
       "      <th>...</th>\n",
       "      <td>...</td>\n",
       "      <td>...</td>\n",
       "      <td>...</td>\n",
       "      <td>...</td>\n",
       "      <td>...</td>\n",
       "      <td>...</td>\n",
       "      <td>...</td>\n",
       "      <td>...</td>\n",
       "    </tr>\n",
       "    <tr>\n",
       "      <th>5313707</th>\n",
       "      <td>110N06174</td>\n",
       "      <td>2023-02-10 20:55:00</td>\n",
       "      <td>33.0</td>\n",
       "      <td>46.0</td>\n",
       "      <td>46.0</td>\n",
       "      <td>0.09</td>\n",
       "      <td>30.0</td>\n",
       "      <td>100.0</td>\n",
       "    </tr>\n",
       "    <tr>\n",
       "      <th>5313708</th>\n",
       "      <td>110N06174</td>\n",
       "      <td>2023-02-10 20:56:00</td>\n",
       "      <td>41.0</td>\n",
       "      <td>46.0</td>\n",
       "      <td>46.0</td>\n",
       "      <td>0.07</td>\n",
       "      <td>30.0</td>\n",
       "      <td>100.0</td>\n",
       "    </tr>\n",
       "    <tr>\n",
       "      <th>5313709</th>\n",
       "      <td>110N06174</td>\n",
       "      <td>2023-02-10 20:57:00</td>\n",
       "      <td>39.0</td>\n",
       "      <td>46.0</td>\n",
       "      <td>46.0</td>\n",
       "      <td>0.07</td>\n",
       "      <td>30.0</td>\n",
       "      <td>100.0</td>\n",
       "    </tr>\n",
       "    <tr>\n",
       "      <th>5313710</th>\n",
       "      <td>110N06174</td>\n",
       "      <td>2023-02-10 20:58:00</td>\n",
       "      <td>39.0</td>\n",
       "      <td>46.0</td>\n",
       "      <td>46.0</td>\n",
       "      <td>0.07</td>\n",
       "      <td>30.0</td>\n",
       "      <td>100.0</td>\n",
       "    </tr>\n",
       "    <tr>\n",
       "      <th>5313711</th>\n",
       "      <td>110N06174</td>\n",
       "      <td>2023-02-10 20:59:00</td>\n",
       "      <td>39.0</td>\n",
       "      <td>46.0</td>\n",
       "      <td>46.0</td>\n",
       "      <td>0.07</td>\n",
       "      <td>30.0</td>\n",
       "      <td>100.0</td>\n",
       "    </tr>\n",
       "  </tbody>\n",
       "</table>\n",
       "<p>5313712 rows × 8 columns</p>\n",
       "</div>"
      ],
      "text/plain": [
       "          tmc_code   measurement_tstamp  speed  average_speed  \\\n",
       "0        110-06183  2022-02-14 05:30:00   35.0           37.0   \n",
       "1        110-06183  2022-02-14 05:31:00   35.0           37.0   \n",
       "2        110-06183  2022-02-14 05:32:00   35.0           37.0   \n",
       "3        110-06183  2022-02-14 05:33:00   35.0           37.0   \n",
       "4        110-06183  2022-02-14 05:34:00   35.0           37.0   \n",
       "...            ...                  ...    ...            ...   \n",
       "5313707  110N06174  2023-02-10 20:55:00   33.0           46.0   \n",
       "5313708  110N06174  2023-02-10 20:56:00   41.0           46.0   \n",
       "5313709  110N06174  2023-02-10 20:57:00   39.0           46.0   \n",
       "5313710  110N06174  2023-02-10 20:58:00   39.0           46.0   \n",
       "5313711  110N06174  2023-02-10 20:59:00   39.0           46.0   \n",
       "\n",
       "         reference_speed  travel_time_minutes  confidence_score  cvalue  \n",
       "0                   36.0                 0.54              30.0   100.0  \n",
       "1                   36.0                 0.54              30.0   100.0  \n",
       "2                   36.0                 0.54              30.0   100.0  \n",
       "3                   36.0                 0.54              30.0   100.0  \n",
       "4                   36.0                 0.54              30.0   100.0  \n",
       "...                  ...                  ...               ...     ...  \n",
       "5313707             46.0                 0.09              30.0   100.0  \n",
       "5313708             46.0                 0.07              30.0   100.0  \n",
       "5313709             46.0                 0.07              30.0   100.0  \n",
       "5313710             46.0                 0.07              30.0   100.0  \n",
       "5313711             46.0                 0.07              30.0   100.0  \n",
       "\n",
       "[5313712 rows x 8 columns]"
      ]
     },
     "execution_count": 8,
     "metadata": {},
     "output_type": "execute_result"
    }
   ],
   "source": [
    "downsampled_Carroll_tmc_1min_all"
   ]
  },
  {
   "cell_type": "code",
   "execution_count": 10,
   "metadata": {},
   "outputs": [
    {
     "name": "stdout",
     "output_type": "stream",
     "text": [
      "Check dates of incomplete slots:\n",
      "2022-03-24 927\n",
      "2022-04-26 928\n",
      "2022-05-04 923\n",
      "2022-05-17 929\n",
      "2022-05-23 929\n",
      "2022-06-01 929\n",
      "2022-07-08 929\n",
      "2022-07-12 926\n",
      "2022-07-29 928\n",
      "2022-08-02 929\n",
      "2022-08-03 918\n",
      "2022-08-26 927\n",
      "2022-10-19 929\n",
      "Check dates of incomplete slots:\n",
      "2022-03-24 926\n",
      "2022-04-14 924\n",
      "2022-04-21 927\n",
      "2022-04-22 928\n",
      "2022-04-25 929\n",
      "2022-04-28 929\n",
      "2022-04-29 926\n",
      "2022-05-02 927\n",
      "2022-05-03 929\n",
      "2022-05-04 925\n",
      "2022-05-06 925\n",
      "2022-05-09 928\n",
      "2022-05-10 929\n",
      "2022-05-11 927\n",
      "2022-05-12 928\n",
      "2022-05-16 929\n",
      "2022-05-18 928\n",
      "2022-05-20 929\n",
      "2022-05-23 929\n",
      "2022-05-24 928\n",
      "2022-05-25 929\n",
      "2022-05-26 929\n",
      "2022-05-27 928\n",
      "2022-05-30 928\n",
      "2022-05-31 929\n",
      "2022-06-01 928\n",
      "2022-06-02 928\n",
      "2022-06-03 929\n",
      "2022-06-06 926\n",
      "2022-06-15 929\n",
      "2022-06-16 929\n",
      "2022-06-17 927\n",
      "2022-06-22 927\n",
      "2022-06-23 929\n",
      "2022-06-24 928\n",
      "2022-06-28 929\n",
      "2022-07-01 929\n",
      "2022-07-29 929\n",
      "2022-08-02 894\n",
      "2022-08-03 892\n",
      "2022-08-16 929\n",
      "2022-08-17 929\n",
      "2022-10-03 929\n",
      "2022-10-12 927\n",
      "2022-10-13 928\n",
      "2022-10-14 928\n",
      "2022-10-17 928\n",
      "2022-10-19 929\n",
      "2022-11-17 877\n",
      "2022-11-21 929\n",
      "2022-12-01 926\n",
      "2022-12-07 929\n",
      "2022-12-09 928\n",
      "2022-12-15 926\n",
      "2022-12-16 925\n",
      "2022-12-21 928\n",
      "2022-12-22 926\n",
      "2022-12-23 927\n",
      "2022-12-27 929\n",
      "2022-12-30 927\n",
      "2023-01-03 929\n",
      "2023-01-18 929\n",
      "2023-01-26 929\n",
      "2023-02-03 929\n"
     ]
    }
   ],
   "source": [
    "df_downsampled_spd_tmc_1min_all_bh_part1 = pivot_df(\"tmc\", \"speed\", 1, df=downsampled_tmc_1min_all_bh_part1, busi_date=busi_date, num_slot=930, freq=1, start_time=start_time, end_time=end_time, output_file_path=\"../data/df_downsampled_spd_tmc_1min_all_bh_part1.pkl\") \n",
    "df_downsampled_spd_tmc_1min_all_bh_part2 = pivot_df(\"tmc\", \"speed\", 1, df=downsampled_tmc_1min_all_bh_part2, busi_date=busi_date, num_slot=930, freq=1, start_time=start_time, end_time=end_time, output_file_path=\"../data/df_downsampled_spd_tmc_1min_all_bh_part2.pkl\") "
   ]
  },
  {
   "cell_type": "code",
   "execution_count": 14,
   "metadata": {},
   "outputs": [],
   "source": [
    "df_downsampled_spd_tmc_1min_all_bh_part1 = pickle.load(open(\"../data/df_downsampled_spd_tmc_1min_all_bh_part1.pkl\", \"rb\"))  # (241800, 841)\n",
    "df_downsampled_spd_tmc_1min_all_bh_part2 = pickle.load(open(\"../data/df_downsampled_spd_tmc_1min_all_bh_part2.pkl\", \"rb\"))  # (241800, 1565)\n",
    "\n",
    "df_downsampled_spd_tmc_1min_all_bh = pd.concat((df_downsampled_spd_tmc_1min_all_bh_part1, df_downsampled_spd_tmc_1min_all_bh_part2), axis=1) # (241800, 2406)"
   ]
  },
  {
   "cell_type": "code",
   "execution_count": 25,
   "metadata": {},
   "outputs": [],
   "source": [
    "# Remove duplicated columns\n",
    "df_downsampled_spd_tmc_1min_all_bh = df_downsampled_spd_tmc_1min_all_bh.loc[:,~df_downsampled_spd_tmc_1min_all_bh.columns.duplicated()].copy()  # (241800, 1565)"
   ]
  },
  {
   "cell_type": "code",
   "execution_count": 27,
   "metadata": {},
   "outputs": [],
   "source": [
    "pickle.dump(df_downsampled_spd_tmc_1min_all_bh, open(\"../data/df_downsampled_spd_tmc_1min_all_bh.pkl\", \"wb\"))"
   ]
  },
  {
   "cell_type": "code",
   "execution_count": 8,
   "metadata": {},
   "outputs": [
    {
     "ename": "",
     "evalue": "",
     "output_type": "error",
     "traceback": [
      "\u001b[1;31mThe Kernel crashed while executing code in the the current cell or a previous cell. Please review the code in the cell(s) to identify a possible cause of the failure. Click <a href='https://aka.ms/vscodeJupyterKernelCrash'>here</a> for more info. View Jupyter <a href='command:jupyter.viewOutput'>log</a> for further details."
     ]
    },
    {
     "ename": "",
     "evalue": "",
     "output_type": "error",
     "traceback": [
      "\u001b[1;31mCanceled future for execute_request message before replies were done"
     ]
    }
   ],
   "source": [
    "# # too large to run on either Mac or MSI\n",
    "# downsampled_tmc_1min_all_bh = pd.concat((downsampled_tmc_1min_all_bh_part1,downsampled_tmc_1min_all_bh_part2)).reset_index(drop=True)\n",
    "# downsampled_tmc_1min_all_bh.to_csv(\"/Volumnes/Hao's WD/TSMO/Speed/B&H_tmc_1min/downsampled_tmc_1min_all_bh.csv\", index=False)\n",
    "# df_downsampled_spd_tmc_1min_all_bh = pivot_df(\"tmc\", \"speed\", 1, df=downsampled_tmc_1min_all_bh, busi_date=busi_date, num_slot=930, freq=1, start_time=start_time, end_time=end_time, output_file_path=\"../data/df_downsampled_spd_tmc_1min_all_bh.pkl\") \n",
    "# df_downsampled_dens_tmc_1min_all_bh = pivot_df(\"tmc\", \"density\", 1, df=downsampled_tmc_1min_all_bh, busi_date=busi_date, num_slot=930, freq=1, start_time=start_time, end_time=end_time, output_file_path=\"../data/df_downsampled_dens_tmc_1min_all_bh.pkl\") "
   ]
  },
  {
   "cell_type": "markdown",
   "metadata": {},
   "source": [
    "#### 3.2 Vehicle-specific Speed & Density"
   ]
  },
  {
   "cell_type": "code",
   "execution_count": 35,
   "metadata": {},
   "outputs": [],
   "source": [
    "# downsampled_tmc_1min_truck_TSMO: shape (11055476, 7)\n",
    "downsampled_tmc_1min_truck_TSMO = pd.concat((downsampled_tmc_1min_truck_2022_bh, downsampled_tmc_1min_truck_2023_bh, downsampled_tmc_1min_truck_2022_Carroll, downsampled_tmc_1min_truck_2023_Carroll)).reset_index(drop=True)\n",
    "\n",
    "# downsampled_tmc_1min_pv_TSMO: shape (16744957, 7)\n",
    "downsampled_tmc_1min_pv_TSMO = pd.concat((downsampled_tmc_1min_pv_2022_bh, downsampled_tmc_1min_pv_2023_bh, downsampled_tmc_1min_pv_2022_Carroll, downsampled_tmc_1min_pv_2023_Carroll)).reset_index(drop=True)"
   ]
  },
  {
   "cell_type": "code",
   "execution_count": 37,
   "metadata": {},
   "outputs": [],
   "source": [
    "downsampled_tmc_1min_truck_TSMO.to_csv(\"/Volumes/Hao's WD/TSMO/Speed/downsampled_tmc_1min_truck_TSMO.csv\", index=False)\n",
    "downsampled_tmc_1min_pv_TSMO.to_csv(\"/Volumes/Hao's WD/TSMO/Speed/downsampled_tmc_1min_pv_TSMO.csv\", index=False)"
   ]
  },
  {
   "cell_type": "code",
   "execution_count": 28,
   "metadata": {},
   "outputs": [],
   "source": [
    "downsampled_tmc_5min_truck_TSMO = pd.read_csv(\"/Volumes/Hao's WD/TSMO/Speed/downsampled_tmc_5min_truck_TSMO.csv\")\n",
    "downsampled_tmc_5min_pv_TSMO = pd.read_csv(\"/Volumes/Hao's WD/TSMO/Speed/downsampled_tmc_5min_pv_TSMO.csv\")"
   ]
  },
  {
   "cell_type": "code",
   "execution_count": 30,
   "metadata": {},
   "outputs": [
    {
     "name": "stdout",
     "output_type": "stream",
     "text": [
      "Check dates of incomplete slots:\n",
      "Check dates of incomplete slots:\n",
      "Check dates of incomplete slots:\n",
      "Check dates of incomplete slots:\n"
     ]
    }
   ],
   "source": [
    "df_downsampled_spd_tmc_1min_truck_TSMO = pivot_df(\"tmc\", \"speed\", 5, df=downsampled_tmc_1min_truck_TSMO, busi_date=busi_date, num_slot=186, freq=5, start_time=start_time, end_time=end_time, output_file_path=\"../data/df_downsampled_spd_tmc_5min_truck_TSMO.pkl\") \n",
    "df_downsampled_dens_tmc_1min_truck_TSMO = pivot_df(\"tmc\", \"density\", 5, df=downsampled_tmc_1min_truck_TSMO, busi_date=busi_date, num_slot=186, freq=5, start_time=start_time, end_time=end_time, output_file_path=\"../data/df_downsampled_dens_tmc_5min_truck_TSMO.pkl\") \n",
    "df_downsampled_spd_tmc_1min_pv_TSMO = pivot_df(\"tmc\", \"speed\", 5, df=downsampled_tmc_1min_pv_TSMO, busi_date=busi_date, num_slot=186, freq=5, start_time=start_time, end_time=end_time, output_file_path=\"../data/df_downsampled_spd_tmc_5min_pv_TSMO.pkl\") \n",
    "df_downsampled_dens_tmc_1min_pv_TSMO = pivot_df(\"tmc\", \"density\", 5, df=downsampled_tmc_1min_pv_TSMO, busi_date=busi_date, num_slot=186, freq=5, start_time=start_time, end_time=end_time, output_file_path=\"../data/df_downsampled_dens_tmc_5min_pv_TSMO.pkl\") "
   ]
  },
  {
   "cell_type": "code",
   "execution_count": null,
   "metadata": {},
   "outputs": [],
   "source": []
  }
 ],
 "metadata": {
  "kernelspec": {
   "display_name": "Python 3.10.6 ('traffic')",
   "language": "python",
   "name": "python3"
  },
  "language_info": {
   "codemirror_mode": {
    "name": "ipython",
    "version": 3
   },
   "file_extension": ".py",
   "mimetype": "text/x-python",
   "name": "python",
   "nbconvert_exporter": "python",
   "pygments_lexer": "ipython3",
   "version": "3.10.6"
  },
  "orig_nbformat": 4,
  "vscode": {
   "interpreter": {
    "hash": "4c7976fd35f11d6b5acd37b5df05c2b1d9460872f4ccb0abe3e95e9a1eb343e6"
   }
  }
 },
 "nbformat": 4,
 "nbformat_minor": 2
}
