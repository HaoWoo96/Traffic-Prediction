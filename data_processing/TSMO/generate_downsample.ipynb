{
 "cells": [
  {
   "cell_type": "code",
   "execution_count": 15,
   "metadata": {},
   "outputs": [
    {
     "name": "stdout",
     "output_type": "stream",
     "text": [
      "/Users/haowu/Desktop/Transportation Research/Traffic-Prediction/data_processing\n"
     ]
    }
   ],
   "source": [
    "!pwd"
   ]
  },
  {
   "cell_type": "code",
   "execution_count": 2,
   "metadata": {},
   "outputs": [
    {
     "name": "stdout",
     "output_type": "stream",
     "text": [
      "/Users/haowu/Desktop/Transportation Research/Traffic-Prediction/data_processing\n"
     ]
    }
   ],
   "source": [
    "%cd .."
   ]
  },
  {
   "cell_type": "code",
   "execution_count": 3,
   "metadata": {},
   "outputs": [],
   "source": [
    "import csv\n",
    "import pandas as pd\n",
    "import numpy as np\n",
    "#import geopandas as gpd\n",
    "#import networkx as nx\n",
    "import math\n",
    "import pickle\n",
    "\n",
    "import datetime\n",
    "from datetime import datetime as dt\n",
    "from collections import Counter\n",
    "from scipy.spatial.distance import cdist\n",
    "from scipy import stats\n",
    "from sklearn.preprocessing import MinMaxScaler\n",
    "from tqdm import tqdm\n",
    "from matplotlib import pyplot as plt\n",
    "\n",
    "from utils import *"
   ]
  },
  {
   "cell_type": "markdown",
   "metadata": {},
   "source": [
    "### 1. Hyperparameters"
   ]
  },
  {
   "cell_type": "code",
   "execution_count": 4,
   "metadata": {},
   "outputs": [],
   "source": [
    "# Time\n",
    "start_date = dt(2022, 2, 14)\n",
    "end_date = dt(2023, 2, 12)\n",
    "start_time = 330 # 05:30:00 \n",
    "end_time = 1260 # 21:00:00\n",
    "busi_date = pd.bdate_range(start=start_date, end=end_date).date  # 260 business dates"
   ]
  },
  {
   "cell_type": "code",
   "execution_count": 5,
   "metadata": {},
   "outputs": [],
   "source": [
    "# Shapefile for Visualization\n",
    "gdf_tmc_TSMO = gpd.read_file(\"../data/TSMO/TSMO_tmc_shape/TSMO_tmc_shape_for_sjoin.geojson\")  # 1591 TMC segments in TSMO (selected from Carroll, Howard and Baltimore) used for spatial join\n",
    "gdf_tmc_TSMO = gdf_tmc_TSMO.rename(columns={\"tmc\":\"id_tmc\"})\n",
    "\n",
    "gdf_xd_TSMO = gpd.read_file(\"../data/TSMO/TSMO_xd_shape/TSMO_xd_shape_for_sjoin.geojson\")  # 2501 XD segments in TSMO (selected from Carroll, Howard and Baltimore) used for spatial join"
   ]
  },
  {
   "cell_type": "code",
   "execution_count": 6,
   "metadata": {},
   "outputs": [],
   "source": [
    "# Set of Segments of Interest\n",
    "set_tmc_segments_with_upstream = pickle.load(open(\"./TSMO/TSMO_set_tmc_segments_with_upstream.pkl\", \"rb\"))  # 1433 TMC segments with upstream segments, from which we filter those with speed data and select our final set of target TMC segments\n",
    "set_xd_setments_str = pickle.load(open(\"./TSMO/TSMO_set_xd_str_segments_matched_with_tmc.pkl\", \"rb\"))  # 2427 XD segments with matched TMC segments, from which we filter those with speed data and help impute missing TMC speed data if any"
   ]
  },
  {
   "cell_type": "markdown",
   "metadata": {},
   "source": [
    "### 2. Downsample Raw Speed Data Files\n",
    "\n",
    "Execute the following code blocks ONLY IF downsampled csv data are not available on file\n",
    "\n",
    "On Mac, tmc process and xd process CANNOT be executed simultaneously, otherwise the notebook will encounter kernel crash\n"
   ]
  },
  {
   "cell_type": "code",
   "execution_count": 11,
   "metadata": {},
   "outputs": [
    {
     "name": "stderr",
     "output_type": "stream",
     "text": [
      "75it [17:07, 13.70s/it]\n"
     ]
    },
    {
     "name": "stdout",
     "output_type": "stream",
     "text": [
      "Finished reading chunks!\n"
     ]
    }
   ],
   "source": [
    "# Take ~35 min to execute\n",
    "downsampled_tmc_1min_all = downsample_large_dataset(type=\"tmc\", \n",
    "                                                    input_file_path=\"/Volumes/Hao's WD/TSMO/TSMO_tmc_1min_all/TSMO_tmc_1min_all/TSMO_tmc_1min_all.csv\", \n",
    "                                                    output_file_path=\"/Volumes/Hao's WD/TSMO/TSMO_tmc_1min_all/TSMO_downsampled_tmc_1min_all.csv\",\n",
    "                                                    set_segments=set_tmc_segments_with_upstream,\n",
    "                                                    busi_date=busi_date,\n",
    "                                                    start_time=start_time,\n",
    "                                                    end_time=end_time)"
   ]
  },
  {
   "cell_type": "code",
   "execution_count": 8,
   "metadata": {},
   "outputs": [
    {
     "name": "stderr",
     "output_type": "stream",
     "text": [
      "123it [29:55, 14.60s/it]\n"
     ]
    },
    {
     "name": "stdout",
     "output_type": "stream",
     "text": [
      "Finished reading chunks!\n"
     ]
    },
    {
     "ename": "",
     "evalue": "",
     "output_type": "error",
     "traceback": [
      "\u001b[1;31mThe Kernel crashed while executing code in the the current cell or a previous cell. Please review the code in the cell(s) to identify a possible cause of the failure. Click <a href='https://aka.ms/vscodeJupyterKernelCrash'>here</a> for more info. View Jupyter <a href='command:jupyter.viewOutput'>log</a> for further details."
     ]
    },
    {
     "ename": "",
     "evalue": "",
     "output_type": "error",
     "traceback": [
      "\u001b[1;31mCanceled future for execute_request message before replies were done"
     ]
    }
   ],
   "source": [
    "# Too large to be executed on Mac\n",
    "downsampled_xd_1min = downsample_large_dataset(type=\"xd\", \n",
    "                                                input_file_path=\"/Volumes/Hao's WD/TSMO/TSMO_xd_1min/TSMO_xd_1min.csv\", \n",
    "                                                output_file_path=\"/Volumes/Hao's WD/TSMO/TSMO_xd_1min/TSMO_downsampled_xd_1min.csv\",\n",
    "                                                set_segments=set_xd_setments_str,\n",
    "                                                busi_date=busi_date,\n",
    "                                                start_time=start_time,\n",
    "                                                end_time=end_time)"
   ]
  },
  {
   "cell_type": "code",
   "execution_count": 19,
   "metadata": {},
   "outputs": [
    {
     "name": "stderr",
     "output_type": "stream",
     "text": [
      "3it [00:46, 15.42s/it]\n"
     ]
    },
    {
     "name": "stdout",
     "output_type": "stream",
     "text": [
      "Finished reading chunks!\n"
     ]
    },
    {
     "name": "stderr",
     "output_type": "stream",
     "text": [
      "1it [00:13, 13.41s/it]\n"
     ]
    },
    {
     "name": "stdout",
     "output_type": "stream",
     "text": [
      "Finished reading chunks!\n"
     ]
    }
   ],
   "source": [
    "# Take ~2 min to execute\n",
    "downsampled_tmc_5min_all_2022 = downsample_large_dataset(type=\"tmc\", \n",
    "                                                    input_file_path=\"/Volumes/Hao's WD/TSMO/TSMO_tmc_5min_vehicles/TSMO_tmc_5min_all_2022/TSMO_tmc_5min_all_2022.csv\", \n",
    "                                                    output_file_path=\"/Volumes/Hao's WD/TSMO/TSMO_tmc_5min_vehicles/TSMO_downsampled_tmc_5min_all_2022.csv\",\n",
    "                                                    set_segments=set_tmc_segments_with_upstream,\n",
    "                                                    busi_date=busi_date,\n",
    "                                                    start_time=start_time,\n",
    "                                                    end_time=end_time)\n",
    "\n",
    "downsampled_tmc_5min_all_2023 = downsample_large_dataset(type=\"tmc\", \n",
    "                                                    input_file_path=\"/Volumes/Hao's WD/TSMO/TSMO_tmc_5min_vehicles/TSMO_tmc_5min_all_2023/TSMO_tmc_5min_all_2023.csv\", \n",
    "                                                    output_file_path=\"/Volumes/Hao's WD/TSMO/TSMO_tmc_5min_vehicles/TSMO_downsampled_tmc_5min_all_2023.csv\",\n",
    "                                                    set_segments=set_tmc_segments_with_upstream,\n",
    "                                                    busi_date=busi_date,\n",
    "                                                    start_time=start_time,\n",
    "                                                    end_time=end_time)"
   ]
  },
  {
   "cell_type": "code",
   "execution_count": 20,
   "metadata": {},
   "outputs": [
    {
     "name": "stderr",
     "output_type": "stream",
     "text": [
      "2it [00:25, 12.69s/it]\n"
     ]
    },
    {
     "name": "stdout",
     "output_type": "stream",
     "text": [
      "Finished reading chunks!\n"
     ]
    },
    {
     "name": "stderr",
     "output_type": "stream",
     "text": [
      "1it [00:06,  6.57s/it]\n"
     ]
    },
    {
     "name": "stdout",
     "output_type": "stream",
     "text": [
      "Finished reading chunks!\n"
     ]
    }
   ],
   "source": [
    "# Take ~1 min to execute\n",
    "downsampled_tmc_5min_truck_2022 = downsample_large_dataset(type=\"tmc\", \n",
    "                                                    input_file_path=\"/Volumes/Hao's WD/TSMO/TSMO_tmc_5min_vehicles/TSMO_tmc_5min_truck_2022/TSMO_tmc_5min_truck_2022.csv\", \n",
    "                                                    output_file_path=\"/Volumes/Hao's WD/TSMO/TSMO_tmc_5min_vehicles/TSMO_downsampled_tmc_5min_truck_2022.csv\",\n",
    "                                                    set_segments=set_tmc_segments_with_upstream,\n",
    "                                                    busi_date=busi_date,\n",
    "                                                    start_time=start_time,\n",
    "                                                    end_time=end_time)\n",
    "\n",
    "downsampled_tmc_5min_truck_2023 = downsample_large_dataset(type=\"tmc\", \n",
    "                                                    input_file_path=\"/Volumes/Hao's WD/TSMO/TSMO_tmc_5min_vehicles/TSMO_tmc_5min_truck_2023/TSMO_tmc_5min_truck_2023.csv\", \n",
    "                                                    output_file_path=\"/Volumes/Hao's WD/TSMO/TSMO_tmc_5min_vehicles/TSMO_downsampled_tmc_5min_truck_2023.csv\",\n",
    "                                                    set_segments=set_tmc_segments_with_upstream,\n",
    "                                                    busi_date=busi_date,\n",
    "                                                    start_time=start_time,\n",
    "                                                    end_time=end_time)"
   ]
  },
  {
   "cell_type": "code",
   "execution_count": 21,
   "metadata": {},
   "outputs": [
    {
     "name": "stderr",
     "output_type": "stream",
     "text": [
      "3it [00:47, 15.76s/it]\n"
     ]
    },
    {
     "name": "stdout",
     "output_type": "stream",
     "text": [
      "Finished reading chunks!\n"
     ]
    },
    {
     "name": "stderr",
     "output_type": "stream",
     "text": [
      "1it [00:11, 11.05s/it]\n"
     ]
    },
    {
     "name": "stdout",
     "output_type": "stream",
     "text": [
      "Finished reading chunks!\n"
     ]
    }
   ],
   "source": [
    "# Take ~2 min to execute\n",
    "# downsampled_tmc_1min_pv_2022_bh: shape (14498618, 7)\n",
    "downsampled_tmc_5min_pv_2022 = downsample_large_dataset(type=\"tmc\", \n",
    "                                                    input_file_path=\"/Volumes/Hao's WD/TSMO/TSMO_tmc_5min_vehicles/TSMO_tmc_5min_pv_2022/TSMO_tmc_5min_pv_2022.csv\", \n",
    "                                                    output_file_path=\"/Volumes/Hao's WD/TSMO/TSMO_tmc_5min_vehicles/TSMO_downsampled_tmc_5min_pv_2022.csv\",\n",
    "                                                    set_segments=set_tmc_segments_with_upstream,\n",
    "                                                    busi_date=busi_date,\n",
    "                                                    start_time=start_time,\n",
    "                                                    end_time=end_time)\n",
    "\n",
    "# Take ~1.5 min to execute\n",
    "# downsampled_tmc_1min_pv_2023_bh: shape (1860391, 7)\n",
    "downsampled_tmc_5min_pv_2023 = downsample_large_dataset(type=\"tmc\", \n",
    "                                                    input_file_path=\"/Volumes/Hao's WD/TSMO/TSMO_tmc_5min_vehicles/TSMO_tmc_5min_pv_2023/TSMO_tmc_5min_pv_2023.csv\", \n",
    "                                                    output_file_path=\"/Volumes/Hao's WD/TSMO/TSMO_tmc_5min_vehicles/TSMO_downsampled_tmc_5min_pv_2023.csv\",\n",
    "                                                    set_segments=set_tmc_segments_with_upstream,\n",
    "                                                    busi_date=busi_date,\n",
    "                                                    start_time=start_time,\n",
    "                                                    end_time=end_time)"
   ]
  },
  {
   "cell_type": "code",
   "execution_count": 22,
   "metadata": {},
   "outputs": [],
   "source": [
    "# Take ~2 min to execute\n",
    "downsampled_tmc_5min_all = pd.concat((downsampled_tmc_5min_all_2022, downsampled_tmc_5min_all_2023)).reset_index(drop=True)\n",
    "downsampled_tmc_5min_truck = pd.concat((downsampled_tmc_5min_truck_2022, downsampled_tmc_5min_truck_2023)).reset_index(drop=True)\n",
    "downsampled_tmc_5min_pv = pd.concat((downsampled_tmc_5min_pv_2022, downsampled_tmc_5min_pv_2023)).reset_index(drop=True)\n",
    "downsampled_tmc_5min_all.to_csv(\"/Volumes/Hao's WD/TSMO/TSMO_tmc_5min_vehicles/TSMO_downsampled_tmc_5min_all.csv\", index=False)\n",
    "downsampled_tmc_5min_truck.to_csv(\"/Volumes/Hao's WD/TSMO/TSMO_tmc_5min_vehicles/TSMO_downsampled_tmc_5min_truck.csv\", index=False)\n",
    "downsampled_tmc_5min_pv.to_csv(\"/Volumes/Hao's WD/TSMO/TSMO_tmc_5min_vehicles/TSMO_downsampled_tmc_5min_pv.csv\", index=False)"
   ]
  },
  {
   "cell_type": "markdown",
   "metadata": {},
   "source": [
    "### 3. Pivot Downsampled Data and Generate Speed/Density Dataframe\n",
    "The following code blocks are executed on MSI desktop, which has 64GB RAM. "
   ]
  },
  {
   "cell_type": "markdown",
   "metadata": {},
   "source": [
    "#### 3.1 TMC (All)"
   ]
  },
  {
   "cell_type": "code",
   "execution_count": 10,
   "metadata": {},
   "outputs": [],
   "source": [
    "downsampled_tmc_1min_all = pd.read_csv(\"/Volumes/Hao's WD/TSMO/TSMO_tmc_1min_all/TSMO_downsampled_tmc_1min_all.csv\")"
   ]
  },
  {
   "cell_type": "code",
   "execution_count": 11,
   "metadata": {},
   "outputs": [
    {
     "name": "stdout",
     "output_type": "stream",
     "text": [
      "Check dates of incomplete slots:\n",
      "2022-03-24 926\n",
      "2022-04-14 924\n",
      "2022-04-21 927\n",
      "2022-04-22 928\n",
      "2022-04-25 929\n",
      "2022-04-28 929\n",
      "2022-04-29 926\n",
      "2022-05-02 927\n",
      "2022-05-03 929\n",
      "2022-05-04 925\n",
      "2022-05-06 925\n",
      "2022-05-09 928\n",
      "2022-05-10 929\n",
      "2022-05-11 927\n",
      "2022-05-12 928\n",
      "2022-05-16 929\n",
      "2022-05-18 928\n",
      "2022-05-20 929\n",
      "2022-05-23 929\n",
      "2022-05-24 928\n",
      "2022-05-25 929\n",
      "2022-05-26 929\n",
      "2022-05-27 928\n",
      "2022-05-30 928\n",
      "2022-05-31 929\n",
      "2022-06-01 928\n",
      "2022-06-02 928\n",
      "2022-06-03 929\n",
      "2022-06-06 926\n",
      "2022-06-15 929\n",
      "2022-06-16 929\n",
      "2022-06-17 927\n",
      "2022-06-22 927\n",
      "2022-06-23 929\n",
      "2022-06-24 928\n",
      "2022-06-28 929\n",
      "2022-07-01 929\n",
      "2022-07-29 929\n",
      "2022-08-02 894\n",
      "2022-08-03 892\n",
      "2022-08-16 929\n",
      "2022-08-17 929\n",
      "2022-10-03 929\n",
      "2022-10-12 927\n",
      "2022-10-13 928\n",
      "2022-10-14 928\n",
      "2022-10-17 928\n",
      "2022-10-19 929\n",
      "2022-11-17 877\n",
      "2022-11-21 929\n",
      "2022-12-01 926\n",
      "2022-12-07 929\n",
      "2022-12-09 928\n",
      "2022-12-15 926\n",
      "2022-12-16 925\n",
      "2022-12-21 928\n",
      "2022-12-22 926\n",
      "2022-12-23 927\n",
      "2022-12-27 929\n",
      "2022-12-30 927\n",
      "2023-01-03 929\n",
      "2023-01-18 929\n",
      "2023-01-26 929\n",
      "2023-02-03 929\n"
     ]
    }
   ],
   "source": [
    "df_downsampled_spd_tmc_1min_all = pivot_df(\"tmc\", \"speed\", 1, df=downsampled_tmc_1min_all, busi_date=busi_date, num_slot=930, freq=1, start_time=start_time, end_time=end_time, output_file_path=\"../data/TSMO/TSMO_df_downsampled_spd_tmc_1min_all.pkl\") "
   ]
  },
  {
   "cell_type": "code",
   "execution_count": 12,
   "metadata": {},
   "outputs": [
    {
     "name": "stdout",
     "output_type": "stream",
     "text": [
      "Check dates of incomplete slots:\n",
      "2022-03-24 926\n",
      "2022-04-14 924\n",
      "2022-04-21 927\n",
      "2022-04-22 928\n",
      "2022-04-25 929\n",
      "2022-04-28 929\n",
      "2022-04-29 926\n",
      "2022-05-02 927\n",
      "2022-05-03 929\n",
      "2022-05-04 925\n",
      "2022-05-06 925\n",
      "2022-05-09 928\n",
      "2022-05-10 929\n",
      "2022-05-11 927\n",
      "2022-05-12 928\n",
      "2022-05-16 929\n",
      "2022-05-18 928\n",
      "2022-05-20 929\n",
      "2022-05-23 929\n",
      "2022-05-24 928\n",
      "2022-05-25 929\n",
      "2022-05-26 929\n",
      "2022-05-27 928\n",
      "2022-05-30 928\n",
      "2022-05-31 929\n",
      "2022-06-01 928\n",
      "2022-06-02 928\n",
      "2022-06-03 929\n",
      "2022-06-06 926\n",
      "2022-06-15 929\n",
      "2022-06-16 929\n",
      "2022-06-17 927\n",
      "2022-06-22 927\n",
      "2022-06-23 929\n",
      "2022-06-24 928\n",
      "2022-06-28 929\n",
      "2022-07-01 929\n",
      "2022-07-29 929\n",
      "2022-08-02 894\n",
      "2022-08-03 892\n",
      "2022-08-16 929\n",
      "2022-08-17 929\n",
      "2022-10-03 929\n",
      "2022-10-12 927\n",
      "2022-10-13 928\n",
      "2022-10-14 928\n",
      "2022-10-17 928\n",
      "2022-10-19 929\n",
      "2022-11-17 877\n",
      "2022-11-21 929\n",
      "2022-12-01 926\n",
      "2022-12-07 929\n",
      "2022-12-09 928\n",
      "2022-12-15 926\n",
      "2022-12-16 925\n",
      "2022-12-21 928\n",
      "2022-12-22 926\n",
      "2022-12-23 927\n",
      "2022-12-27 929\n",
      "2022-12-30 927\n",
      "2023-01-03 929\n",
      "2023-01-18 929\n",
      "2023-01-26 929\n",
      "2023-02-03 929\n"
     ]
    }
   ],
   "source": [
    "df_downsampled_dens_tmc_1min_all = pivot_df(\"tmc\", \"density\", 1, df=downsampled_tmc_1min_all, busi_date=busi_date, num_slot=930, freq=1, start_time=start_time, end_time=end_time, output_file_path=\"../data/TSMO/TSMO_df_downsampled_dens_tmc_1min_all.pkl\") "
   ]
  },
  {
   "cell_type": "code",
   "execution_count": 24,
   "metadata": {},
   "outputs": [
    {
     "name": "stdout",
     "output_type": "stream",
     "text": [
      "Check dates of incomplete slots:\n",
      "Check dates of incomplete slots:\n"
     ]
    }
   ],
   "source": [
    "downsampled_tmc_5min_all = pd.read_csv(\"/Volumes/Hao's WD/TSMO/TSMO_tmc_5min_vehicles/TSMO_downsampled_tmc_5min_all.csv\")\n",
    "df_downsampled_spd_tmc_5min_all = pivot_df(\"tmc\", \"speed\", 5, df=downsampled_tmc_5min_all, busi_date=busi_date, num_slot=186, freq=5, start_time=start_time, end_time=end_time, output_file_path=\"../data/TSMO/TSMO_df_downsampled_spd_tmc_5min_all.pkl\") \n",
    "df_downsampled_dens_tmc_5min_all = pivot_df(\"tmc\", \"density\", 5, df=downsampled_tmc_5min_all, busi_date=busi_date, num_slot=186, freq=5, start_time=start_time, end_time=end_time, output_file_path=\"../data/TSMO/TSMO_df_downsampled_dens_tmc_5min_all.pkl\") "
   ]
  },
  {
   "cell_type": "markdown",
   "metadata": {},
   "source": [
    "#### 3.2 TMC (Vehicle)"
   ]
  },
  {
   "cell_type": "code",
   "execution_count": 28,
   "metadata": {},
   "outputs": [],
   "source": [
    "downsampled_tmc_5min_truck = pd.read_csv(\"/Volumes/Hao's WD/TSMO/TSMO_tmc_5min_vehicles/TSMO_downsampled_tmc_5min_truck.csv\")\n",
    "downsampled_tmc_5min_pv = pd.read_csv(\"/Volumes/Hao's WD/TSMO/TSMO_tmc_5min_vehicles/TSMO_downsampled_tmc_5min_pv.csv\")"
   ]
  },
  {
   "cell_type": "code",
   "execution_count": 13,
   "metadata": {},
   "outputs": [
    {
     "name": "stdout",
     "output_type": "stream",
     "text": [
      "Check dates of incomplete slots:\n",
      "Check dates of incomplete slots:\n",
      "Check dates of incomplete slots:\n",
      "Check dates of incomplete slots:\n"
     ]
    }
   ],
   "source": [
    "df_downsampled_spd_tmc_5min_truck = pivot_df(\"tmc\", \"speed\", 5, df=downsampled_tmc_5min_truck, busi_date=busi_date, num_slot=186, freq=5, start_time=start_time, end_time=end_time, output_file_path=\"../data/TSMO/TSMO_df_downsampled_spd_tmc_5min_truck.pkl\") \n",
    "df_downsampled_dens_tmc_5min_truck = pivot_df(\"tmc\", \"density\", 5, df=downsampled_tmc_5min_truck, busi_date=busi_date, num_slot=186, freq=5, start_time=start_time, end_time=end_time, output_file_path=\"../data/TSMO/TSMO_df_downsampled_dens_tmc_5min_truck.pkl\") \n",
    "df_downsampled_spd_tmc_5min_pv = pivot_df(\"tmc\", \"speed\", 5, df=downsampled_tmc_5min_pv, busi_date=busi_date, num_slot=186, freq=5, start_time=start_time, end_time=end_time, output_file_path=\"../data/TSMO/TSMO_df_downsampled_spd_tmc_5min_pv.pkl\") \n",
    "df_downsampled_dens_tmc_5min_pv = pivot_df(\"tmc\", \"density\", 5, df=downsampled_tmc_5min_pv, busi_date=busi_date, num_slot=186, freq=5, start_time=start_time, end_time=end_time, output_file_path=\"../data/TSMO/TSMO_df_downsampled_dens_tmc_5min_pv.pkl\") "
   ]
  },
  {
   "cell_type": "markdown",
   "metadata": {},
   "source": [
    "#### 3.3 XD"
   ]
  },
  {
   "cell_type": "code",
   "execution_count": null,
   "metadata": {},
   "outputs": [],
   "source": [
    "downsampled_xd_1min = pd.read_csv(\"/Volumes/Hao's WD/TSMO/TSMO_xd_1min/TSMO_downsampled_xd_1min.csv\")"
   ]
  },
  {
   "cell_type": "code",
   "execution_count": null,
   "metadata": {},
   "outputs": [],
   "source": [
    "df_downsampled_spd_xd_1min = pivot_df(\"xd\", \"speed\", 1, df=downsampled_xd_1min, busi_date=busi_date, num_slot=930, freq=1, start_time=start_time, end_time=end_time, output_file_path=\"../data/TSMO/TSMO_df_downsampled_spd_xd_1min.pkl\") "
   ]
  },
  {
   "cell_type": "code",
   "execution_count": null,
   "metadata": {},
   "outputs": [],
   "source": [
    "df_downsampled_dens_xd_1min = pivot_df(\"xd\", \"density\", 1, df=downsampled_xd_1min, busi_date=busi_date, num_slot=930, freq=1, start_time=start_time, end_time=end_time, output_file_path=\"../data/TSMO/TSMO_df_downsampled_dens_xd_1min.pkl\") "
   ]
  },
  {
   "cell_type": "markdown",
   "metadata": {},
   "source": []
  }
 ],
 "metadata": {
  "kernelspec": {
   "display_name": "Python 3.10.6 ('traffic')",
   "language": "python",
   "name": "python3"
  },
  "language_info": {
   "codemirror_mode": {
    "name": "ipython",
    "version": 3
   },
   "file_extension": ".py",
   "mimetype": "text/x-python",
   "name": "python",
   "nbconvert_exporter": "python",
   "pygments_lexer": "ipython3",
   "version": "3.10.6"
  },
  "orig_nbformat": 4,
  "vscode": {
   "interpreter": {
    "hash": "4c7976fd35f11d6b5acd37b5df05c2b1d9460872f4ccb0abe3e95e9a1eb343e6"
   }
  }
 },
 "nbformat": 4,
 "nbformat_minor": 2
}
