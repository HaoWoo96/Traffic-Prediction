{
 "cells": [
  {
   "cell_type": "code",
   "execution_count": 2,
   "metadata": {},
   "outputs": [
    {
     "name": "stderr",
     "output_type": "stream",
     "text": [
      "'pwd' is not recognized as an internal or external command,\n",
      "operable program or batch file.\n"
     ]
    }
   ],
   "source": [
    "!pwd"
   ]
  },
  {
   "cell_type": "code",
   "execution_count": 3,
   "metadata": {},
   "outputs": [
    {
     "name": "stdout",
     "output_type": "stream",
     "text": [
      "c:\\Users\\haowu\\Desktop\\Traffic Research\\Traffic-Prediction\\data_processing\n"
     ]
    }
   ],
   "source": [
    "%cd .."
   ]
  },
  {
   "cell_type": "code",
   "execution_count": 4,
   "metadata": {},
   "outputs": [],
   "source": [
    "import csv\n",
    "import pandas as pd\n",
    "import numpy as np\n",
    "#import geopandas as gpd\n",
    "#import networkx as nx\n",
    "import math\n",
    "import pickle\n",
    "\n",
    "import datetime\n",
    "from datetime import datetime as dt\n",
    "from collections import Counter\n",
    "from scipy.spatial.distance import cdist\n",
    "from scipy import stats\n",
    "from sklearn.preprocessing import MinMaxScaler\n",
    "from tqdm import tqdm\n",
    "from matplotlib import pyplot as plt\n",
    "\n",
    "from utils import *"
   ]
  },
  {
   "cell_type": "markdown",
   "metadata": {},
   "source": [
    "### 1. Hyperparameters"
   ]
  },
  {
   "cell_type": "code",
   "execution_count": 5,
   "metadata": {},
   "outputs": [],
   "source": [
    "# Time\n",
    "start_date = dt(2022, 2, 14)\n",
    "end_date = dt(2023, 2, 12)\n",
    "start_time = 330 # 05:30:00 \n",
    "end_time = 1260 # 21:00:00\n",
    "busi_date = pd.bdate_range(start=start_date, end=end_date).date "
   ]
  },
  {
   "cell_type": "code",
   "execution_count": 6,
   "metadata": {},
   "outputs": [
    {
     "ename": "DriverError",
     "evalue": "../data/shape/tmc_shape_TSMO/tmc_shape_TSMO_for_sjoin.geojson: No such file or directory",
     "output_type": "error",
     "traceback": [
      "\u001b[1;31m---------------------------------------------------------------------------\u001b[0m",
      "\u001b[1;31mCPLE_OpenFailedError\u001b[0m                      Traceback (most recent call last)",
      "File \u001b[1;32mfiona\\ogrext.pyx:136\u001b[0m, in \u001b[0;36mfiona.ogrext.gdal_open_vector\u001b[1;34m()\u001b[0m\n",
      "File \u001b[1;32mfiona\\_err.pyx:291\u001b[0m, in \u001b[0;36mfiona._err.exc_wrap_pointer\u001b[1;34m()\u001b[0m\n",
      "\u001b[1;31mCPLE_OpenFailedError\u001b[0m: ../data/shape/tmc_shape_TSMO/tmc_shape_TSMO_for_sjoin.geojson: No such file or directory",
      "\nDuring handling of the above exception, another exception occurred:\n",
      "\u001b[1;31mDriverError\u001b[0m                               Traceback (most recent call last)",
      "Cell \u001b[1;32mIn[5], line 5\u001b[0m\n\u001b[0;32m      1\u001b[0m \u001b[39m'''\u001b[39;00m\n\u001b[0;32m      2\u001b[0m \u001b[39mexecute the following code block only if set_hwd_tmc_segments_shp and set_hwd_xd_segments_str_shp are not in place\u001b[39;00m\n\u001b[0;32m      3\u001b[0m \u001b[39m'''\u001b[39;00m\n\u001b[0;32m      4\u001b[0m \u001b[39m# Segments\u001b[39;00m\n\u001b[1;32m----> 5\u001b[0m gdf_tmc_TSMO \u001b[39m=\u001b[39m gpd\u001b[39m.\u001b[39;49mread_file(\u001b[39m\"\u001b[39;49m\u001b[39m../data/shape/tmc_shape_TSMO/tmc_shape_TSMO_for_sjoin.geojson\u001b[39;49m\u001b[39m\"\u001b[39;49m)  \u001b[39m# 1591 TMC segments in TSMO (selected from Carroll, Howard and Baltimore) used for spatial join\u001b[39;00m\n\u001b[0;32m      6\u001b[0m gdf_xd_TSMO \u001b[39m=\u001b[39m gpd\u001b[39m.\u001b[39mread_file(\u001b[39m\"\u001b[39m\u001b[39m../data/shape/xd_shape_TSMO/xd_shape_TSMO_for_sjoin.geojson\u001b[39m\u001b[39m\"\u001b[39m)  \u001b[39m# 2501 XD segments in TSMO (selected from Carroll, Howard and Baltimore) used for spatial join\u001b[39;00m\n\u001b[0;32m      8\u001b[0m set_tmc_segments_shp_TSMO \u001b[39m=\u001b[39m \u001b[39mset\u001b[39m(gdf_tmc_TSMO\u001b[39m.\u001b[39mtmc)\n",
      "File \u001b[1;32mc:\\Users\\haowu\\Anaconda3\\envs\\traffic\\lib\\site-packages\\geopandas\\io\\file.py:259\u001b[0m, in \u001b[0;36m_read_file\u001b[1;34m(filename, bbox, mask, rows, engine, **kwargs)\u001b[0m\n\u001b[0;32m    256\u001b[0m     path_or_bytes \u001b[39m=\u001b[39m filename\n\u001b[0;32m    258\u001b[0m \u001b[39mif\u001b[39;00m engine \u001b[39m==\u001b[39m \u001b[39m\"\u001b[39m\u001b[39mfiona\u001b[39m\u001b[39m\"\u001b[39m:\n\u001b[1;32m--> 259\u001b[0m     \u001b[39mreturn\u001b[39;00m _read_file_fiona(\n\u001b[0;32m    260\u001b[0m         path_or_bytes, from_bytes, bbox\u001b[39m=\u001b[39mbbox, mask\u001b[39m=\u001b[39mmask, rows\u001b[39m=\u001b[39mrows, \u001b[39m*\u001b[39m\u001b[39m*\u001b[39mkwargs\n\u001b[0;32m    261\u001b[0m     )\n\u001b[0;32m    262\u001b[0m \u001b[39melif\u001b[39;00m engine \u001b[39m==\u001b[39m \u001b[39m\"\u001b[39m\u001b[39mpyogrio\u001b[39m\u001b[39m\"\u001b[39m:\n\u001b[0;32m    263\u001b[0m     \u001b[39mreturn\u001b[39;00m _read_file_pyogrio(\n\u001b[0;32m    264\u001b[0m         path_or_bytes, bbox\u001b[39m=\u001b[39mbbox, mask\u001b[39m=\u001b[39mmask, rows\u001b[39m=\u001b[39mrows, \u001b[39m*\u001b[39m\u001b[39m*\u001b[39mkwargs\n\u001b[0;32m    265\u001b[0m     )\n",
      "File \u001b[1;32mc:\\Users\\haowu\\Anaconda3\\envs\\traffic\\lib\\site-packages\\geopandas\\io\\file.py:303\u001b[0m, in \u001b[0;36m_read_file_fiona\u001b[1;34m(path_or_bytes, from_bytes, bbox, mask, rows, where, **kwargs)\u001b[0m\n\u001b[0;32m    300\u001b[0m     reader \u001b[39m=\u001b[39m fiona\u001b[39m.\u001b[39mopen\n\u001b[0;32m    302\u001b[0m \u001b[39mwith\u001b[39;00m fiona_env():\n\u001b[1;32m--> 303\u001b[0m     \u001b[39mwith\u001b[39;00m reader(path_or_bytes, \u001b[39m*\u001b[39m\u001b[39m*\u001b[39mkwargs) \u001b[39mas\u001b[39;00m features:\n\u001b[0;32m    304\u001b[0m         crs \u001b[39m=\u001b[39m features\u001b[39m.\u001b[39mcrs_wkt\n\u001b[0;32m    305\u001b[0m         \u001b[39m# attempt to get EPSG code\u001b[39;00m\n",
      "File \u001b[1;32mc:\\Users\\haowu\\Anaconda3\\envs\\traffic\\lib\\site-packages\\fiona\\env.py:457\u001b[0m, in \u001b[0;36mensure_env_with_credentials.<locals>.wrapper\u001b[1;34m(*args, **kwds)\u001b[0m\n\u001b[0;32m    454\u001b[0m     session \u001b[39m=\u001b[39m DummySession()\n\u001b[0;32m    456\u001b[0m \u001b[39mwith\u001b[39;00m env_ctor(session\u001b[39m=\u001b[39msession):\n\u001b[1;32m--> 457\u001b[0m     \u001b[39mreturn\u001b[39;00m f(\u001b[39m*\u001b[39margs, \u001b[39m*\u001b[39m\u001b[39m*\u001b[39mkwds)\n",
      "File \u001b[1;32mc:\\Users\\haowu\\Anaconda3\\envs\\traffic\\lib\\site-packages\\fiona\\__init__.py:360\u001b[0m, in \u001b[0;36mopen\u001b[1;34m(fp, mode, driver, schema, crs, encoding, layer, vfs, enabled_drivers, crs_wkt, allow_unsupported_drivers, **kwargs)\u001b[0m\n\u001b[0;32m    357\u001b[0m     path \u001b[39m=\u001b[39m parse_path(fp)\n\u001b[0;32m    359\u001b[0m \u001b[39mif\u001b[39;00m mode \u001b[39min\u001b[39;00m (\u001b[39m\"\u001b[39m\u001b[39ma\u001b[39m\u001b[39m\"\u001b[39m, \u001b[39m\"\u001b[39m\u001b[39mr\u001b[39m\u001b[39m\"\u001b[39m):\n\u001b[1;32m--> 360\u001b[0m     colxn \u001b[39m=\u001b[39m Collection(\n\u001b[0;32m    361\u001b[0m         path,\n\u001b[0;32m    362\u001b[0m         mode,\n\u001b[0;32m    363\u001b[0m         driver\u001b[39m=\u001b[39mdriver,\n\u001b[0;32m    364\u001b[0m         encoding\u001b[39m=\u001b[39mencoding,\n\u001b[0;32m    365\u001b[0m         layer\u001b[39m=\u001b[39mlayer,\n\u001b[0;32m    366\u001b[0m         enabled_drivers\u001b[39m=\u001b[39menabled_drivers,\n\u001b[0;32m    367\u001b[0m         allow_unsupported_drivers\u001b[39m=\u001b[39mallow_unsupported_drivers,\n\u001b[0;32m    368\u001b[0m         \u001b[39m*\u001b[39m\u001b[39m*\u001b[39mkwargs\n\u001b[0;32m    369\u001b[0m     )\n\u001b[0;32m    370\u001b[0m \u001b[39melif\u001b[39;00m mode \u001b[39m==\u001b[39m \u001b[39m\"\u001b[39m\u001b[39mw\u001b[39m\u001b[39m\"\u001b[39m:\n\u001b[0;32m    371\u001b[0m     colxn \u001b[39m=\u001b[39m Collection(\n\u001b[0;32m    372\u001b[0m         path,\n\u001b[0;32m    373\u001b[0m         mode,\n\u001b[1;32m   (...)\u001b[0m\n\u001b[0;32m    382\u001b[0m         \u001b[39m*\u001b[39m\u001b[39m*\u001b[39mkwargs\n\u001b[0;32m    383\u001b[0m     )\n",
      "File \u001b[1;32mc:\\Users\\haowu\\Anaconda3\\envs\\traffic\\lib\\site-packages\\fiona\\collection.py:234\u001b[0m, in \u001b[0;36mCollection.__init__\u001b[1;34m(self, path, mode, driver, schema, crs, encoding, layer, vsi, archive, enabled_drivers, crs_wkt, ignore_fields, ignore_geometry, include_fields, wkt_version, allow_unsupported_drivers, **kwargs)\u001b[0m\n\u001b[0;32m    232\u001b[0m \u001b[39mif\u001b[39;00m \u001b[39mself\u001b[39m\u001b[39m.\u001b[39mmode \u001b[39m==\u001b[39m \u001b[39m\"\u001b[39m\u001b[39mr\u001b[39m\u001b[39m\"\u001b[39m:\n\u001b[0;32m    233\u001b[0m     \u001b[39mself\u001b[39m\u001b[39m.\u001b[39msession \u001b[39m=\u001b[39m Session()\n\u001b[1;32m--> 234\u001b[0m     \u001b[39mself\u001b[39m\u001b[39m.\u001b[39msession\u001b[39m.\u001b[39mstart(\u001b[39mself\u001b[39m, \u001b[39m*\u001b[39m\u001b[39m*\u001b[39mkwargs)\n\u001b[0;32m    235\u001b[0m \u001b[39melif\u001b[39;00m \u001b[39mself\u001b[39m\u001b[39m.\u001b[39mmode \u001b[39min\u001b[39;00m (\u001b[39m\"\u001b[39m\u001b[39ma\u001b[39m\u001b[39m\"\u001b[39m, \u001b[39m\"\u001b[39m\u001b[39mw\u001b[39m\u001b[39m\"\u001b[39m):\n\u001b[0;32m    236\u001b[0m     \u001b[39mself\u001b[39m\u001b[39m.\u001b[39msession \u001b[39m=\u001b[39m WritingSession()\n",
      "File \u001b[1;32mfiona\\ogrext.pyx:587\u001b[0m, in \u001b[0;36mfiona.ogrext.Session.start\u001b[1;34m()\u001b[0m\n",
      "File \u001b[1;32mfiona\\ogrext.pyx:143\u001b[0m, in \u001b[0;36mfiona.ogrext.gdal_open_vector\u001b[1;34m()\u001b[0m\n",
      "\u001b[1;31mDriverError\u001b[0m: ../data/shape/tmc_shape_TSMO/tmc_shape_TSMO_for_sjoin.geojson: No such file or directory"
     ]
    }
   ],
   "source": [
    "'''\n",
    "execute the following code block only if set_hwd_tmc_segments_shp and set_hwd_xd_segments_str_shp are not in place\n",
    "'''\n",
    "# Segments\n",
    "gdf_tmc_TSMO = gpd.read_file(\"../data/shape/tmc_shape_TSMO/tmc_shape_TSMO_for_sjoin.geojson\")  # 1591 TMC segments in TSMO (selected from Carroll, Howard and Baltimore) used for spatial join\n",
    "gdf_xd_TSMO = gpd.read_file(\"../data/shape/xd_shape_TSMO/xd_shape_TSMO_for_sjoin.geojson\")  # 2501 XD segments in TSMO (selected from Carroll, Howard and Baltimore) used for spatial join\n",
    "\n",
    "set_tmc_segments_shp_TSMO = set(gdf_tmc_TSMO.tmc)\n",
    "set_xd_segments_str_shp_TSMO = set(gdf_xd_TSMO.xd.astype(str))\n",
    "\n",
    "pickle.dump(set_tmc_segments_shp_TSMO, open(\"./TSMO/set_tmc_segments_shp_TSMO.pkl\", \"wb\"))\n",
    "pickle.dump(set_xd_segments_str_shp_TSMO, open(\"./TSMO/set_xd_segments_str_shp_TSMO.pkl\", \"wb\"))"
   ]
  },
  {
   "cell_type": "code",
   "execution_count": 7,
   "metadata": {},
   "outputs": [],
   "source": [
    "df_xd_to_tmc_TSMO = pickle.load(open(\"./TSMO/df_xd_to_tmc_TSMO.pkl\", \"rb\"))\n",
    "set_xd_segments_str_sjoin_TSMO = set(df_xd_to_tmc_TSMO.id_xd_str)  # 2427"
   ]
  },
  {
   "cell_type": "markdown",
   "metadata": {},
   "source": [
    "### 2. Downsample Raw Speed Data Files\n",
    "\n",
    "Execute this code block ONLY IF downsampled csv data are not available on file\n",
    "\n",
    "tmc process and xd process CANNOT be executed simultaneously, otherwise the notebook will encounter kernel crash\n"
   ]
  },
  {
   "cell_type": "code",
   "execution_count": 7,
   "metadata": {},
   "outputs": [
    {
     "name": "stderr",
     "output_type": "stream",
     "text": [
      "382it [1:15:25, 11.85s/it]\n"
     ]
    },
    {
     "name": "stdout",
     "output_type": "stream",
     "text": [
      "Finished reading chunks!\n"
     ]
    }
   ],
   "source": [
    "downsampled_tmc_1min_all_bh_part2 = downsample_large_dataset(\"tmc\", \"/Volumes/Hao's WD/TSMO/Speed/B&H_tmc_1min/B&H_tmc_1min_all_part2.csv\", \"/Volumes/Hao's WD/TSMO/Speed/B&H_tmc_1min/downsampled_B&H_tmc_1min_all_part2.csv\", set_tmc_segments_shp_TSMO, busi_date, start_time, end_time)"
   ]
  },
  {
   "cell_type": "code",
   "execution_count": 7,
   "metadata": {},
   "outputs": [
    {
     "name": "stderr",
     "output_type": "stream",
     "text": [
      "202it [27:58,  8.31s/it]\n"
     ]
    },
    {
     "name": "stdout",
     "output_type": "stream",
     "text": [
      "Finished reading chunks!\n"
     ]
    }
   ],
   "source": [
    "# Take ~28 min to execute\n",
    "# downsampled_tmc_1min_all_bh: shape (203263672, 6)\n",
    "downsampled_tmc_1min_all_bh_part1 = downsample_large_dataset(\"tmc\", \"/Volumes/Hao's WD/TSMO/Speed/B&H_tmc_1min/B&H_tmc_1min_all_part1.csv\", \"/Volumes/Hao's WD/TSMO/Speed/B&H_tmc_1min/downsampled_B&H_tmc_1min_all_part1.csv\", set_tmc_segments_shp_TSMO, busi_date, start_time, end_time)\n",
    "\n",
    "# Take ~2 min to execute\n",
    "# downsampled_tmc_1min_truck_2022_bh: shape (9509162, 7)\n",
    "downsampled_tmc_1min_truck_2022_bh = downsample_large_dataset(\"tmc\", \"/Volumes/Hao's WD/TSMO/Speed/B&H_tmc_1min/B&H_tmc_1min_truck_2022.csv\", \"/Volumes/Hao's WD/TSMO/Speed/B&H_tmc_1min/downsampled_B&H_tmc_1min_truck_2022.csv\", set_tmc_segments_shp_TSMO, busi_date, start_time, end_time)\n",
    "\n",
    "# Take ~31 sec to execute\n",
    "# downsampled_tmc_1min_truck_2023_bh: shape (1268097, 7)\n",
    "downsampled_tmc_1min_truck_2023_bh = downsample_large_dataset(\"tmc\", \"/Volumes/Hao's WD/TSMO/Speed/B&H_tmc_1min/B&H_tmc_1min_truck_2023.csv\", \"/Volumes/Hao's WD/TSMO/Speed/B&H_tmc_1min/downsampled_B&H_tmc_1min_truck_2023.csv\", set_tmc_segments_shp_TSMO, busi_date, start_time, end_time)\n",
    "\n",
    "# Take ~4 min to execute\n",
    "# downsampled_tmc_1min_pv_2022_bh: shape (14498618, 7)\n",
    "downsampled_tmc_1min_pv_2022_bh = downsample_large_dataset(\"tmc\", \"/Volumes/Hao's WD/TSMO/Speed/B&H_tmc_1min/B&H_tmc_1min_pv_2022.csv\", \"/Volumes/Hao's WD/TSMO/Speed/B&H_tmc_1min/downsampled_B&H_tmc_1min_pv_2022.csv\", set_tmc_segments_shp_TSMO, busi_date, start_time, end_time)\n",
    "\n",
    "# Take ~1.5 min to execute\n",
    "# downsampled_tmc_1min_pv_2023_bh: shape (1860391, 7)\n",
    "downsampled_tmc_1min_pv_2023_bh = downsample_large_dataset(\"tmc\", \"/Volumes/Hao's WD/TSMO/Speed/B&H_tmc_1min/B&H_tmc_1min_pv_2023.csv\", \"/Volumes/Hao's WD/TSMO/Speed/B&H_tmc_1min/downsampled_B&H_tmc_1min_pv_2023.csv\", set_tmc_segments_shp_TSMO, busi_date, start_time, end_time)\n",
    "\n",
    "# Take ~5 min to execute\n",
    "# downsampled_tmc_1min_all_Carroll: shape (5313712, 8)\n",
    "downsampled_tmc_1min_all_Carroll = downsample_large_dataset(\"tmc\", \"/Volumes/Hao's WD/TSMO/Speed/Carroll_tmc_1min/Carroll_tmc_1min_all.csv\", \"/Volumes/Hao's WD/TSMO/Speed/Carroll_tmc_1min/downsampled_Carroll_tmc_1min_all.csv\", set_tmc_segments_shp_TSMO, busi_date, start_time, end_time)\n",
    "\n",
    "# Take ~4 sec to execute\n",
    "# downsampled_tmc_1min_truck_2022_Carroll: shape (244643, 7)\n",
    "downsampled_tmc_1min_truck_2022_Carroll = downsample_large_dataset(\"tmc\", \"/Volumes/Hao's WD/TSMO/Speed/Carroll_tmc_1min/Carroll_tmc_1min_truck_2022.csv\", \"/Volumes/Hao's WD/TSMO/Speed/Carroll_tmc_1min/downsampled_Carroll_tmc_1min_truck_2022.csv\", set_tmc_segments_shp_TSMO, busi_date, start_time, end_time)\n",
    "\n",
    "# Take ~1 sec to execute\n",
    "# downsampled_tmc_1min_truck_2023_Carroll: shape (33574, 7)\n",
    "downsampled_tmc_1min_truck_2023_Carroll = downsample_large_dataset(\"tmc\", \"/Volumes/Hao's WD/TSMO/Speed/Carroll_tmc_1min/Carroll_tmc_1min_truck_2023.csv\", \"/Volumes/Hao's WD/TSMO/Speed/Carroll_tmc_1min/downsampled_Carroll_tmc_1min_truck_2023.csv\", set_tmc_segments_shp_TSMO, busi_date, start_time, end_time)\n",
    "\n",
    "# Take ~8 sec to execute\n",
    "# downsampled_tmc_1min_pv_2022_Carroll: shape (340386, 7)\n",
    "downsampled_tmc_1min_pv_2022_Carroll = downsample_large_dataset(\"tmc\", \"/Volumes/Hao's WD/TSMO/Speed/Carroll_tmc_1min/Carroll_tmc_1min_pv_2022.csv\", \"/Volumes/Hao's WD/TSMO/Speed/Carroll_tmc_1min/downsampled_Carroll_tmc_1min_pv_2022.csv\", set_tmc_segments_shp_TSMO, busi_date, start_time, end_time)\n",
    "\n",
    "# Take ~1 sec to execute\n",
    "# downsampled_tmc_1min_pv_2023_Carroll: shape (45562, 7)\n",
    "downsampled_tmc_1min_pv_2023_Carroll = downsample_large_dataset(\"tmc\", \"/Volumes/Hao's WD/TSMO/Speed/Carroll_tmc_1min/Carroll_tmc_1min_pv_2023.csv\", \"/Volumes/Hao's WD/TSMO/Speed/Carroll_tmc_1min/downsampled_Carroll_tmc_1min_pv_2023.csv\", set_tmc_segments_shp_TSMO, busi_date, start_time, end_time)"
   ]
  },
  {
   "cell_type": "markdown",
   "metadata": {},
   "source": [
    "### 3. Pivot Downsampled Data and Generate Speed/Density Dataframe\n",
    "The following code blocks are executed on MSI desktop, which has 64GB RAM. "
   ]
  },
  {
   "cell_type": "markdown",
   "metadata": {},
   "source": [
    "#### 3.1 All Speed & Density"
   ]
  },
  {
   "cell_type": "code",
   "execution_count": 5,
   "metadata": {},
   "outputs": [
    {
     "ename": "ParserError",
     "evalue": "Error tokenizing data. C error: Calling read(nbytes) on source failed. Try engine='python'.",
     "output_type": "error",
     "traceback": [
      "\u001b[1;31m---------------------------------------------------------------------------\u001b[0m",
      "\u001b[1;31mParserError\u001b[0m                               Traceback (most recent call last)",
      "Cell \u001b[1;32mIn[5], line 2\u001b[0m\n\u001b[0;32m      1\u001b[0m \u001b[39m# downsampled_tmc_1min_all_bh_part1 = pd.read_csv(\"../data/downsampled_tmc_1min_all_bh/downsampled_B&H_tmc_1min_all_part1.csv\")\u001b[39;00m\n\u001b[1;32m----> 2\u001b[0m downsampled_tmc_1min_all_bh_part2 \u001b[39m=\u001b[39m pd\u001b[39m.\u001b[39;49mread_csv(\u001b[39m\"\u001b[39;49m\u001b[39m../data/downsampled_tmc_1min_all_bh/downsampled_B&H_tmc_1min_all_part2.csv\u001b[39;49m\u001b[39m\"\u001b[39;49m)\n",
      "File \u001b[1;32mc:\\Users\\haowu\\Anaconda3\\envs\\traffic\\lib\\site-packages\\pandas\\util\\_decorators.py:211\u001b[0m, in \u001b[0;36mdeprecate_kwarg.<locals>._deprecate_kwarg.<locals>.wrapper\u001b[1;34m(*args, **kwargs)\u001b[0m\n\u001b[0;32m    209\u001b[0m     \u001b[39melse\u001b[39;00m:\n\u001b[0;32m    210\u001b[0m         kwargs[new_arg_name] \u001b[39m=\u001b[39m new_arg_value\n\u001b[1;32m--> 211\u001b[0m \u001b[39mreturn\u001b[39;00m func(\u001b[39m*\u001b[39margs, \u001b[39m*\u001b[39m\u001b[39m*\u001b[39mkwargs)\n",
      "File \u001b[1;32mc:\\Users\\haowu\\Anaconda3\\envs\\traffic\\lib\\site-packages\\pandas\\util\\_decorators.py:331\u001b[0m, in \u001b[0;36mdeprecate_nonkeyword_arguments.<locals>.decorate.<locals>.wrapper\u001b[1;34m(*args, **kwargs)\u001b[0m\n\u001b[0;32m    325\u001b[0m \u001b[39mif\u001b[39;00m \u001b[39mlen\u001b[39m(args) \u001b[39m>\u001b[39m num_allow_args:\n\u001b[0;32m    326\u001b[0m     warnings\u001b[39m.\u001b[39mwarn(\n\u001b[0;32m    327\u001b[0m         msg\u001b[39m.\u001b[39mformat(arguments\u001b[39m=\u001b[39m_format_argument_list(allow_args)),\n\u001b[0;32m    328\u001b[0m         \u001b[39mFutureWarning\u001b[39;00m,\n\u001b[0;32m    329\u001b[0m         stacklevel\u001b[39m=\u001b[39mfind_stack_level(),\n\u001b[0;32m    330\u001b[0m     )\n\u001b[1;32m--> 331\u001b[0m \u001b[39mreturn\u001b[39;00m func(\u001b[39m*\u001b[39margs, \u001b[39m*\u001b[39m\u001b[39m*\u001b[39mkwargs)\n",
      "File \u001b[1;32mc:\\Users\\haowu\\Anaconda3\\envs\\traffic\\lib\\site-packages\\pandas\\io\\parsers\\readers.py:950\u001b[0m, in \u001b[0;36mread_csv\u001b[1;34m(filepath_or_buffer, sep, delimiter, header, names, index_col, usecols, squeeze, prefix, mangle_dupe_cols, dtype, engine, converters, true_values, false_values, skipinitialspace, skiprows, skipfooter, nrows, na_values, keep_default_na, na_filter, verbose, skip_blank_lines, parse_dates, infer_datetime_format, keep_date_col, date_parser, dayfirst, cache_dates, iterator, chunksize, compression, thousands, decimal, lineterminator, quotechar, quoting, doublequote, escapechar, comment, encoding, encoding_errors, dialect, error_bad_lines, warn_bad_lines, on_bad_lines, delim_whitespace, low_memory, memory_map, float_precision, storage_options)\u001b[0m\n\u001b[0;32m    935\u001b[0m kwds_defaults \u001b[39m=\u001b[39m _refine_defaults_read(\n\u001b[0;32m    936\u001b[0m     dialect,\n\u001b[0;32m    937\u001b[0m     delimiter,\n\u001b[1;32m   (...)\u001b[0m\n\u001b[0;32m    946\u001b[0m     defaults\u001b[39m=\u001b[39m{\u001b[39m\"\u001b[39m\u001b[39mdelimiter\u001b[39m\u001b[39m\"\u001b[39m: \u001b[39m\"\u001b[39m\u001b[39m,\u001b[39m\u001b[39m\"\u001b[39m},\n\u001b[0;32m    947\u001b[0m )\n\u001b[0;32m    948\u001b[0m kwds\u001b[39m.\u001b[39mupdate(kwds_defaults)\n\u001b[1;32m--> 950\u001b[0m \u001b[39mreturn\u001b[39;00m _read(filepath_or_buffer, kwds)\n",
      "File \u001b[1;32mc:\\Users\\haowu\\Anaconda3\\envs\\traffic\\lib\\site-packages\\pandas\\io\\parsers\\readers.py:611\u001b[0m, in \u001b[0;36m_read\u001b[1;34m(filepath_or_buffer, kwds)\u001b[0m\n\u001b[0;32m    608\u001b[0m     \u001b[39mreturn\u001b[39;00m parser\n\u001b[0;32m    610\u001b[0m \u001b[39mwith\u001b[39;00m parser:\n\u001b[1;32m--> 611\u001b[0m     \u001b[39mreturn\u001b[39;00m parser\u001b[39m.\u001b[39;49mread(nrows)\n",
      "File \u001b[1;32mc:\\Users\\haowu\\Anaconda3\\envs\\traffic\\lib\\site-packages\\pandas\\io\\parsers\\readers.py:1778\u001b[0m, in \u001b[0;36mTextFileReader.read\u001b[1;34m(self, nrows)\u001b[0m\n\u001b[0;32m   1771\u001b[0m nrows \u001b[39m=\u001b[39m validate_integer(\u001b[39m\"\u001b[39m\u001b[39mnrows\u001b[39m\u001b[39m\"\u001b[39m, nrows)\n\u001b[0;32m   1772\u001b[0m \u001b[39mtry\u001b[39;00m:\n\u001b[0;32m   1773\u001b[0m     \u001b[39m# error: \"ParserBase\" has no attribute \"read\"\u001b[39;00m\n\u001b[0;32m   1774\u001b[0m     (\n\u001b[0;32m   1775\u001b[0m         index,\n\u001b[0;32m   1776\u001b[0m         columns,\n\u001b[0;32m   1777\u001b[0m         col_dict,\n\u001b[1;32m-> 1778\u001b[0m     ) \u001b[39m=\u001b[39m \u001b[39mself\u001b[39;49m\u001b[39m.\u001b[39;49m_engine\u001b[39m.\u001b[39;49mread(  \u001b[39m# type: ignore[attr-defined]\u001b[39;49;00m\n\u001b[0;32m   1779\u001b[0m         nrows\n\u001b[0;32m   1780\u001b[0m     )\n\u001b[0;32m   1781\u001b[0m \u001b[39mexcept\u001b[39;00m \u001b[39mException\u001b[39;00m:\n\u001b[0;32m   1782\u001b[0m     \u001b[39mself\u001b[39m\u001b[39m.\u001b[39mclose()\n",
      "File \u001b[1;32mc:\\Users\\haowu\\Anaconda3\\envs\\traffic\\lib\\site-packages\\pandas\\io\\parsers\\c_parser_wrapper.py:230\u001b[0m, in \u001b[0;36mCParserWrapper.read\u001b[1;34m(self, nrows)\u001b[0m\n\u001b[0;32m    228\u001b[0m \u001b[39mtry\u001b[39;00m:\n\u001b[0;32m    229\u001b[0m     \u001b[39mif\u001b[39;00m \u001b[39mself\u001b[39m\u001b[39m.\u001b[39mlow_memory:\n\u001b[1;32m--> 230\u001b[0m         chunks \u001b[39m=\u001b[39m \u001b[39mself\u001b[39;49m\u001b[39m.\u001b[39;49m_reader\u001b[39m.\u001b[39;49mread_low_memory(nrows)\n\u001b[0;32m    231\u001b[0m         \u001b[39m# destructive to chunks\u001b[39;00m\n\u001b[0;32m    232\u001b[0m         data \u001b[39m=\u001b[39m _concatenate_chunks(chunks)\n",
      "File \u001b[1;32mc:\\Users\\haowu\\Anaconda3\\envs\\traffic\\lib\\site-packages\\pandas\\_libs\\parsers.pyx:808\u001b[0m, in \u001b[0;36mpandas._libs.parsers.TextReader.read_low_memory\u001b[1;34m()\u001b[0m\n",
      "File \u001b[1;32mc:\\Users\\haowu\\Anaconda3\\envs\\traffic\\lib\\site-packages\\pandas\\_libs\\parsers.pyx:866\u001b[0m, in \u001b[0;36mpandas._libs.parsers.TextReader._read_rows\u001b[1;34m()\u001b[0m\n",
      "File \u001b[1;32mc:\\Users\\haowu\\Anaconda3\\envs\\traffic\\lib\\site-packages\\pandas\\_libs\\parsers.pyx:852\u001b[0m, in \u001b[0;36mpandas._libs.parsers.TextReader._tokenize_rows\u001b[1;34m()\u001b[0m\n",
      "File \u001b[1;32mc:\\Users\\haowu\\Anaconda3\\envs\\traffic\\lib\\site-packages\\pandas\\_libs\\parsers.pyx:1973\u001b[0m, in \u001b[0;36mpandas._libs.parsers.raise_parser_error\u001b[1;34m()\u001b[0m\n",
      "\u001b[1;31mParserError\u001b[0m: Error tokenizing data. C error: Calling read(nbytes) on source failed. Try engine='python'."
     ]
    }
   ],
   "source": [
    "downsampled_tmc_1min_all_bh_part1 = pd.read_csv(\"../data/downsampled_tmc_1min_all_bh/downsampled_B&H_tmc_1min_all_part1.csv\")\n",
    "downsampled_tmc_1min_all_bh_part2 = pd.read_csv(\"../data/downsampled_tmc_1min_all_bh/downsampled_B&H_tmc_1min_all_part2.csv\")"
   ]
  },
  {
   "cell_type": "code",
   "execution_count": 10,
   "metadata": {},
   "outputs": [
    {
     "name": "stdout",
     "output_type": "stream",
     "text": [
      "Check dates of incomplete slots:\n",
      "2022-03-24 927\n",
      "2022-04-26 928\n",
      "2022-05-04 923\n",
      "2022-05-17 929\n",
      "2022-05-23 929\n",
      "2022-06-01 929\n",
      "2022-07-08 929\n",
      "2022-07-12 926\n",
      "2022-07-29 928\n",
      "2022-08-02 929\n",
      "2022-08-03 918\n",
      "2022-08-26 927\n",
      "2022-10-19 929\n",
      "Check dates of incomplete slots:\n",
      "2022-03-24 926\n",
      "2022-04-14 924\n",
      "2022-04-21 927\n",
      "2022-04-22 928\n",
      "2022-04-25 929\n",
      "2022-04-28 929\n",
      "2022-04-29 926\n",
      "2022-05-02 927\n",
      "2022-05-03 929\n",
      "2022-05-04 925\n",
      "2022-05-06 925\n",
      "2022-05-09 928\n",
      "2022-05-10 929\n",
      "2022-05-11 927\n",
      "2022-05-12 928\n",
      "2022-05-16 929\n",
      "2022-05-18 928\n",
      "2022-05-20 929\n",
      "2022-05-23 929\n",
      "2022-05-24 928\n",
      "2022-05-25 929\n",
      "2022-05-26 929\n",
      "2022-05-27 928\n",
      "2022-05-30 928\n",
      "2022-05-31 929\n",
      "2022-06-01 928\n",
      "2022-06-02 928\n",
      "2022-06-03 929\n",
      "2022-06-06 926\n",
      "2022-06-15 929\n",
      "2022-06-16 929\n",
      "2022-06-17 927\n",
      "2022-06-22 927\n",
      "2022-06-23 929\n",
      "2022-06-24 928\n",
      "2022-06-28 929\n",
      "2022-07-01 929\n",
      "2022-07-29 929\n",
      "2022-08-02 894\n",
      "2022-08-03 892\n",
      "2022-08-16 929\n",
      "2022-08-17 929\n",
      "2022-10-03 929\n",
      "2022-10-12 927\n",
      "2022-10-13 928\n",
      "2022-10-14 928\n",
      "2022-10-17 928\n",
      "2022-10-19 929\n",
      "2022-11-17 877\n",
      "2022-11-21 929\n",
      "2022-12-01 926\n",
      "2022-12-07 929\n",
      "2022-12-09 928\n",
      "2022-12-15 926\n",
      "2022-12-16 925\n",
      "2022-12-21 928\n",
      "2022-12-22 926\n",
      "2022-12-23 927\n",
      "2022-12-27 929\n",
      "2022-12-30 927\n",
      "2023-01-03 929\n",
      "2023-01-18 929\n",
      "2023-01-26 929\n",
      "2023-02-03 929\n"
     ]
    }
   ],
   "source": [
    "df_downsampled_spd_tmc_1min_all_bh_part1 = pivot_df(\"tmc\", \"speed\", 1, df=downsampled_tmc_1min_all_bh_part1, busi_date=busi_date, num_slot=930, freq=1, start_time=start_time, end_time=end_time, output_file_path=\"../data/df_downsampled_spd_tmc_1min_all_bh_part1.pkl\") \n",
    "df_downsampled_spd_tmc_1min_all_bh_part2 = pivot_df(\"tmc\", \"speed\", 1, df=downsampled_tmc_1min_all_bh_part2, busi_date=busi_date, num_slot=930, freq=1, start_time=start_time, end_time=end_time, output_file_path=\"../data/df_downsampled_spd_tmc_1min_all_bh_part2.pkl\") "
   ]
  },
  {
   "cell_type": "code",
   "execution_count": 14,
   "metadata": {},
   "outputs": [],
   "source": [
    "df_downsampled_spd_tmc_1min_all_bh_part1 = pickle.load(open(\"../data/df_downsampled_spd_tmc_1min_all_bh_part1.pkl\", \"rb\"))  # (241800, 841)\n",
    "df_downsampled_spd_tmc_1min_all_bh_part2 = pickle.load(open(\"../data/df_downsampled_spd_tmc_1min_all_bh_part2.pkl\", \"rb\"))  # (241800, 1565)"
   ]
  },
  {
   "cell_type": "code",
   "execution_count": 17,
   "metadata": {},
   "outputs": [],
   "source": [
    "df_downsampled_spd_tmc_1min_all_bh = pd.concat((df_downsampled_spd_tmc_1min_all_bh_part1, df_downsampled_spd_tmc_1min_all_bh_part2), axis=1) # (241800, 2406)"
   ]
  },
  {
   "cell_type": "code",
   "execution_count": 25,
   "metadata": {},
   "outputs": [],
   "source": [
    "# Remove duplicated columns\n",
    "df_downsampled_spd_tmc_1min_all_bh = df_downsampled_spd_tmc_1min_all_bh.loc[:,~df_downsampled_spd_tmc_1min_all_bh.columns.duplicated()].copy()  # (241800, 1565)"
   ]
  },
  {
   "cell_type": "code",
   "execution_count": 27,
   "metadata": {},
   "outputs": [],
   "source": [
    "pickle.dump(df_downsampled_spd_tmc_1min_all_bh, open(\"../data/df_downsampled_spd_tmc_1min_all_bh.pkl\", \"wb\"))"
   ]
  },
  {
   "cell_type": "code",
   "execution_count": 8,
   "metadata": {},
   "outputs": [
    {
     "ename": "",
     "evalue": "",
     "output_type": "error",
     "traceback": [
      "\u001b[1;31mThe Kernel crashed while executing code in the the current cell or a previous cell. Please review the code in the cell(s) to identify a possible cause of the failure. Click <a href='https://aka.ms/vscodeJupyterKernelCrash'>here</a> for more info. View Jupyter <a href='command:jupyter.viewOutput'>log</a> for further details."
     ]
    },
    {
     "ename": "",
     "evalue": "",
     "output_type": "error",
     "traceback": [
      "\u001b[1;31mCanceled future for execute_request message before replies were done"
     ]
    }
   ],
   "source": [
    "# # too large to run on either Mac or MSI\n",
    "# downsampled_tmc_1min_all_bh = pd.concat((downsampled_tmc_1min_all_bh_part1,downsampled_tmc_1min_all_bh_part2)).reset_index(drop=True)\n",
    "# downsampled_tmc_1min_all_bh.to_csv(\"/Volumnes/Hao's WD/TSMO/Speed/B&H_tmc_1min/downsampled_tmc_1min_all_bh.csv\", index=False)\n",
    "# df_downsampled_spd_tmc_1min_all_bh = pivot_df(\"tmc\", \"speed\", 1, df=downsampled_tmc_1min_all_bh, busi_date=busi_date, num_slot=930, freq=1, start_time=start_time, end_time=end_time, output_file_path=\"../data/df_downsampled_spd_tmc_1min_all_bh.pkl\") "
   ]
  },
  {
   "cell_type": "code",
   "execution_count": 18,
   "metadata": {},
   "outputs": [
    {
     "ename": "KeyError",
     "evalue": "'confidence_score'",
     "output_type": "error",
     "traceback": [
      "\u001b[0;31m---------------------------------------------------------------------------\u001b[0m",
      "\u001b[0;31mKeyError\u001b[0m                                  Traceback (most recent call last)",
      "File \u001b[0;32m~/opt/anaconda3/envs/traffic/lib/python3.10/site-packages/pandas/core/indexes/base.py:3629\u001b[0m, in \u001b[0;36mIndex.get_loc\u001b[0;34m(self, key, method, tolerance)\u001b[0m\n\u001b[1;32m   3628\u001b[0m \u001b[39mtry\u001b[39;00m:\n\u001b[0;32m-> 3629\u001b[0m     \u001b[39mreturn\u001b[39;00m \u001b[39mself\u001b[39;49m\u001b[39m.\u001b[39;49m_engine\u001b[39m.\u001b[39;49mget_loc(casted_key)\n\u001b[1;32m   3630\u001b[0m \u001b[39mexcept\u001b[39;00m \u001b[39mKeyError\u001b[39;00m \u001b[39mas\u001b[39;00m err:\n",
      "File \u001b[0;32m~/opt/anaconda3/envs/traffic/lib/python3.10/site-packages/pandas/_libs/index.pyx:136\u001b[0m, in \u001b[0;36mpandas._libs.index.IndexEngine.get_loc\u001b[0;34m()\u001b[0m\n",
      "File \u001b[0;32m~/opt/anaconda3/envs/traffic/lib/python3.10/site-packages/pandas/_libs/index.pyx:163\u001b[0m, in \u001b[0;36mpandas._libs.index.IndexEngine.get_loc\u001b[0;34m()\u001b[0m\n",
      "File \u001b[0;32mpandas/_libs/hashtable_class_helper.pxi:5198\u001b[0m, in \u001b[0;36mpandas._libs.hashtable.PyObjectHashTable.get_item\u001b[0;34m()\u001b[0m\n",
      "File \u001b[0;32mpandas/_libs/hashtable_class_helper.pxi:5206\u001b[0m, in \u001b[0;36mpandas._libs.hashtable.PyObjectHashTable.get_item\u001b[0;34m()\u001b[0m\n",
      "\u001b[0;31mKeyError\u001b[0m: 'confidence_score'",
      "\nThe above exception was the direct cause of the following exception:\n",
      "\u001b[0;31mKeyError\u001b[0m                                  Traceback (most recent call last)",
      "\u001b[1;32m/Users/haowu/Desktop/Transportation Research/Traffic-Prediction/data_processing/TSMO/generate_downsample.ipynb Cell 21\u001b[0m in \u001b[0;36m<cell line: 1>\u001b[0;34m()\u001b[0m\n\u001b[0;32m----> <a href='vscode-notebook-cell:/Users/haowu/Desktop/Transportation%20Research/Traffic-Prediction/data_processing/TSMO/generate_downsample.ipynb#X35sZmlsZQ%3D%3D?line=0'>1</a>\u001b[0m df_downsampled_dens_tmc_1min_all_bh \u001b[39m=\u001b[39m pivot_df(\u001b[39m\"\u001b[39;49m\u001b[39mtmc\u001b[39;49m\u001b[39m\"\u001b[39;49m, \u001b[39m\"\u001b[39;49m\u001b[39mdensity\u001b[39;49m\u001b[39m\"\u001b[39;49m, \u001b[39m1\u001b[39;49m, df\u001b[39m=\u001b[39;49mdownsampled_tmc_1min_all_bh, busi_date\u001b[39m=\u001b[39;49mbusi_date, num_slot\u001b[39m=\u001b[39;49m\u001b[39m930\u001b[39;49m, freq\u001b[39m=\u001b[39;49m\u001b[39m1\u001b[39;49m, start_time\u001b[39m=\u001b[39;49mstart_time, end_time\u001b[39m=\u001b[39;49mend_time, output_file_path\u001b[39m=\u001b[39;49m\u001b[39m\"\u001b[39;49m\u001b[39m../data/df_downsampled_dens_tmc_1min_all_bh.pkl\u001b[39;49m\u001b[39m\"\u001b[39;49m)\n",
      "File \u001b[0;32m~/Desktop/Transportation Research/Traffic-Prediction/data_processing/utils.py:98\u001b[0m, in \u001b[0;36mpivot_df\u001b[0;34m(seg_type, value_type, granularity, df, busi_date, num_slot, freq, start_time, end_time, output_file_path)\u001b[0m\n\u001b[1;32m     96\u001b[0m             df_pivot \u001b[39m=\u001b[39m df\u001b[39m.\u001b[39mpivot(index \u001b[39m=\u001b[39m \u001b[39m\"\u001b[39m\u001b[39mmeasurement_tstamp\u001b[39m\u001b[39m\"\u001b[39m, columns \u001b[39m=\u001b[39m \u001b[39m\"\u001b[39m\u001b[39mtmc_code\u001b[39m\u001b[39m\"\u001b[39m, values \u001b[39m=\u001b[39m \u001b[39m\"\u001b[39m\u001b[39mdata_density\u001b[39m\u001b[39m\"\u001b[39m) \n\u001b[1;32m     97\u001b[0m         \u001b[39melse\u001b[39;00m:\n\u001b[0;32m---> 98\u001b[0m             df_pivot \u001b[39m=\u001b[39m df\u001b[39m.\u001b[39;49mpivot(index \u001b[39m=\u001b[39;49m \u001b[39m\"\u001b[39;49m\u001b[39mmeasurement_tstamp\u001b[39;49m\u001b[39m\"\u001b[39;49m, columns \u001b[39m=\u001b[39;49m \u001b[39m\"\u001b[39;49m\u001b[39mtmc_code\u001b[39;49m\u001b[39m\"\u001b[39;49m, values \u001b[39m=\u001b[39;49m \u001b[39m\"\u001b[39;49m\u001b[39mconfidence_score\u001b[39;49m\u001b[39m\"\u001b[39;49m) \n\u001b[1;32m     99\u001b[0m \u001b[39melse\u001b[39;00m:\n\u001b[1;32m    100\u001b[0m     \u001b[39mif\u001b[39;00m value_type \u001b[39m==\u001b[39m \u001b[39m\"\u001b[39m\u001b[39mspeed\u001b[39m\u001b[39m\"\u001b[39m:\n",
      "File \u001b[0;32m~/opt/anaconda3/envs/traffic/lib/python3.10/site-packages/pandas/core/frame.py:7885\u001b[0m, in \u001b[0;36mDataFrame.pivot\u001b[0;34m(self, index, columns, values)\u001b[0m\n\u001b[1;32m   7880\u001b[0m \u001b[39m@Substitution\u001b[39m(\u001b[39m\"\u001b[39m\u001b[39m\"\u001b[39m)\n\u001b[1;32m   7881\u001b[0m \u001b[39m@Appender\u001b[39m(_shared_docs[\u001b[39m\"\u001b[39m\u001b[39mpivot\u001b[39m\u001b[39m\"\u001b[39m])\n\u001b[1;32m   7882\u001b[0m \u001b[39mdef\u001b[39;00m \u001b[39mpivot\u001b[39m(\u001b[39mself\u001b[39m, index\u001b[39m=\u001b[39m\u001b[39mNone\u001b[39;00m, columns\u001b[39m=\u001b[39m\u001b[39mNone\u001b[39;00m, values\u001b[39m=\u001b[39m\u001b[39mNone\u001b[39;00m) \u001b[39m-\u001b[39m\u001b[39m>\u001b[39m DataFrame:\n\u001b[1;32m   7883\u001b[0m     \u001b[39mfrom\u001b[39;00m \u001b[39mpandas\u001b[39;00m\u001b[39m.\u001b[39;00m\u001b[39mcore\u001b[39;00m\u001b[39m.\u001b[39;00m\u001b[39mreshape\u001b[39;00m\u001b[39m.\u001b[39;00m\u001b[39mpivot\u001b[39;00m \u001b[39mimport\u001b[39;00m pivot\n\u001b[0;32m-> 7885\u001b[0m     \u001b[39mreturn\u001b[39;00m pivot(\u001b[39mself\u001b[39;49m, index\u001b[39m=\u001b[39;49mindex, columns\u001b[39m=\u001b[39;49mcolumns, values\u001b[39m=\u001b[39;49mvalues)\n",
      "File \u001b[0;32m~/opt/anaconda3/envs/traffic/lib/python3.10/site-packages/pandas/core/reshape/pivot.py:519\u001b[0m, in \u001b[0;36mpivot\u001b[0;34m(data, index, columns, values)\u001b[0m\n\u001b[1;32m    515\u001b[0m         indexed \u001b[39m=\u001b[39m data\u001b[39m.\u001b[39m_constructor(\n\u001b[1;32m    516\u001b[0m             data[values]\u001b[39m.\u001b[39m_values, index\u001b[39m=\u001b[39mmultiindex, columns\u001b[39m=\u001b[39mvalues\n\u001b[1;32m    517\u001b[0m         )\n\u001b[1;32m    518\u001b[0m     \u001b[39melse\u001b[39;00m:\n\u001b[0;32m--> 519\u001b[0m         indexed \u001b[39m=\u001b[39m data\u001b[39m.\u001b[39m_constructor_sliced(data[values]\u001b[39m.\u001b[39m_values, index\u001b[39m=\u001b[39mmultiindex)\n\u001b[1;32m    520\u001b[0m \u001b[39mreturn\u001b[39;00m indexed\u001b[39m.\u001b[39munstack(columns_listlike)\n",
      "File \u001b[0;32m~/opt/anaconda3/envs/traffic/lib/python3.10/site-packages/pandas/core/frame.py:3505\u001b[0m, in \u001b[0;36mDataFrame.__getitem__\u001b[0;34m(self, key)\u001b[0m\n\u001b[1;32m   3503\u001b[0m \u001b[39mif\u001b[39;00m \u001b[39mself\u001b[39m\u001b[39m.\u001b[39mcolumns\u001b[39m.\u001b[39mnlevels \u001b[39m>\u001b[39m \u001b[39m1\u001b[39m:\n\u001b[1;32m   3504\u001b[0m     \u001b[39mreturn\u001b[39;00m \u001b[39mself\u001b[39m\u001b[39m.\u001b[39m_getitem_multilevel(key)\n\u001b[0;32m-> 3505\u001b[0m indexer \u001b[39m=\u001b[39m \u001b[39mself\u001b[39;49m\u001b[39m.\u001b[39;49mcolumns\u001b[39m.\u001b[39;49mget_loc(key)\n\u001b[1;32m   3506\u001b[0m \u001b[39mif\u001b[39;00m is_integer(indexer):\n\u001b[1;32m   3507\u001b[0m     indexer \u001b[39m=\u001b[39m [indexer]\n",
      "File \u001b[0;32m~/opt/anaconda3/envs/traffic/lib/python3.10/site-packages/pandas/core/indexes/base.py:3631\u001b[0m, in \u001b[0;36mIndex.get_loc\u001b[0;34m(self, key, method, tolerance)\u001b[0m\n\u001b[1;32m   3629\u001b[0m     \u001b[39mreturn\u001b[39;00m \u001b[39mself\u001b[39m\u001b[39m.\u001b[39m_engine\u001b[39m.\u001b[39mget_loc(casted_key)\n\u001b[1;32m   3630\u001b[0m \u001b[39mexcept\u001b[39;00m \u001b[39mKeyError\u001b[39;00m \u001b[39mas\u001b[39;00m err:\n\u001b[0;32m-> 3631\u001b[0m     \u001b[39mraise\u001b[39;00m \u001b[39mKeyError\u001b[39;00m(key) \u001b[39mfrom\u001b[39;00m \u001b[39merr\u001b[39;00m\n\u001b[1;32m   3632\u001b[0m \u001b[39mexcept\u001b[39;00m \u001b[39mTypeError\u001b[39;00m:\n\u001b[1;32m   3633\u001b[0m     \u001b[39m# If we have a listlike key, _check_indexing_error will raise\u001b[39;00m\n\u001b[1;32m   3634\u001b[0m     \u001b[39m#  InvalidIndexError. Otherwise we fall through and re-raise\u001b[39;00m\n\u001b[1;32m   3635\u001b[0m     \u001b[39m#  the TypeError.\u001b[39;00m\n\u001b[1;32m   3636\u001b[0m     \u001b[39mself\u001b[39m\u001b[39m.\u001b[39m_check_indexing_error(key)\n",
      "\u001b[0;31mKeyError\u001b[0m: 'confidence_score'"
     ]
    }
   ],
   "source": [
    "df_downsampled_dens_tmc_1min_all_bh = pivot_df(\"tmc\", \"density\", 1, df=downsampled_tmc_1min_all_bh, busi_date=busi_date, num_slot=930, freq=1, start_time=start_time, end_time=end_time, output_file_path=\"../data/df_downsampled_dens_tmc_1min_all_bh.pkl\") "
   ]
  },
  {
   "cell_type": "markdown",
   "metadata": {},
   "source": [
    "#### 3.2 Vehicle-specific Speed & Density"
   ]
  },
  {
   "cell_type": "code",
   "execution_count": 35,
   "metadata": {},
   "outputs": [],
   "source": [
    "# downsampled_tmc_1min_truck_TSMO: shape (11055476, 7)\n",
    "downsampled_tmc_1min_truck_TSMO = pd.concat((downsampled_tmc_1min_truck_2022_bh, downsampled_tmc_1min_truck_2023_bh, downsampled_tmc_1min_truck_2022_Carroll, downsampled_tmc_1min_truck_2023_Carroll)).reset_index(drop=True)\n",
    "\n",
    "# downsampled_tmc_1min_pv_TSMO: shape (16744957, 7)\n",
    "downsampled_tmc_1min_pv_TSMO = pd.concat((downsampled_tmc_1min_pv_2022_bh, downsampled_tmc_1min_pv_2023_bh, downsampled_tmc_1min_pv_2022_Carroll, downsampled_tmc_1min_pv_2023_Carroll)).reset_index(drop=True)"
   ]
  },
  {
   "cell_type": "code",
   "execution_count": 37,
   "metadata": {},
   "outputs": [],
   "source": [
    "downsampled_tmc_1min_truck_TSMO.to_csv(\"/Volumes/Hao's WD/TSMO/Speed/downsampled_tmc_1min_truck_TSMO.csv\", index=False)\n",
    "downsampled_tmc_1min_pv_TSMO.to_csv(\"/Volumes/Hao's WD/TSMO/Speed/downsampled_tmc_1min_pv_TSMO.csv\", index=False)"
   ]
  },
  {
   "cell_type": "code",
   "execution_count": 28,
   "metadata": {},
   "outputs": [],
   "source": [
    "downsampled_tmc_5min_truck_TSMO = pd.read_csv(\"/Volumes/Hao's WD/TSMO/Speed/downsampled_tmc_5min_truck_TSMO.csv\")\n",
    "downsampled_tmc_5min_pv_TSMO = pd.read_csv(\"/Volumes/Hao's WD/TSMO/Speed/downsampled_tmc_5min_pv_TSMO.csv\")"
   ]
  },
  {
   "cell_type": "code",
   "execution_count": 30,
   "metadata": {},
   "outputs": [
    {
     "name": "stdout",
     "output_type": "stream",
     "text": [
      "Check dates of incomplete slots:\n",
      "Check dates of incomplete slots:\n",
      "Check dates of incomplete slots:\n",
      "Check dates of incomplete slots:\n"
     ]
    }
   ],
   "source": [
    "df_downsampled_spd_tmc_1min_truck_TSMO = pivot_df(\"tmc\", \"speed\", 5, df=downsampled_tmc_1min_truck_TSMO, busi_date=busi_date, num_slot=186, freq=5, start_time=start_time, end_time=end_time, output_file_path=\"../data/df_downsampled_spd_tmc_5min_truck_TSMO.pkl\") \n",
    "df_downsampled_dens_tmc_1min_truck_TSMO = pivot_df(\"tmc\", \"density\", 5, df=downsampled_tmc_1min_truck_TSMO, busi_date=busi_date, num_slot=186, freq=5, start_time=start_time, end_time=end_time, output_file_path=\"../data/df_downsampled_dens_tmc_5min_truck_TSMO.pkl\") \n",
    "df_downsampled_spd_tmc_1min_pv_TSMO = pivot_df(\"tmc\", \"speed\", 5, df=downsampled_tmc_1min_pv_TSMO, busi_date=busi_date, num_slot=186, freq=5, start_time=start_time, end_time=end_time, output_file_path=\"../data/df_downsampled_spd_tmc_5min_pv_TSMO.pkl\") \n",
    "df_downsampled_dens_tmc_1min_pv_TSMO = pivot_df(\"tmc\", \"density\", 5, df=downsampled_tmc_1min_pv_TSMO, busi_date=busi_date, num_slot=186, freq=5, start_time=start_time, end_time=end_time, output_file_path=\"../data/df_downsampled_dens_tmc_5min_pv_TSMO.pkl\") "
   ]
  },
  {
   "cell_type": "code",
   "execution_count": null,
   "metadata": {},
   "outputs": [],
   "source": []
  }
 ],
 "metadata": {
  "kernelspec": {
   "display_name": "Python 3.10.6 ('traffic')",
   "language": "python",
   "name": "python3"
  },
  "language_info": {
   "codemirror_mode": {
    "name": "ipython",
    "version": 3
   },
   "file_extension": ".py",
   "mimetype": "text/x-python",
   "name": "python",
   "nbconvert_exporter": "python",
   "pygments_lexer": "ipython3",
   "version": "3.10.8"
  },
  "orig_nbformat": 4,
  "vscode": {
   "interpreter": {
    "hash": "4c7976fd35f11d6b5acd37b5df05c2b1d9460872f4ccb0abe3e95e9a1eb343e6"
   }
  }
 },
 "nbformat": 4,
 "nbformat_minor": 2
}
