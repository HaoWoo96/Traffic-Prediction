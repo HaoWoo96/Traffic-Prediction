{
 "cells": [
  {
   "cell_type": "code",
   "execution_count": 1,
   "metadata": {},
   "outputs": [
    {
     "name": "stdout",
     "output_type": "stream",
     "text": [
      "/Users/haowu/Desktop/Transportation Research/Traffic-Prediction/data_processing/Maryland\n"
     ]
    }
   ],
   "source": [
    "! pwd"
   ]
  },
  {
   "cell_type": "code",
   "execution_count": 2,
   "metadata": {},
   "outputs": [
    {
     "name": "stdout",
     "output_type": "stream",
     "text": [
      "/Users/haowu/Desktop/Transportation Research/Traffic-Prediction/data_processing\n"
     ]
    }
   ],
   "source": [
    "%cd .."
   ]
  },
  {
   "cell_type": "code",
   "execution_count": 3,
   "metadata": {},
   "outputs": [],
   "source": [
    "import csv\n",
    "import pandas as pd\n",
    "import numpy as np\n",
    "import geopandas as gpd\n",
    "import networkx as nx\n",
    "import math\n",
    "import pickle\n",
    "\n",
    "import datetime\n",
    "from datetime import datetime as dt\n",
    "from collections import Counter\n",
    "from scipy.spatial.distance import cdist\n",
    "from scipy import stats\n",
    "from sklearn.preprocessing import MinMaxScaler\n",
    "from tqdm import tqdm\n",
    "from matplotlib import pyplot as plt\n",
    "\n",
    "from utils import *"
   ]
  },
  {
   "cell_type": "markdown",
   "metadata": {},
   "source": [
    "### 1. Hyperparameters"
   ]
  },
  {
   "cell_type": "code",
   "execution_count": 4,
   "metadata": {},
   "outputs": [],
   "source": [
    "# Time\n",
    "start_date = dt(2022, 2, 10)\n",
    "end_date = dt(2023, 2, 10)\n",
    "start_time = 330 # 05:30:00 \n",
    "end_time = 1260 # 21:00:00\n",
    "busi_date = pd.bdate_range(start=start_date, end=end_date).date "
   ]
  },
  {
   "cell_type": "code",
   "execution_count": 5,
   "metadata": {},
   "outputs": [
    {
     "data": {
      "text/plain": [
       "'\\nexecute the following code block only if set_hwd_tmc_segments_shp and set_hwd_xd_segments_str_shp are not in place\\n'"
      ]
     },
     "execution_count": 5,
     "metadata": {},
     "output_type": "execute_result"
    }
   ],
   "source": [
    "'''\n",
    "execute the following code block only if set_hwd_tmc_segments_shp and set_hwd_xd_segments_str_shp are not in place\n",
    "'''\n",
    "# # Segments\n",
    "# gdf_hwd_tmc = gpd.read_file(\"/Volumes/Hao's WD/Howard/Shapefiles/tmc_shape_hwd.geojson\")  # 1093 TMC segments in Howard, MD \n",
    "# gdf_hwd_xd = gpd.read_file(\"/Volumes/Hao's WD/Howard/Shapefiles/xd_shape_hwd_for_sjoin.geojson\")  # 1772 of 4723 XD segments in Howard, MD; used for spatial join\n",
    "\n",
    "# set_hwd_tmc_segments_shp = set(gdf_hwd_tmc.tmc)\n",
    "# set_hwd_xd_segments_str_shp = set(gdf_hwd_xd.xd.astype(str))\n",
    "\n",
    "# pickle.dump(set_hwd_tmc_segments_shp, open(\"./Maryland/set_hwd_tmc_segments_shp.pkl\", \"wb\"))\n",
    "# pickle.dump(set_hwd_xd_segments_str_shp, open(\"./Maryland/set_hwd_xd_segments_str_shp.pkl\", \"wb\"))"
   ]
  },
  {
   "cell_type": "code",
   "execution_count": 5,
   "metadata": {},
   "outputs": [],
   "source": [
    "df_hwd_xd_to_tmc = pickle.load(open(\"./Maryland/df_hwd_xd_to_tmc.pkl\", \"rb\"))\n",
    "set_hwd_xd_segments_sjoin = set(df_hwd_xd_to_tmc.id_xd_str)  # 1711"
   ]
  },
  {
   "cell_type": "markdown",
   "metadata": {},
   "source": [
    "### 2. Downsample Raw Speed Data Files"
   ]
  },
  {
   "cell_type": "code",
   "execution_count": 8,
   "metadata": {},
   "outputs": [
    {
     "ename": "OSError",
     "evalue": "[Errno 5] Input/output error: \"/Volumes/Hao's WD/Howard/Speed/howard_xd_1min/downsampled_hwd_xd_1min.csv\"",
     "output_type": "error",
     "traceback": [
      "\u001b[0;31m---------------------------------------------------------------------------\u001b[0m",
      "\u001b[0;31mOSError\u001b[0m                                   Traceback (most recent call last)",
      "\u001b[1;32m/Users/haowu/Desktop/Transportation Research/Traffic-Prediction/data_processing/Maryland/generate_downsample.ipynb Cell 10\u001b[0m in \u001b[0;36m<cell line: 13>\u001b[0;34m()\u001b[0m\n\u001b[1;32m      <a href='vscode-notebook-cell:/Users/haowu/Desktop/Transportation%20Research/Traffic-Prediction/data_processing/Maryland/generate_downsample.ipynb#X10sZmlsZQ%3D%3D?line=0'>1</a>\u001b[0m \u001b[39m'''\u001b[39;00m\n\u001b[1;32m      <a href='vscode-notebook-cell:/Users/haowu/Desktop/Transportation%20Research/Traffic-Prediction/data_processing/Maryland/generate_downsample.ipynb#X10sZmlsZQ%3D%3D?line=1'>2</a>\u001b[0m \u001b[39mExecute this code block ONLY IF downsampled csv data are not available on file\u001b[39;00m\n\u001b[1;32m      <a href='vscode-notebook-cell:/Users/haowu/Desktop/Transportation%20Research/Traffic-Prediction/data_processing/Maryland/generate_downsample.ipynb#X10sZmlsZQ%3D%3D?line=2'>3</a>\u001b[0m \u001b[39mtmc process and xd process cannot be executed simultaneously, otherwise the notebook will encounter kernel crash\u001b[39;00m\n\u001b[1;32m      <a href='vscode-notebook-cell:/Users/haowu/Desktop/Transportation%20Research/Traffic-Prediction/data_processing/Maryland/generate_downsample.ipynb#X10sZmlsZQ%3D%3D?line=3'>4</a>\u001b[0m \u001b[39m'''\u001b[39;00m\n\u001b[1;32m      <a href='vscode-notebook-cell:/Users/haowu/Desktop/Transportation%20Research/Traffic-Prediction/data_processing/Maryland/generate_downsample.ipynb#X10sZmlsZQ%3D%3D?line=5'>6</a>\u001b[0m \u001b[39m# # Take ~23 min to execute (~9 min in reading chunks (58 iterations), ~13 min in writing into dowmsampled csv file)\u001b[39;00m\n\u001b[1;32m      <a href='vscode-notebook-cell:/Users/haowu/Desktop/Transportation%20Research/Traffic-Prediction/data_processing/Maryland/generate_downsample.ipynb#X10sZmlsZQ%3D%3D?line=6'>7</a>\u001b[0m \u001b[39m# # downsampled_tmc_1min_all: shape (265241843, 8), contains all 1093 TMC segments as in set_hwd_tmc_segments_shp\u001b[39;00m\n\u001b[1;32m      <a href='vscode-notebook-cell:/Users/haowu/Desktop/Transportation%20Research/Traffic-Prediction/data_processing/Maryland/generate_downsample.ipynb#X10sZmlsZQ%3D%3D?line=7'>8</a>\u001b[0m \u001b[39m# downsampled_tmc_1min_all = downsample_large_dataset(\"tmc\", \"/Volumes/Hao's WD/Howard/Speed/howard_tmc_1min/hwd_tmc_1min_all.csv\", \"/Volumes/Hao's WD/Howard/Speed/howard_tmc_1min/downsampled_hwd_tmc_1min_all.csv\", set_hwd_tmc_segments_shp, busi_date, start_time, end_time)\u001b[39;00m\n\u001b[0;32m   (...)\u001b[0m\n\u001b[1;32m     <a href='vscode-notebook-cell:/Users/haowu/Desktop/Transportation%20Research/Traffic-Prediction/data_processing/Maryland/generate_downsample.ipynb#X10sZmlsZQ%3D%3D?line=10'>11</a>\u001b[0m \u001b[39m# # downsampled_xd_1min: shape (431282061, 8), contains all 1772 XD segments as in set_hwd_xd_segments_str_shp\u001b[39;00m\n\u001b[1;32m     <a href='vscode-notebook-cell:/Users/haowu/Desktop/Transportation%20Research/Traffic-Prediction/data_processing/Maryland/generate_downsample.ipynb#X10sZmlsZQ%3D%3D?line=11'>12</a>\u001b[0m \u001b[39m# downsampled_xd_1min = downsample_large_dataset(\"xd\", \"/Volumes/Hao's WD/Howard/Speed/howard_xd_1min/hwd_xd_1min.csv\", \"/Volumes/Hao's WD/Howard/Speed/howard_xd_1min/downsampled_hwd_xd_1min.csv\", set_hwd_xd_segments_str_shp, busi_date, start_time, end_time)\u001b[39;00m\n\u001b[0;32m---> <a href='vscode-notebook-cell:/Users/haowu/Desktop/Transportation%20Research/Traffic-Prediction/data_processing/Maryland/generate_downsample.ipynb#X10sZmlsZQ%3D%3D?line=12'>13</a>\u001b[0m downsampled_xd_1min \u001b[39m=\u001b[39m downsample_large_dataset(\u001b[39m\"\u001b[39;49m\u001b[39mxd\u001b[39;49m\u001b[39m\"\u001b[39;49m, \u001b[39m\"\u001b[39;49m\u001b[39m/Volumes/Hao\u001b[39;49m\u001b[39m'\u001b[39;49m\u001b[39ms WD/Howard/Speed/howard_xd_1min/downsampled_hwd_xd_1min.csv\u001b[39;49m\u001b[39m\"\u001b[39;49m, \u001b[39m\"\u001b[39;49m\u001b[39m/Volumes/Hao\u001b[39;49m\u001b[39m'\u001b[39;49m\u001b[39ms WD/Howard/Speed/howard_xd_1min/downsampled_hwd_xd_1min_1711.csv\u001b[39;49m\u001b[39m\"\u001b[39;49m, set_hwd_xd_segments_sjoin, busi_date, start_time, end_time)\n",
      "File \u001b[0;32m~/Desktop/Transportation Research/Traffic-Prediction/data_processing/utils.py:41\u001b[0m, in \u001b[0;36mdownsample_large_dataset\u001b[0;34m(type, input_file_path, output_file_path, set_segments, busi_date, start_time, end_time)\u001b[0m\n\u001b[1;32m     39\u001b[0m chunksize \u001b[39m=\u001b[39m \u001b[39m10\u001b[39m \u001b[39m*\u001b[39m\u001b[39m*\u001b[39m \u001b[39m7\u001b[39m\n\u001b[1;32m     40\u001b[0m chunklist \u001b[39m=\u001b[39m []\n\u001b[0;32m---> 41\u001b[0m \u001b[39mwith\u001b[39;00m pd\u001b[39m.\u001b[39;49mread_csv(input_file_path, chunksize\u001b[39m=\u001b[39;49mchunksize) \u001b[39mas\u001b[39;00m reader:\n\u001b[1;32m     42\u001b[0m     \u001b[39mif\u001b[39;00m \u001b[39mtype\u001b[39m \u001b[39m==\u001b[39m \u001b[39m\"\u001b[39m\u001b[39mtmc\u001b[39m\u001b[39m\"\u001b[39m:\n\u001b[1;32m     43\u001b[0m         \u001b[39mfor\u001b[39;00m chunk \u001b[39min\u001b[39;00m tqdm(reader):\n",
      "File \u001b[0;32m~/opt/anaconda3/envs/traffic/lib/python3.10/site-packages/pandas/util/_decorators.py:311\u001b[0m, in \u001b[0;36mdeprecate_nonkeyword_arguments.<locals>.decorate.<locals>.wrapper\u001b[0;34m(*args, **kwargs)\u001b[0m\n\u001b[1;32m    305\u001b[0m \u001b[39mif\u001b[39;00m \u001b[39mlen\u001b[39m(args) \u001b[39m>\u001b[39m num_allow_args:\n\u001b[1;32m    306\u001b[0m     warnings\u001b[39m.\u001b[39mwarn(\n\u001b[1;32m    307\u001b[0m         msg\u001b[39m.\u001b[39mformat(arguments\u001b[39m=\u001b[39marguments),\n\u001b[1;32m    308\u001b[0m         \u001b[39mFutureWarning\u001b[39;00m,\n\u001b[1;32m    309\u001b[0m         stacklevel\u001b[39m=\u001b[39mstacklevel,\n\u001b[1;32m    310\u001b[0m     )\n\u001b[0;32m--> 311\u001b[0m \u001b[39mreturn\u001b[39;00m func(\u001b[39m*\u001b[39;49margs, \u001b[39m*\u001b[39;49m\u001b[39m*\u001b[39;49mkwargs)\n",
      "File \u001b[0;32m~/opt/anaconda3/envs/traffic/lib/python3.10/site-packages/pandas/io/parsers/readers.py:678\u001b[0m, in \u001b[0;36mread_csv\u001b[0;34m(filepath_or_buffer, sep, delimiter, header, names, index_col, usecols, squeeze, prefix, mangle_dupe_cols, dtype, engine, converters, true_values, false_values, skipinitialspace, skiprows, skipfooter, nrows, na_values, keep_default_na, na_filter, verbose, skip_blank_lines, parse_dates, infer_datetime_format, keep_date_col, date_parser, dayfirst, cache_dates, iterator, chunksize, compression, thousands, decimal, lineterminator, quotechar, quoting, doublequote, escapechar, comment, encoding, encoding_errors, dialect, error_bad_lines, warn_bad_lines, on_bad_lines, delim_whitespace, low_memory, memory_map, float_precision, storage_options)\u001b[0m\n\u001b[1;32m    663\u001b[0m kwds_defaults \u001b[39m=\u001b[39m _refine_defaults_read(\n\u001b[1;32m    664\u001b[0m     dialect,\n\u001b[1;32m    665\u001b[0m     delimiter,\n\u001b[0;32m   (...)\u001b[0m\n\u001b[1;32m    674\u001b[0m     defaults\u001b[39m=\u001b[39m{\u001b[39m\"\u001b[39m\u001b[39mdelimiter\u001b[39m\u001b[39m\"\u001b[39m: \u001b[39m\"\u001b[39m\u001b[39m,\u001b[39m\u001b[39m\"\u001b[39m},\n\u001b[1;32m    675\u001b[0m )\n\u001b[1;32m    676\u001b[0m kwds\u001b[39m.\u001b[39mupdate(kwds_defaults)\n\u001b[0;32m--> 678\u001b[0m \u001b[39mreturn\u001b[39;00m _read(filepath_or_buffer, kwds)\n",
      "File \u001b[0;32m~/opt/anaconda3/envs/traffic/lib/python3.10/site-packages/pandas/io/parsers/readers.py:575\u001b[0m, in \u001b[0;36m_read\u001b[0;34m(filepath_or_buffer, kwds)\u001b[0m\n\u001b[1;32m    572\u001b[0m _validate_names(kwds\u001b[39m.\u001b[39mget(\u001b[39m\"\u001b[39m\u001b[39mnames\u001b[39m\u001b[39m\"\u001b[39m, \u001b[39mNone\u001b[39;00m))\n\u001b[1;32m    574\u001b[0m \u001b[39m# Create the parser.\u001b[39;00m\n\u001b[0;32m--> 575\u001b[0m parser \u001b[39m=\u001b[39m TextFileReader(filepath_or_buffer, \u001b[39m*\u001b[39;49m\u001b[39m*\u001b[39;49mkwds)\n\u001b[1;32m    577\u001b[0m \u001b[39mif\u001b[39;00m chunksize \u001b[39mor\u001b[39;00m iterator:\n\u001b[1;32m    578\u001b[0m     \u001b[39mreturn\u001b[39;00m parser\n",
      "File \u001b[0;32m~/opt/anaconda3/envs/traffic/lib/python3.10/site-packages/pandas/io/parsers/readers.py:932\u001b[0m, in \u001b[0;36mTextFileReader.__init__\u001b[0;34m(self, f, engine, **kwds)\u001b[0m\n\u001b[1;32m    929\u001b[0m     \u001b[39mself\u001b[39m\u001b[39m.\u001b[39moptions[\u001b[39m\"\u001b[39m\u001b[39mhas_index_names\u001b[39m\u001b[39m\"\u001b[39m] \u001b[39m=\u001b[39m kwds[\u001b[39m\"\u001b[39m\u001b[39mhas_index_names\u001b[39m\u001b[39m\"\u001b[39m]\n\u001b[1;32m    931\u001b[0m \u001b[39mself\u001b[39m\u001b[39m.\u001b[39mhandles: IOHandles \u001b[39m|\u001b[39m \u001b[39mNone\u001b[39;00m \u001b[39m=\u001b[39m \u001b[39mNone\u001b[39;00m\n\u001b[0;32m--> 932\u001b[0m \u001b[39mself\u001b[39m\u001b[39m.\u001b[39m_engine \u001b[39m=\u001b[39m \u001b[39mself\u001b[39;49m\u001b[39m.\u001b[39;49m_make_engine(f, \u001b[39mself\u001b[39;49m\u001b[39m.\u001b[39;49mengine)\n",
      "File \u001b[0;32m~/opt/anaconda3/envs/traffic/lib/python3.10/site-packages/pandas/io/parsers/readers.py:1216\u001b[0m, in \u001b[0;36mTextFileReader._make_engine\u001b[0;34m(self, f, engine)\u001b[0m\n\u001b[1;32m   1212\u001b[0m     mode \u001b[39m=\u001b[39m \u001b[39m\"\u001b[39m\u001b[39mrb\u001b[39m\u001b[39m\"\u001b[39m\n\u001b[1;32m   1213\u001b[0m \u001b[39m# error: No overload variant of \"get_handle\" matches argument types\u001b[39;00m\n\u001b[1;32m   1214\u001b[0m \u001b[39m# \"Union[str, PathLike[str], ReadCsvBuffer[bytes], ReadCsvBuffer[str]]\"\u001b[39;00m\n\u001b[1;32m   1215\u001b[0m \u001b[39m# , \"str\", \"bool\", \"Any\", \"Any\", \"Any\", \"Any\", \"Any\"\u001b[39;00m\n\u001b[0;32m-> 1216\u001b[0m \u001b[39mself\u001b[39m\u001b[39m.\u001b[39mhandles \u001b[39m=\u001b[39m get_handle(  \u001b[39m# type: ignore[call-overload]\u001b[39;49;00m\n\u001b[1;32m   1217\u001b[0m     f,\n\u001b[1;32m   1218\u001b[0m     mode,\n\u001b[1;32m   1219\u001b[0m     encoding\u001b[39m=\u001b[39;49m\u001b[39mself\u001b[39;49m\u001b[39m.\u001b[39;49moptions\u001b[39m.\u001b[39;49mget(\u001b[39m\"\u001b[39;49m\u001b[39mencoding\u001b[39;49m\u001b[39m\"\u001b[39;49m, \u001b[39mNone\u001b[39;49;00m),\n\u001b[1;32m   1220\u001b[0m     compression\u001b[39m=\u001b[39;49m\u001b[39mself\u001b[39;49m\u001b[39m.\u001b[39;49moptions\u001b[39m.\u001b[39;49mget(\u001b[39m\"\u001b[39;49m\u001b[39mcompression\u001b[39;49m\u001b[39m\"\u001b[39;49m, \u001b[39mNone\u001b[39;49;00m),\n\u001b[1;32m   1221\u001b[0m     memory_map\u001b[39m=\u001b[39;49m\u001b[39mself\u001b[39;49m\u001b[39m.\u001b[39;49moptions\u001b[39m.\u001b[39;49mget(\u001b[39m\"\u001b[39;49m\u001b[39mmemory_map\u001b[39;49m\u001b[39m\"\u001b[39;49m, \u001b[39mFalse\u001b[39;49;00m),\n\u001b[1;32m   1222\u001b[0m     is_text\u001b[39m=\u001b[39;49mis_text,\n\u001b[1;32m   1223\u001b[0m     errors\u001b[39m=\u001b[39;49m\u001b[39mself\u001b[39;49m\u001b[39m.\u001b[39;49moptions\u001b[39m.\u001b[39;49mget(\u001b[39m\"\u001b[39;49m\u001b[39mencoding_errors\u001b[39;49m\u001b[39m\"\u001b[39;49m, \u001b[39m\"\u001b[39;49m\u001b[39mstrict\u001b[39;49m\u001b[39m\"\u001b[39;49m),\n\u001b[1;32m   1224\u001b[0m     storage_options\u001b[39m=\u001b[39;49m\u001b[39mself\u001b[39;49m\u001b[39m.\u001b[39;49moptions\u001b[39m.\u001b[39;49mget(\u001b[39m\"\u001b[39;49m\u001b[39mstorage_options\u001b[39;49m\u001b[39m\"\u001b[39;49m, \u001b[39mNone\u001b[39;49;00m),\n\u001b[1;32m   1225\u001b[0m )\n\u001b[1;32m   1226\u001b[0m \u001b[39massert\u001b[39;00m \u001b[39mself\u001b[39m\u001b[39m.\u001b[39mhandles \u001b[39mis\u001b[39;00m \u001b[39mnot\u001b[39;00m \u001b[39mNone\u001b[39;00m\n\u001b[1;32m   1227\u001b[0m f \u001b[39m=\u001b[39m \u001b[39mself\u001b[39m\u001b[39m.\u001b[39mhandles\u001b[39m.\u001b[39mhandle\n",
      "File \u001b[0;32m~/opt/anaconda3/envs/traffic/lib/python3.10/site-packages/pandas/io/common.py:786\u001b[0m, in \u001b[0;36mget_handle\u001b[0;34m(path_or_buf, mode, encoding, compression, memory_map, is_text, errors, storage_options)\u001b[0m\n\u001b[1;32m    781\u001b[0m \u001b[39melif\u001b[39;00m \u001b[39misinstance\u001b[39m(handle, \u001b[39mstr\u001b[39m):\n\u001b[1;32m    782\u001b[0m     \u001b[39m# Check whether the filename is to be opened in binary mode.\u001b[39;00m\n\u001b[1;32m    783\u001b[0m     \u001b[39m# Binary mode does not support 'encoding' and 'newline'.\u001b[39;00m\n\u001b[1;32m    784\u001b[0m     \u001b[39mif\u001b[39;00m ioargs\u001b[39m.\u001b[39mencoding \u001b[39mand\u001b[39;00m \u001b[39m\"\u001b[39m\u001b[39mb\u001b[39m\u001b[39m\"\u001b[39m \u001b[39mnot\u001b[39;00m \u001b[39min\u001b[39;00m ioargs\u001b[39m.\u001b[39mmode:\n\u001b[1;32m    785\u001b[0m         \u001b[39m# Encoding\u001b[39;00m\n\u001b[0;32m--> 786\u001b[0m         handle \u001b[39m=\u001b[39m \u001b[39mopen\u001b[39;49m(\n\u001b[1;32m    787\u001b[0m             handle,\n\u001b[1;32m    788\u001b[0m             ioargs\u001b[39m.\u001b[39;49mmode,\n\u001b[1;32m    789\u001b[0m             encoding\u001b[39m=\u001b[39;49mioargs\u001b[39m.\u001b[39;49mencoding,\n\u001b[1;32m    790\u001b[0m             errors\u001b[39m=\u001b[39;49merrors,\n\u001b[1;32m    791\u001b[0m             newline\u001b[39m=\u001b[39;49m\u001b[39m\"\u001b[39;49m\u001b[39m\"\u001b[39;49m,\n\u001b[1;32m    792\u001b[0m         )\n\u001b[1;32m    793\u001b[0m     \u001b[39melse\u001b[39;00m:\n\u001b[1;32m    794\u001b[0m         \u001b[39m# Binary mode\u001b[39;00m\n\u001b[1;32m    795\u001b[0m         handle \u001b[39m=\u001b[39m \u001b[39mopen\u001b[39m(handle, ioargs\u001b[39m.\u001b[39mmode)\n",
      "\u001b[0;31mOSError\u001b[0m: [Errno 5] Input/output error: \"/Volumes/Hao's WD/Howard/Speed/howard_xd_1min/downsampled_hwd_xd_1min.csv\""
     ]
    }
   ],
   "source": [
    "'''\n",
    "Execute this code block ONLY IF downsampled csv data are not available on file\n",
    "tmc process and xd process cannot be executed simultaneously, otherwise the notebook will encounter kernel crash\n",
    "'''\n",
    "\n",
    "# # Take ~23 min to execute (~9 min in reading chunks (58 iterations), ~13 min in writing into dowmsampled csv file)\n",
    "# # downsampled_tmc_1min_all: shape (265241843, 8), contains all 1093 TMC segments as in set_hwd_tmc_segments_shp\n",
    "# downsampled_tmc_1min_all = downsample_large_dataset(\"tmc\", \"/Volumes/Hao's WD/Howard/Speed/howard_tmc_1min/hwd_tmc_1min_all.csv\", \"/Volumes/Hao's WD/Howard/Speed/howard_tmc_1min/downsampled_hwd_tmc_1min_all.csv\", set_hwd_tmc_segments_shp, busi_date, start_time, end_time)\n",
    "\n",
    "# # Take ~64 min to execute (~45 min in reading chunks (248 iterations), ~ 19 min in writing into dowmsampled csv file)\n",
    "# # downsampled_xd_1min: shape (431282061, 8), contains all 1772 XD segments as in set_hwd_xd_segments_str_shp\n",
    "# downsampled_xd_1min = downsample_large_dataset(\"xd\", \"/Volumes/Hao's WD/Howard/Speed/howard_xd_1min/hwd_xd_1min.csv\", \"/Volumes/Hao's WD/Howard/Speed/howard_xd_1min/downsampled_hwd_xd_1min.csv\", set_hwd_xd_segments_str_shp, busi_date, start_time, end_time)\n",
    "downsampled_xd_1min = downsample_large_dataset(\"xd\", \"/Volumes/Hao's WD/Howard/Speed/howard_xd_1min/downsampled_hwd_xd_1min.csv\", \"/Volumes/Hao's WD/Howard/Speed/howard_xd_1min/downsampled_hwd_xd_1min_1711.csv\", set_hwd_xd_segments_sjoin, busi_date, start_time, end_time)"
   ]
  },
  {
   "cell_type": "code",
   "execution_count": 6,
   "metadata": {},
   "outputs": [
    {
     "ename": "",
     "evalue": "",
     "output_type": "error",
     "traceback": [
      "\u001b[1;31mThe Kernel crashed while executing code in the the current cell or a previous cell. Please review the code in the cell(s) to identify a possible cause of the failure. Click <a href='https://aka.ms/vscodeJupyterKernelCrash'>here</a> for more info. View Jupyter <a href='command:jupyter.viewOutput'>log</a> for further details."
     ]
    },
    {
     "ename": "",
     "evalue": "",
     "output_type": "error",
     "traceback": [
      "\u001b[1;31mCanceled future for execute_request message before replies were done"
     ]
    }
   ],
   "source": [
    "downsampled_xd_1min = pd.read_csv(\"/Volumes/Hao's WD/Howard/Speed/howard_xd_1min/downsampled_hwd_xd_1min.csv\")"
   ]
  },
  {
   "cell_type": "markdown",
   "metadata": {},
   "source": [
    "### 3. Pivot Downsampled Data and Generate Speed/Density Dataframe"
   ]
  },
  {
   "cell_type": "code",
   "execution_count": null,
   "metadata": {},
   "outputs": [
    {
     "ename": "",
     "evalue": "",
     "output_type": "error",
     "traceback": [
      "\u001b[1;31mThe Kernel crashed while executing code in the the current cell or a previous cell. Please review the code in the cell(s) to identify a possible cause of the failure. Click <a href='https://aka.ms/vscodeJupyterKernelCrash'>here</a> for more info. View Jupyter <a href='command:jupyter.viewOutput'>log</a> for further details."
     ]
    },
    {
     "ename": "",
     "evalue": "",
     "output_type": "error",
     "traceback": [
      "\u001b[1;31mCanceled future for execute_request message before replies were done"
     ]
    }
   ],
   "source": [
    "df_downsampled_spd_xd_1min = pivot_df(\"xd\", \"speed\", 1, df=downsampled_xd_1min, busi_date=busi_date, num_slot=930, freq=1, start_time=start_time, end_time=end_time, output_file_path=\"/Volumes/Hao's WD/Howard/Speed/howard_xd_1min/df_downsampled_hwd_spd_xd_1min_1772.pkl\") "
   ]
  },
  {
   "cell_type": "code",
   "execution_count": null,
   "metadata": {},
   "outputs": [],
   "source": [
    "df_downsampled_dens_xd_1min = pivot_df(\"xd\", \"density\", 1, df=downsampled_xd_1min, busi_date=busi_date, num_slot=930, freq=1, start_time=start_time, end_time=end_time, output_file_path=\"../../data/speed/cranberry_xd_1min/df_downsampled_hwd_dens_xd_1min_1772.pkl\") "
   ]
  }
 ],
 "metadata": {
  "kernelspec": {
   "display_name": "Python 3.10.6 ('traffic')",
   "language": "python",
   "name": "python3"
  },
  "language_info": {
   "codemirror_mode": {
    "name": "ipython",
    "version": 3
   },
   "file_extension": ".py",
   "mimetype": "text/x-python",
   "name": "python",
   "nbconvert_exporter": "python",
   "pygments_lexer": "ipython3",
   "version": "3.10.6"
  },
  "orig_nbformat": 4,
  "vscode": {
   "interpreter": {
    "hash": "4c7976fd35f11d6b5acd37b5df05c2b1d9460872f4ccb0abe3e95e9a1eb343e6"
   }
  }
 },
 "nbformat": 4,
 "nbformat_minor": 2
}
