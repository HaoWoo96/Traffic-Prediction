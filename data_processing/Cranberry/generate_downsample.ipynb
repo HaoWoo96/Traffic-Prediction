{
 "cells": [
  {
   "cell_type": "code",
   "execution_count": 1,
   "metadata": {},
   "outputs": [],
   "source": [
    "import csv\n",
    "import pandas as pd\n",
    "import numpy as np\n",
    "import geopandas as gpd\n",
    "import networkx as nx\n",
    "import math\n",
    "import pickle\n",
    "\n",
    "import datetime\n",
    "from datetime import datetime as dt\n",
    "from collections import Counter\n",
    "from scipy.spatial.distance import cdist\n",
    "from scipy import stats\n",
    "from sklearn.preprocessing import MinMaxScaler\n",
    "from tqdm import tqdm\n",
    "from matplotlib import pyplot as plt\n",
    "\n",
    "from utils import *"
   ]
  },
  {
   "cell_type": "code",
   "execution_count": 2,
   "metadata": {},
   "outputs": [],
   "source": [
    "# Hyper-paramters\n",
    "\n",
    "# Time\n",
    "start_date = dt(2019, 2, 10)\n",
    "end_date = dt(2019, 7, 23)\n",
    "start_time = 330 # 05:30:00 \n",
    "end_time = 1260 # 21:00:00\n",
    "busi_date = pd.bdate_range(start=start_date, end=end_date).date \n",
    "\n",
    "# Segments\n",
    "set_tmc_segments_within_spd_shp = pickle.load(open(\"./set_tmc_segments_within_spd_shp.pkl\", \"rb\"))  # 1000\n",
    "set_xd_segments_str_spd_shp = pickle.load(open(\"./set_xd_segments_str_spd_shp.pkl\", \"rb\"))  # 1231\n",
    "df_xd_to_tmc = pickle.load(open(\"../../data/xd_to_tmc_v2.pkl\", \"rb\"))"
   ]
  },
  {
   "cell_type": "markdown",
   "metadata": {},
   "source": [
    "### 1. Downsample Raw Data Files"
   ]
  },
  {
   "cell_type": "code",
   "execution_count": 12,
   "metadata": {},
   "outputs": [],
   "source": [
    "'''\n",
    "Execute this code block ONLY IF downsampled csv data are not available on file\n",
    "'''\n",
    "\n",
    "# downsampled_tmc_5min_all = downsample_dataset(\"tmc\", \"../../data/speed/cranberry_tmc_5min/cran_tmc_5min_all.csv\",\"../../data/speed/cranberry_tmc_5min/downsampled_cran_tmc_5min_all.csv\", set_tmc_segments_within_spd_shp, busi_date, start_time, end_time)\n",
    "# downsampled_tmc_5min_pv = downsample_dataset(\"tmc\", \"../../data/speed/cranberry_tmc_5min/cran_tmc_5min_pv.csv\",\"../../data/speed/cranberry_tmc_5min/downsampled_cran_tmc_5min_pv.csv\", set_tmc_segments_within_spd_shp, busi_date, start_time, end_time)\n",
    "# downsampled_tmc_5min_truck = downsample_dataset(\"tmc\", \"../../data/speed/cranberry_tmc_5min/cran_tmc_5min_truck.csv\",\"../../data/speed/cranberry_tmc_5min/downsampled_cran_tmc_5min_truck.csv\", set_tmc_segments_within_spd_shp, busi_date, start_time, end_time)\n",
    "# downsampled_tmc_1min_all = downsample_large_dataset(\"tmc\", \"../../data/speed/cranberry_tmc_1min/cran_tmc_1min_all.csv\",\"../../data/speed/cranberry_tmc_1min/downsampled_cran_tmc_1min_all.csv\", set_tmc_segments_within_spd_shp, busi_date, start_time, end_time)\n",
    "# downsampled_xd_1min = downsample_large_dataset(\"xd\", \"../../data/speed/cranberry_xd_1min/cran_xd_1min.csv\",\"../../data/speed/cranberry_tmc_1min/downsampled_cran_xd_1min.csv\", set_xd_segments_str_spd_shp, busi_date, start_time, end_time)"
   ]
  },
  {
   "cell_type": "code",
   "execution_count": 3,
   "metadata": {},
   "outputs": [],
   "source": [
    "downsampled_tmc_5min_all = pd.read_csv(\"../../data/speed/cranberry_tmc_5min/downsampled_cran_tmc_5min_all.csv\")\n",
    "downsampled_tmc_5min_pv = pd.read_csv(\"../../data/speed/cranberry_tmc_5min/downsampled_cran_tmc_5min_pv.csv\")\n",
    "downsampled_tmc_5min_truck = pd.read_csv(\"../../data/speed/cranberry_tmc_5min/downsampled_cran_tmc_5min_truck.csv\")\n",
    "downsampled_tmc_1min_all = pd.read_csv(\"../../data/speed/cranberry_tmc_1min/downsampled_cran_tmc_1min_all.csv\")\n",
    "downsampled_xd_1min = pd.read_csv(\"../../data/speed/cranberry_xd_1min/downsampled_cran_xd_1min.csv\")"
   ]
  },
  {
   "cell_type": "code",
   "execution_count": 4,
   "metadata": {},
   "outputs": [
    {
     "data": {
      "text/plain": [
       "((5070347, 7), (4767297, 7), (2186937, 7), (106627081, 8), (117040954, 8))"
      ]
     },
     "execution_count": 4,
     "metadata": {},
     "output_type": "execute_result"
    }
   ],
   "source": [
    "downsampled_tmc_5min_all.shape, downsampled_tmc_5min_pv.shape, downsampled_tmc_5min_truck.shape, downsampled_tmc_1min_all.shape, downsampled_xd_1min.shape"
   ]
  },
  {
   "cell_type": "markdown",
   "metadata": {},
   "source": [
    "### 2. Pivot Downsampled Data and Generate Speed/Density Dataframe"
   ]
  },
  {
   "cell_type": "markdown",
   "metadata": {},
   "source": [
    "#### 2.1 Generate Speed Dataframe"
   ]
  },
  {
   "cell_type": "code",
   "execution_count": 5,
   "metadata": {},
   "outputs": [
    {
     "name": "stdout",
     "output_type": "stream",
     "text": [
      "Check dates of incomplete slots:\n",
      "Check dates of incomplete slots:\n",
      "2019-02-22 185\n",
      "2019-02-25 183\n",
      "2019-04-25 185\n",
      "Check dates of incomplete slots:\n",
      "2019-02-13 185\n",
      "2019-02-20 185\n",
      "2019-02-22 185\n",
      "2019-02-25 181\n",
      "2019-02-27 185\n",
      "2019-04-25 185\n",
      "Check dates of incomplete slots:\n",
      "2019-02-21 177\n",
      "2019-02-22 178\n",
      "2019-02-25 177\n",
      "2019-02-27 177\n",
      "2019-04-25 177\n",
      "Check dates of incomplete slots:\n",
      "2019-02-14 847\n",
      "2019-03-19 924\n",
      "2019-03-20 929\n",
      "2019-03-29 929\n",
      "2019-04-16 807\n",
      "2019-04-17 362\n",
      "2019-04-18 605\n",
      "2019-04-19 769\n",
      "2019-04-22 927\n",
      "2019-04-23 927\n",
      "2019-04-24 928\n",
      "2019-04-25 926\n",
      "2019-04-29 929\n",
      "2019-04-30 929\n",
      "2019-05-01 929\n",
      "2019-05-03 926\n",
      "2019-05-07 928\n",
      "2019-05-09 925\n",
      "2019-05-10 926\n",
      "2019-05-14 923\n",
      "2019-05-15 925\n",
      "2019-05-16 924\n",
      "2019-05-17 928\n",
      "2019-05-20 929\n",
      "2019-05-21 929\n",
      "2019-05-22 929\n",
      "2019-05-23 929\n",
      "2019-05-24 925\n",
      "2019-05-29 925\n",
      "2019-05-30 928\n",
      "2019-05-31 927\n",
      "2019-06-03 925\n",
      "2019-06-04 924\n",
      "2019-06-05 926\n",
      "2019-06-06 926\n",
      "2019-06-07 925\n",
      "2019-06-10 921\n",
      "2019-06-11 921\n",
      "2019-06-12 920\n",
      "2019-06-13 921\n",
      "2019-06-14 922\n",
      "2019-06-17 922\n",
      "2019-06-18 924\n",
      "2019-06-19 926\n",
      "2019-06-20 927\n",
      "2019-06-21 928\n",
      "2019-06-24 927\n",
      "2019-06-25 920\n",
      "2019-06-26 927\n",
      "2019-06-27 926\n",
      "2019-06-28 925\n",
      "2019-07-01 927\n",
      "2019-07-02 925\n",
      "2019-07-03 922\n",
      "2019-07-04 927\n",
      "2019-07-05 926\n",
      "2019-07-08 929\n",
      "2019-07-09 919\n",
      "2019-07-10 924\n",
      "2019-07-11 924\n",
      "2019-07-12 929\n",
      "2019-07-15 929\n",
      "2019-07-16 929\n",
      "2019-07-17 929\n",
      "2019-07-18 929\n",
      "2019-07-23 928\n"
     ]
    }
   ],
   "source": [
    "df_downsampled_spd_xd_1min = pivot_df(\"xd\", \"speed\", 1, df=downsampled_xd_1min, busi_date=busi_date, num_slot=930, freq=1, start_time=start_time, end_time=end_time, output_file_path=\"../../data/speed/cranberry_xd_1min/df_downsampled_spd_xd_1min_1104.pkl\") \n",
    "df_downsampled_spd_tmc_5min_all = pivot_df(\"tmc\", \"speed\", 5,  df=downsampled_tmc_5min_all, busi_date=busi_date, num_slot=186, freq=5, start_time=start_time, end_time=end_time, output_file_path=\"../../data/speed/cranberry_tmc_5min/df_downsampled_spd_tmc_5min_all_435.pkl\")\n",
    "df_downsampled_spd_tmc_5min_pv = pivot_df(\"tmc\", \"speed\", 5, df=downsampled_tmc_5min_pv, busi_date=busi_date, num_slot=186, freq=5, start_time=start_time, end_time=end_time, output_file_path=\"../../data/speed/cranberry_tmc_5min/df_downsampled_spd_tmc_5min_pv_435.pkl\")\n",
    "df_downsampled_spd_tmc_5min_truck = pivot_df(\"tmc\", \"speed\", 5, df=downsampled_tmc_5min_truck, busi_date=busi_date, num_slot=186, freq=5, start_time=start_time, end_time=end_time, output_file_path=\"../../data/speed/cranberry_tmc_5min/df_downsampled_spd_tmc_5min_truck_435.pkl\")\n",
    "df_downsampled_spd_tmc_1min_all = pivot_df(\"tmc\", \"speed\", 1, df=downsampled_tmc_1min_all, busi_date=busi_date, num_slot=930, freq=1, start_time=start_time, end_time=end_time, output_file_path=\"../../data/speed/cranberry_tmc_1min/df_downsampled_spd_tmc_1min_all_1000.pkl\") "
   ]
  },
  {
   "cell_type": "code",
   "execution_count": 6,
   "metadata": {},
   "outputs": [
    {
     "data": {
      "text/plain": [
       "((108810, 1104), (21762, 435), (21762, 435), (21762, 424), (108810, 1000))"
      ]
     },
     "execution_count": 6,
     "metadata": {},
     "output_type": "execute_result"
    }
   ],
   "source": [
    "df_downsampled_spd_xd_1min.shape, df_downsampled_spd_tmc_5min_all.shape, df_downsampled_spd_tmc_5min_pv.shape, df_downsampled_spd_tmc_5min_truck.shape, df_downsampled_spd_tmc_1min_all.shape"
   ]
  },
  {
   "cell_type": "markdown",
   "metadata": {},
   "source": [
    "#### 2.2 Generate Density Dataframe"
   ]
  },
  {
   "cell_type": "code",
   "execution_count": 7,
   "metadata": {},
   "outputs": [
    {
     "name": "stdout",
     "output_type": "stream",
     "text": [
      "Check dates of incomplete slots:\n",
      "Check dates of incomplete slots:\n",
      "2019-02-22 185\n",
      "2019-02-25 183\n",
      "2019-04-25 185\n",
      "Check dates of incomplete slots:\n",
      "2019-02-13 185\n",
      "2019-02-20 185\n",
      "2019-02-22 185\n",
      "2019-02-25 181\n",
      "2019-02-27 185\n",
      "2019-04-25 185\n",
      "Check dates of incomplete slots:\n",
      "2019-02-21 177\n",
      "2019-02-22 178\n",
      "2019-02-25 177\n",
      "2019-02-27 177\n",
      "2019-04-25 177\n",
      "Check dates of incomplete slots:\n",
      "2019-02-14 847\n",
      "2019-03-19 924\n",
      "2019-03-20 929\n",
      "2019-03-29 929\n",
      "2019-04-16 807\n",
      "2019-04-17 362\n",
      "2019-04-18 605\n",
      "2019-04-19 769\n",
      "2019-04-22 927\n",
      "2019-04-23 927\n",
      "2019-04-24 928\n",
      "2019-04-25 926\n",
      "2019-04-29 929\n",
      "2019-04-30 929\n",
      "2019-05-01 929\n",
      "2019-05-03 926\n",
      "2019-05-07 928\n",
      "2019-05-09 925\n",
      "2019-05-10 926\n",
      "2019-05-14 923\n",
      "2019-05-15 925\n",
      "2019-05-16 924\n",
      "2019-05-17 928\n",
      "2019-05-20 929\n",
      "2019-05-21 929\n",
      "2019-05-22 929\n",
      "2019-05-23 929\n",
      "2019-05-24 925\n",
      "2019-05-29 925\n",
      "2019-05-30 928\n",
      "2019-05-31 927\n",
      "2019-06-03 925\n",
      "2019-06-04 924\n",
      "2019-06-05 926\n",
      "2019-06-06 926\n",
      "2019-06-07 925\n",
      "2019-06-10 921\n",
      "2019-06-11 921\n",
      "2019-06-12 920\n",
      "2019-06-13 921\n",
      "2019-06-14 922\n",
      "2019-06-17 922\n",
      "2019-06-18 924\n",
      "2019-06-19 926\n",
      "2019-06-20 927\n",
      "2019-06-21 928\n",
      "2019-06-24 927\n",
      "2019-06-25 920\n",
      "2019-06-26 927\n",
      "2019-06-27 926\n",
      "2019-06-28 925\n",
      "2019-07-01 927\n",
      "2019-07-02 925\n",
      "2019-07-03 922\n",
      "2019-07-04 927\n",
      "2019-07-05 926\n",
      "2019-07-08 929\n",
      "2019-07-09 919\n",
      "2019-07-10 924\n",
      "2019-07-11 924\n",
      "2019-07-12 929\n",
      "2019-07-15 929\n",
      "2019-07-16 929\n",
      "2019-07-17 929\n",
      "2019-07-18 929\n",
      "2019-07-23 928\n"
     ]
    }
   ],
   "source": [
    "df_downsampled_dens_xd_1min = pivot_df(\"xd\", \"density\", 1, df=downsampled_xd_1min, busi_date=busi_date, num_slot=930, freq=1, start_time=start_time, end_time=end_time, output_file_path=\"../../data/speed/cranberry_xd_1min/df_downsampled_dens_xd_1min_1104.pkl\") \n",
    "df_downsampled_dens_tmc_5min_all = pivot_df(\"tmc\", \"density\", 5, df=downsampled_tmc_5min_all, busi_date=busi_date, num_slot=186, freq=5, start_time=start_time, end_time=end_time, output_file_path=\"../../data/speed/cranberry_tmc_5min/df_downsampled_dens_tmc_5min_all_435.pkl\")\n",
    "df_downsampled_dens_tmc_5min_pv = pivot_df(\"tmc\", \"density\", 5, df=downsampled_tmc_5min_pv, busi_date=busi_date, num_slot=186, freq=5, start_time=start_time, end_time=end_time, output_file_path=\"../../data/speed/cranberry_tmc_5min/df_downsampled_dens_tmc_5min_pv_435.pkl\")\n",
    "df_downsampled_dens_tmc_5min_truck = pivot_df(\"tmc\", \"density\", 5, df=downsampled_tmc_5min_truck, busi_date=busi_date, num_slot=186, freq=5, start_time=start_time, end_time=end_time, output_file_path=\"../../data/speed/cranberry_tmc_5min/df_downsampled_dens_tmc_5min_truck_435.pkl\")\n",
    "df_downsampled_dens_tmc_1min_all = pivot_df(\"tmc\", \"density\", 1, df=downsampled_tmc_1min_all, busi_date=busi_date, num_slot=930, freq=1, start_time=start_time, end_time=end_time, output_file_path=\"../../data/speed/cranberry_tmc_1min/df_downsampled_dens_tmc_1min_all_1000.pkl\") "
   ]
  }
 ],
 "metadata": {
  "kernelspec": {
   "display_name": "Python 3.10.6 ('traffic')",
   "language": "python",
   "name": "python3"
  },
  "language_info": {
   "codemirror_mode": {
    "name": "ipython",
    "version": 3
   },
   "file_extension": ".py",
   "mimetype": "text/x-python",
   "name": "python",
   "nbconvert_exporter": "python",
   "pygments_lexer": "ipython3",
   "version": "3.10.6"
  },
  "orig_nbformat": 4,
  "vscode": {
   "interpreter": {
    "hash": "4c7976fd35f11d6b5acd37b5df05c2b1d9460872f4ccb0abe3e95e9a1eb343e6"
   }
  }
 },
 "nbformat": 4,
 "nbformat_minor": 2
}
