{
 "cells": [
  {
   "cell_type": "markdown",
   "metadata": {},
   "source": [
    "### Baseline - Historical Average"
   ]
  },
  {
   "cell_type": "code",
   "execution_count": 2,
   "metadata": {},
   "outputs": [],
   "source": [
    "import numpy as np"
   ]
  },
  {
   "cell_type": "code",
   "execution_count": 16,
   "metadata": {},
   "outputs": [],
   "source": [
    "days = 164\n",
    "daily_slots_tmc = 180\n",
    "daily_slots_xd = 900\n",
    "\n",
    "spd_tmc = np.load(\"../data/new_Y_tmc.npy\")[..., :3]  # (29520, 70, 3)\n",
    "inc_tmc = np.load(\"../data/new_Y_tmc.npy\")[..., 3]  # (29520, 70)\n",
    "\n",
    "spd_xd = np.load(\"../data/new_Y_xd.npy\")[..., 0]  # (147600, 70)\n",
    "inc_xd = np.load(\"../data/new_Y_xd.npy\")[..., 1]  # (147600, 70)"
   ]
  },
  {
   "cell_type": "code",
   "execution_count": 17,
   "metadata": {},
   "outputs": [],
   "source": [
    "# compute historical average \n",
    "ha_target_tmc = spd_tmc[daily_slots_tmc:]\n",
    "spd_tmc = spd_tmc.reshape(days, daily_slots_tmc, 70, 3)\n",
    "ha_pred_tmc = []\n",
    "for i in range(1, days):\n",
    "    ha_pred_tmc.append(np.mean(spd_tmc[:i], axis=0))\n",
    "ha_pred_tmc = np.concatenate(ha_pred_tmc, axis=0)  # (29340, 70, 3)\n"
   ]
  },
  {
   "cell_type": "code",
   "execution_count": 19,
   "metadata": {},
   "outputs": [],
   "source": [
    "ha_mse_tmc = (np.mean((ha_target_tmc-ha_pred_tmc)**2))**0.5  # 7.980589773672597\n",
    "ha_mape_tmc = np.mean(np.abs(ha_target_tmc-ha_pred_tmc)/ha_target_tmc)  # 0.21689376021551157"
   ]
  },
  {
   "cell_type": "code",
   "execution_count": 21,
   "metadata": {},
   "outputs": [],
   "source": [
    "# compute historical average \n",
    "ha_target_xd = spd_xd[daily_slots_xd:]\n",
    "spd_xd = spd_xd.reshape(days, daily_slots_xd, 70)\n",
    "ha_pred_xd = []\n",
    "for i in range(1, days):\n",
    "    ha_pred_xd.append(np.mean(spd_xd[:i], axis=0))\n",
    "ha_pred_xd = np.concatenate(ha_pred_xd, axis=0)  # (146700, 70)\n"
   ]
  },
  {
   "cell_type": "code",
   "execution_count": 22,
   "metadata": {},
   "outputs": [],
   "source": [
    "ha_mse_xd = (np.mean((ha_target_xd-ha_pred_xd)**2))**0.5  # 7.017078910298748\n",
    "ha_mape_xd = np.mean(np.abs(ha_target_xd-ha_pred_xd)/ha_target_xd)  # 0.17807278834197235"
   ]
  }
 ],
 "metadata": {
  "kernelspec": {
   "display_name": "Python 3.10.4 ('traffic')",
   "language": "python",
   "name": "python3"
  },
  "language_info": {
   "codemirror_mode": {
    "name": "ipython",
    "version": 3
   },
   "file_extension": ".py",
   "mimetype": "text/x-python",
   "name": "python",
   "nbconvert_exporter": "python",
   "pygments_lexer": "ipython3",
   "version": "3.10.5"
  },
  "orig_nbformat": 4,
  "vscode": {
   "interpreter": {
    "hash": "488a0874a25c42a755cfa77c908f3fb6db2599fceafd72a5c2b23ace03280116"
   }
  }
 },
 "nbformat": 4,
 "nbformat_minor": 2
}
